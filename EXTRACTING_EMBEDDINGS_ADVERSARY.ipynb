{
  "nbformat": 4,
  "nbformat_minor": 0,
  "metadata": {
    "colab": {
      "name": "EXTRACTING EMBEDDINGS ADVERSARY",
      "provenance": []
    },
    "kernelspec": {
      "name": "python3",
      "display_name": "Python 3"
    },
    "language_info": {
      "name": "python"
    }
  },
  "cells": [
    {
      "cell_type": "markdown",
      "metadata": {
        "id": "5ngNlQCVrSYf"
      },
      "source": [
        "# **1. Extracting BERT Embeddings**\n",
        "\n",
        "## 1.1 Method 1\n",
        "\n"
      ]
    },
    {
      "cell_type": "code",
      "metadata": {
        "id": "--oO2MrlaLkS",
        "colab": {
          "base_uri": "https://localhost:8080/"
        },
        "outputId": "ae299c91-0981-4f40-934e-2e08604958e9"
      },
      "source": [
        "!pip install transformers"
      ],
      "execution_count": null,
      "outputs": [
        {
          "output_type": "stream",
          "name": "stdout",
          "text": [
            "Collecting transformers\n",
            "  Downloading transformers-4.11.3-py3-none-any.whl (2.9 MB)\n",
            "\u001b[K     |████████████████████████████████| 2.9 MB 5.1 MB/s \n",
            "\u001b[?25hRequirement already satisfied: importlib-metadata in /usr/local/lib/python3.7/dist-packages (from transformers) (4.8.1)\n",
            "Requirement already satisfied: tqdm>=4.27 in /usr/local/lib/python3.7/dist-packages (from transformers) (4.62.3)\n",
            "Requirement already satisfied: requests in /usr/local/lib/python3.7/dist-packages (from transformers) (2.23.0)\n",
            "Requirement already satisfied: regex!=2019.12.17 in /usr/local/lib/python3.7/dist-packages (from transformers) (2019.12.20)\n",
            "Requirement already satisfied: packaging>=20.0 in /usr/local/lib/python3.7/dist-packages (from transformers) (21.0)\n",
            "Requirement already satisfied: numpy>=1.17 in /usr/local/lib/python3.7/dist-packages (from transformers) (1.19.5)\n",
            "Collecting pyyaml>=5.1\n",
            "  Downloading PyYAML-5.4.1-cp37-cp37m-manylinux1_x86_64.whl (636 kB)\n",
            "\u001b[K     |████████████████████████████████| 636 kB 60.4 MB/s \n",
            "\u001b[?25hCollecting huggingface-hub>=0.0.17\n",
            "  Downloading huggingface_hub-0.0.19-py3-none-any.whl (56 kB)\n",
            "\u001b[K     |████████████████████████████████| 56 kB 4.2 MB/s \n",
            "\u001b[?25hCollecting tokenizers<0.11,>=0.10.1\n",
            "  Downloading tokenizers-0.10.3-cp37-cp37m-manylinux_2_5_x86_64.manylinux1_x86_64.manylinux_2_12_x86_64.manylinux2010_x86_64.whl (3.3 MB)\n",
            "\u001b[K     |████████████████████████████████| 3.3 MB 43.0 MB/s \n",
            "\u001b[?25hCollecting sacremoses\n",
            "  Downloading sacremoses-0.0.46-py3-none-any.whl (895 kB)\n",
            "\u001b[K     |████████████████████████████████| 895 kB 47.1 MB/s \n",
            "\u001b[?25hRequirement already satisfied: filelock in /usr/local/lib/python3.7/dist-packages (from transformers) (3.3.0)\n",
            "Requirement already satisfied: typing-extensions in /usr/local/lib/python3.7/dist-packages (from huggingface-hub>=0.0.17->transformers) (3.7.4.3)\n",
            "Requirement already satisfied: pyparsing>=2.0.2 in /usr/local/lib/python3.7/dist-packages (from packaging>=20.0->transformers) (2.4.7)\n",
            "Requirement already satisfied: zipp>=0.5 in /usr/local/lib/python3.7/dist-packages (from importlib-metadata->transformers) (3.6.0)\n",
            "Requirement already satisfied: certifi>=2017.4.17 in /usr/local/lib/python3.7/dist-packages (from requests->transformers) (2021.5.30)\n",
            "Requirement already satisfied: idna<3,>=2.5 in /usr/local/lib/python3.7/dist-packages (from requests->transformers) (2.10)\n",
            "Requirement already satisfied: chardet<4,>=3.0.2 in /usr/local/lib/python3.7/dist-packages (from requests->transformers) (3.0.4)\n",
            "Requirement already satisfied: urllib3!=1.25.0,!=1.25.1,<1.26,>=1.21.1 in /usr/local/lib/python3.7/dist-packages (from requests->transformers) (1.24.3)\n",
            "Requirement already satisfied: six in /usr/local/lib/python3.7/dist-packages (from sacremoses->transformers) (1.15.0)\n",
            "Requirement already satisfied: click in /usr/local/lib/python3.7/dist-packages (from sacremoses->transformers) (7.1.2)\n",
            "Requirement already satisfied: joblib in /usr/local/lib/python3.7/dist-packages (from sacremoses->transformers) (1.0.1)\n",
            "Installing collected packages: pyyaml, tokenizers, sacremoses, huggingface-hub, transformers\n",
            "  Attempting uninstall: pyyaml\n",
            "    Found existing installation: PyYAML 3.13\n",
            "    Uninstalling PyYAML-3.13:\n",
            "      Successfully uninstalled PyYAML-3.13\n",
            "Successfully installed huggingface-hub-0.0.19 pyyaml-5.4.1 sacremoses-0.0.46 tokenizers-0.10.3 transformers-4.11.3\n"
          ]
        }
      ]
    },
    {
      "cell_type": "code",
      "metadata": {
        "id": "ZiRR3O1iHyiv"
      },
      "source": [
        "# IMPORTS \n",
        "from transformers import BertTokenizer, BertModel\n",
        "import torch \n",
        "from sklearn.decomposition import PCA"
      ],
      "execution_count": null,
      "outputs": []
    },
    {
      "cell_type": "markdown",
      "metadata": {
        "id": "UlTvFmjKIFDE"
      },
      "source": [
        "### **1.2.1 Initiate BERT**"
      ]
    },
    {
      "cell_type": "code",
      "metadata": {
        "colab": {
          "base_uri": "https://localhost:8080/",
          "height": 247,
          "referenced_widgets": [
            "20f3c0da147d4ef2aed7549cc971dee8",
            "9415cc637271462db5b4fff354e043b9",
            "84d7e403e87e4966b0bef89c347976be",
            "c8e40c37cf2444d8add7cea3db5cfa9a",
            "f1a298e494f24302ac58a8475a6ff328"
          ]
        },
        "id": "AJtmFbu6IIUS",
        "outputId": "c351375c-c2cb-439a-9b04-ff49c69f185c"
      },
      "source": [
        "# data pretrained on: https://s3.amazonaws.com/models.huggingface.co/bert/bert-base-cased-vocab.txt\n",
        "\n",
        "\n",
        "# to use own pretrained model: \n",
        "# Model was saved using `save_pretrained('./test/saved_model/')` (for example purposes, not runnable).\n",
        "# model = BertModel.from_pretrained('./test/saved_model/')\n",
        "\n",
        "PRE_TRAINED_MODEL_NAME = 'bert-base-cased'\n",
        "tokenizer = BertTokenizer.from_pretrained(PRE_TRAINED_MODEL_NAME)\n",
        "bert_model = BertModel.from_pretrained(PRE_TRAINED_MODEL_NAME)\n",
        "\n",
        "bert_embeddings = bert_model.get_input_embeddings()"
      ],
      "execution_count": null,
      "outputs": [
        {
          "output_type": "display_data",
          "data": {
            "application/vnd.jupyter.widget-view+json": {
              "model_id": "20f3c0da147d4ef2aed7549cc971dee8",
              "version_minor": 0,
              "version_major": 2
            },
            "text/plain": [
              "Downloading:   0%|          | 0.00/208k [00:00<?, ?B/s]"
            ]
          },
          "metadata": {}
        },
        {
          "output_type": "display_data",
          "data": {
            "application/vnd.jupyter.widget-view+json": {
              "model_id": "9415cc637271462db5b4fff354e043b9",
              "version_minor": 0,
              "version_major": 2
            },
            "text/plain": [
              "Downloading:   0%|          | 0.00/29.0 [00:00<?, ?B/s]"
            ]
          },
          "metadata": {}
        },
        {
          "output_type": "display_data",
          "data": {
            "application/vnd.jupyter.widget-view+json": {
              "model_id": "84d7e403e87e4966b0bef89c347976be",
              "version_minor": 0,
              "version_major": 2
            },
            "text/plain": [
              "Downloading:   0%|          | 0.00/426k [00:00<?, ?B/s]"
            ]
          },
          "metadata": {}
        },
        {
          "output_type": "display_data",
          "data": {
            "application/vnd.jupyter.widget-view+json": {
              "model_id": "c8e40c37cf2444d8add7cea3db5cfa9a",
              "version_minor": 0,
              "version_major": 2
            },
            "text/plain": [
              "Downloading:   0%|          | 0.00/570 [00:00<?, ?B/s]"
            ]
          },
          "metadata": {}
        },
        {
          "output_type": "display_data",
          "data": {
            "application/vnd.jupyter.widget-view+json": {
              "model_id": "f1a298e494f24302ac58a8475a6ff328",
              "version_minor": 0,
              "version_major": 2
            },
            "text/plain": [
              "Downloading:   0%|          | 0.00/416M [00:00<?, ?B/s]"
            ]
          },
          "metadata": {}
        },
        {
          "output_type": "stream",
          "name": "stderr",
          "text": [
            "Some weights of the model checkpoint at bert-base-cased were not used when initializing BertModel: ['cls.predictions.transform.LayerNorm.weight', 'cls.predictions.transform.dense.bias', 'cls.seq_relationship.weight', 'cls.predictions.bias', 'cls.predictions.decoder.weight', 'cls.seq_relationship.bias', 'cls.predictions.transform.dense.weight', 'cls.predictions.transform.LayerNorm.bias']\n",
            "- This IS expected if you are initializing BertModel from the checkpoint of a model trained on another task or with another architecture (e.g. initializing a BertForSequenceClassification model from a BertForPreTraining model).\n",
            "- This IS NOT expected if you are initializing BertModel from the checkpoint of a model that you expect to be exactly identical (initializing a BertForSequenceClassification model from a BertForSequenceClassification model).\n"
          ]
        }
      ]
    },
    {
      "cell_type": "markdown",
      "metadata": {
        "id": "yrSOE71PHxsd"
      },
      "source": [
        "### **1.2.2 Get the data**"
      ]
    },
    {
      "cell_type": "code",
      "metadata": {
        "id": "IJw478Cd4bfE",
        "colab": {
          "base_uri": "https://localhost:8080/"
        },
        "outputId": "d2e22075-93ae-4a8c-c2b8-72827464c410"
      },
      "source": [
        "# mounting google drive\n",
        "from google.colab import drive\n",
        "\n",
        "drive.mount('/content/gdrive')"
      ],
      "execution_count": null,
      "outputs": [
        {
          "output_type": "stream",
          "name": "stdout",
          "text": [
            "Mounted at /content/gdrive\n"
          ]
        }
      ]
    },
    {
      "cell_type": "code",
      "metadata": {
        "id": "0OCPQrJF4fie"
      },
      "source": [
        "!cp \"/content/gdrive/MyDrive/Colab Notebooks/train.csv\" \"/content/train.csv\""
      ],
      "execution_count": null,
      "outputs": []
    },
    {
      "cell_type": "code",
      "metadata": {
        "colab": {
          "base_uri": "https://localhost:8080/",
          "height": 141
        },
        "id": "8isBlTtT4uEo",
        "outputId": "4358686b-cd9a-44e9-8cea-16d18160c1ac"
      },
      "source": [
        "import pandas as pd\n",
        "train = pd.read_csv('/content/train.csv')\n",
        "train.tail(3)"
      ],
      "execution_count": null,
      "outputs": [
        {
          "output_type": "execute_result",
          "data": {
            "text/html": [
              "<div>\n",
              "<style scoped>\n",
              "    .dataframe tbody tr th:only-of-type {\n",
              "        vertical-align: middle;\n",
              "    }\n",
              "\n",
              "    .dataframe tbody tr th {\n",
              "        vertical-align: top;\n",
              "    }\n",
              "\n",
              "    .dataframe thead th {\n",
              "        text-align: right;\n",
              "    }\n",
              "</style>\n",
              "<table border=\"1\" class=\"dataframe\">\n",
              "  <thead>\n",
              "    <tr style=\"text-align: right;\">\n",
              "      <th></th>\n",
              "      <th>id</th>\n",
              "      <th>text</th>\n",
              "      <th>author</th>\n",
              "    </tr>\n",
              "  </thead>\n",
              "  <tbody>\n",
              "    <tr>\n",
              "      <th>19576</th>\n",
              "      <td>id05267</td>\n",
              "      <td>Mais il faut agir that is to say, a Frenchman ...</td>\n",
              "      <td>EAP</td>\n",
              "    </tr>\n",
              "    <tr>\n",
              "      <th>19577</th>\n",
              "      <td>id17513</td>\n",
              "      <td>For an item of news like this, it strikes us i...</td>\n",
              "      <td>EAP</td>\n",
              "    </tr>\n",
              "    <tr>\n",
              "      <th>19578</th>\n",
              "      <td>id00393</td>\n",
              "      <td>He laid a gnarled claw on my shoulder, and it ...</td>\n",
              "      <td>HPL</td>\n",
              "    </tr>\n",
              "  </tbody>\n",
              "</table>\n",
              "</div>"
            ],
            "text/plain": [
              "            id                                               text author\n",
              "19576  id05267  Mais il faut agir that is to say, a Frenchman ...    EAP\n",
              "19577  id17513  For an item of news like this, it strikes us i...    EAP\n",
              "19578  id00393  He laid a gnarled claw on my shoulder, and it ...    HPL"
            ]
          },
          "metadata": {},
          "execution_count": 10
        }
      ]
    },
    {
      "cell_type": "markdown",
      "metadata": {
        "id": "PnkYch-gIQwV"
      },
      "source": [
        "### **1.2.3 Format the data**"
      ]
    },
    {
      "cell_type": "code",
      "metadata": {
        "id": "4ChrK7D05OMQ"
      },
      "source": [
        "train['word_ids'] = train['text'].apply(lambda x: tokenizer.convert_tokens_to_ids(tokenizer.tokenize(x)))"
      ],
      "execution_count": null,
      "outputs": []
    },
    {
      "cell_type": "code",
      "metadata": {
        "colab": {
          "base_uri": "https://localhost:8080/",
          "height": 96
        },
        "id": "4vAga8bq536E",
        "outputId": "b16505c5-6ca3-4505-b67e-ec9c78f42dce"
      },
      "source": [
        "train.head(1)"
      ],
      "execution_count": null,
      "outputs": [
        {
          "output_type": "execute_result",
          "data": {
            "text/html": [
              "<div>\n",
              "<style scoped>\n",
              "    .dataframe tbody tr th:only-of-type {\n",
              "        vertical-align: middle;\n",
              "    }\n",
              "\n",
              "    .dataframe tbody tr th {\n",
              "        vertical-align: top;\n",
              "    }\n",
              "\n",
              "    .dataframe thead th {\n",
              "        text-align: right;\n",
              "    }\n",
              "</style>\n",
              "<table border=\"1\" class=\"dataframe\">\n",
              "  <thead>\n",
              "    <tr style=\"text-align: right;\">\n",
              "      <th></th>\n",
              "      <th>id</th>\n",
              "      <th>text</th>\n",
              "      <th>author</th>\n",
              "      <th>word_ids</th>\n",
              "    </tr>\n",
              "  </thead>\n",
              "  <tbody>\n",
              "    <tr>\n",
              "      <th>0</th>\n",
              "      <td>id26305</td>\n",
              "      <td>This process, however, afforded me no means of...</td>\n",
              "      <td>EAP</td>\n",
              "      <td>[1188, 1965, 117, 1649, 117, 25520, 1143, 1185...</td>\n",
              "    </tr>\n",
              "  </tbody>\n",
              "</table>\n",
              "</div>"
            ],
            "text/plain": [
              "        id  ...                                           word_ids\n",
              "0  id26305  ...  [1188, 1965, 117, 1649, 117, 25520, 1143, 1185...\n",
              "\n",
              "[1 rows x 4 columns]"
            ]
          },
          "metadata": {},
          "execution_count": 13
        }
      ]
    },
    {
      "cell_type": "code",
      "metadata": {
        "colab": {
          "base_uri": "https://localhost:8080/",
          "height": 414
        },
        "id": "U6IEPHoHIp-S",
        "outputId": "410af09a-552b-4767-c4b7-2682ea3cde46"
      },
      "source": [
        "def count_words(df):\n",
        "    cols = ['count']\n",
        "    word_count = pd.DataFrame(df['text'].str.split(expand=True).stack().value_counts(), columns=cols)\n",
        "    word_count.reset_index(level=0, inplace=True)\n",
        "    word_count.columns = ['word', 'count']\n",
        "    return word_count\n",
        "\n",
        "word_count = count_words(train)\n",
        "word_count"
      ],
      "execution_count": null,
      "outputs": [
        {
          "output_type": "execute_result",
          "data": {
            "text/html": [
              "<div>\n",
              "<style scoped>\n",
              "    .dataframe tbody tr th:only-of-type {\n",
              "        vertical-align: middle;\n",
              "    }\n",
              "\n",
              "    .dataframe tbody tr th {\n",
              "        vertical-align: top;\n",
              "    }\n",
              "\n",
              "    .dataframe thead th {\n",
              "        text-align: right;\n",
              "    }\n",
              "</style>\n",
              "<table border=\"1\" class=\"dataframe\">\n",
              "  <thead>\n",
              "    <tr style=\"text-align: right;\">\n",
              "      <th></th>\n",
              "      <th>word</th>\n",
              "      <th>count</th>\n",
              "    </tr>\n",
              "  </thead>\n",
              "  <tbody>\n",
              "    <tr>\n",
              "      <th>0</th>\n",
              "      <td>the</td>\n",
              "      <td>33296</td>\n",
              "    </tr>\n",
              "    <tr>\n",
              "      <th>1</th>\n",
              "      <td>of</td>\n",
              "      <td>20851</td>\n",
              "    </tr>\n",
              "    <tr>\n",
              "      <th>2</th>\n",
              "      <td>and</td>\n",
              "      <td>17059</td>\n",
              "    </tr>\n",
              "    <tr>\n",
              "      <th>3</th>\n",
              "      <td>to</td>\n",
              "      <td>12615</td>\n",
              "    </tr>\n",
              "    <tr>\n",
              "      <th>4</th>\n",
              "      <td>I</td>\n",
              "      <td>10382</td>\n",
              "    </tr>\n",
              "    <tr>\n",
              "      <th>...</th>\n",
              "      <td>...</td>\n",
              "      <td>...</td>\n",
              "    </tr>\n",
              "    <tr>\n",
              "      <th>47551</th>\n",
              "      <td>erroneous,</td>\n",
              "      <td>1</td>\n",
              "    </tr>\n",
              "    <tr>\n",
              "      <th>47552</th>\n",
              "      <td>talking;</td>\n",
              "      <td>1</td>\n",
              "    </tr>\n",
              "    <tr>\n",
              "      <th>47553</th>\n",
              "      <td>traipsin'</td>\n",
              "      <td>1</td>\n",
              "    </tr>\n",
              "    <tr>\n",
              "      <th>47554</th>\n",
              "      <td>L's</td>\n",
              "      <td>1</td>\n",
              "    </tr>\n",
              "    <tr>\n",
              "      <th>47555</th>\n",
              "      <td>colour.\"</td>\n",
              "      <td>1</td>\n",
              "    </tr>\n",
              "  </tbody>\n",
              "</table>\n",
              "<p>47556 rows × 2 columns</p>\n",
              "</div>"
            ],
            "text/plain": [
              "             word  count\n",
              "0             the  33296\n",
              "1              of  20851\n",
              "2             and  17059\n",
              "3              to  12615\n",
              "4               I  10382\n",
              "...           ...    ...\n",
              "47551  erroneous,      1\n",
              "47552    talking;      1\n",
              "47553   traipsin'      1\n",
              "47554         L's      1\n",
              "47555    colour.\"      1\n",
              "\n",
              "[47556 rows x 2 columns]"
            ]
          },
          "metadata": {},
          "execution_count": 12
        }
      ]
    },
    {
      "cell_type": "markdown",
      "metadata": {
        "id": "0WI75winKED3"
      },
      "source": [
        "### **1.2.4 Functions for Extracting Embeddings**"
      ]
    },
    {
      "cell_type": "markdown",
      "metadata": {
        "id": "Xea2NTohei7W"
      },
      "source": [
        "use the BERT pre-trained embeddings which map each word id to its (1,768) vector.\n",
        "\n",
        "helper functions in order to extract the word id for each token, and the embedding vector for each word id:"
      ]
    },
    {
      "cell_type": "code",
      "metadata": {
        "id": "vStVnlV5eIzM"
      },
      "source": [
        "def word_to_index(word):\n",
        "    token_id = tokenizer.convert_tokens_to_ids(word)\n",
        "    return token_id\n",
        "\n",
        "def indices_to_vec(word_ids):\n",
        "    embeded_tokens = bert_embeddings(torch.Tensor(word_ids).to(torch.long))\n",
        "    return embeded_tokens.detach().numpy()\n",
        "\n",
        "\n",
        "def index_to_vec(word_id):\n",
        "    embeded_token = bert_embeddings(torch.Tensor([word_id]).to(torch.long))\n",
        "    return embeded_token.detach().numpy()\n"
      ],
      "execution_count": null,
      "outputs": []
    },
    {
      "cell_type": "code",
      "metadata": {
        "id": "KrYUU5TpjxJ9",
        "colab": {
          "base_uri": "https://localhost:8080/"
        },
        "outputId": "3adb3181-ba29-47f5-bbfb-ca838effdf9b"
      },
      "source": [
        "# THIS WAS FROM BEFORE - NEED ONE LONG STRING OF GENDER WORDS (NOT A LIST LIKE BELOW)\n",
        "\n",
        "# # generate word ids for the words pairs\n",
        "\n",
        "gender_pairs = \"she he her his woman man aunt uncle niece nephew daugters sons mother father daughter son grandaughter grandson girl boy stepdaughter stepson mom dad\"\n",
        "\n",
        "word_ids = tokenizer.convert_tokens_to_ids(tokenizer.tokenize(gender_pairs))\n",
        "print(word_ids)\n"
      ],
      "execution_count": null,
      "outputs": [
        {
          "output_type": "stream",
          "name": "stdout",
          "text": [
            "[1131, 1119, 1123, 1117, 1590, 1299, 8524, 4906, 12585, 7502, 5358, 9610, 5759, 3824, 1534, 1401, 1797, 1488, 5372, 23825, 2083, 7254, 1873, 2298, 2585, 1810, 26760, 3343, 1320, 4113, 4153]\n"
          ]
        }
      ]
    },
    {
      "cell_type": "code",
      "metadata": {
        "id": "knvJ93nOBiBh"
      },
      "source": [
        "gender_pairs = [\"she\", \"he\", \"her\", \"his\", \"woman\", \"man\", \"aunt\", \"uncle\", \"niece\", \"nephew\", \"daugters\", \"sons\", \"mother\", \"father\", \"daughter\", \"son\", \"grandaughter\", \"grandson\", \"girl\", \"boy\", \"stepdaughter\", \"stepson\", \"mom\",\"dad\"]"
      ],
      "execution_count": null,
      "outputs": []
    },
    {
      "cell_type": "code",
      "metadata": {
        "id": "JCfK5eJAl9eo",
        "colab": {
          "base_uri": "https://localhost:8080/",
          "height": 784
        },
        "outputId": "cfb2be06-1be2-43ac-9f7d-e7384468cc05"
      },
      "source": [
        "import pandas as pd\n",
        "cols = ['word', 'word_id']\n",
        "df_for_pca = pd.DataFrame(zip(gender_pairs, word_ids), columns = cols)\n",
        "df_for_pca"
      ],
      "execution_count": null,
      "outputs": [
        {
          "output_type": "execute_result",
          "data": {
            "text/html": [
              "<div>\n",
              "<style scoped>\n",
              "    .dataframe tbody tr th:only-of-type {\n",
              "        vertical-align: middle;\n",
              "    }\n",
              "\n",
              "    .dataframe tbody tr th {\n",
              "        vertical-align: top;\n",
              "    }\n",
              "\n",
              "    .dataframe thead th {\n",
              "        text-align: right;\n",
              "    }\n",
              "</style>\n",
              "<table border=\"1\" class=\"dataframe\">\n",
              "  <thead>\n",
              "    <tr style=\"text-align: right;\">\n",
              "      <th></th>\n",
              "      <th>word</th>\n",
              "      <th>word_id</th>\n",
              "    </tr>\n",
              "  </thead>\n",
              "  <tbody>\n",
              "    <tr>\n",
              "      <th>0</th>\n",
              "      <td>she</td>\n",
              "      <td>1131</td>\n",
              "    </tr>\n",
              "    <tr>\n",
              "      <th>1</th>\n",
              "      <td>he</td>\n",
              "      <td>1119</td>\n",
              "    </tr>\n",
              "    <tr>\n",
              "      <th>2</th>\n",
              "      <td>her</td>\n",
              "      <td>1123</td>\n",
              "    </tr>\n",
              "    <tr>\n",
              "      <th>3</th>\n",
              "      <td>his</td>\n",
              "      <td>1117</td>\n",
              "    </tr>\n",
              "    <tr>\n",
              "      <th>4</th>\n",
              "      <td>woman</td>\n",
              "      <td>1590</td>\n",
              "    </tr>\n",
              "    <tr>\n",
              "      <th>5</th>\n",
              "      <td>man</td>\n",
              "      <td>1299</td>\n",
              "    </tr>\n",
              "    <tr>\n",
              "      <th>6</th>\n",
              "      <td>aunt</td>\n",
              "      <td>8524</td>\n",
              "    </tr>\n",
              "    <tr>\n",
              "      <th>7</th>\n",
              "      <td>uncle</td>\n",
              "      <td>4906</td>\n",
              "    </tr>\n",
              "    <tr>\n",
              "      <th>8</th>\n",
              "      <td>niece</td>\n",
              "      <td>12585</td>\n",
              "    </tr>\n",
              "    <tr>\n",
              "      <th>9</th>\n",
              "      <td>nephew</td>\n",
              "      <td>7502</td>\n",
              "    </tr>\n",
              "    <tr>\n",
              "      <th>10</th>\n",
              "      <td>daugters</td>\n",
              "      <td>5358</td>\n",
              "    </tr>\n",
              "    <tr>\n",
              "      <th>11</th>\n",
              "      <td>sons</td>\n",
              "      <td>9610</td>\n",
              "    </tr>\n",
              "    <tr>\n",
              "      <th>12</th>\n",
              "      <td>mother</td>\n",
              "      <td>5759</td>\n",
              "    </tr>\n",
              "    <tr>\n",
              "      <th>13</th>\n",
              "      <td>father</td>\n",
              "      <td>3824</td>\n",
              "    </tr>\n",
              "    <tr>\n",
              "      <th>14</th>\n",
              "      <td>daughter</td>\n",
              "      <td>1534</td>\n",
              "    </tr>\n",
              "    <tr>\n",
              "      <th>15</th>\n",
              "      <td>son</td>\n",
              "      <td>1401</td>\n",
              "    </tr>\n",
              "    <tr>\n",
              "      <th>16</th>\n",
              "      <td>grandaughter</td>\n",
              "      <td>1797</td>\n",
              "    </tr>\n",
              "    <tr>\n",
              "      <th>17</th>\n",
              "      <td>grandson</td>\n",
              "      <td>1488</td>\n",
              "    </tr>\n",
              "    <tr>\n",
              "      <th>18</th>\n",
              "      <td>girl</td>\n",
              "      <td>5372</td>\n",
              "    </tr>\n",
              "    <tr>\n",
              "      <th>19</th>\n",
              "      <td>boy</td>\n",
              "      <td>23825</td>\n",
              "    </tr>\n",
              "    <tr>\n",
              "      <th>20</th>\n",
              "      <td>stepdaughter</td>\n",
              "      <td>2083</td>\n",
              "    </tr>\n",
              "    <tr>\n",
              "      <th>21</th>\n",
              "      <td>stepson</td>\n",
              "      <td>7254</td>\n",
              "    </tr>\n",
              "    <tr>\n",
              "      <th>22</th>\n",
              "      <td>mom</td>\n",
              "      <td>1873</td>\n",
              "    </tr>\n",
              "    <tr>\n",
              "      <th>23</th>\n",
              "      <td>dad</td>\n",
              "      <td>2298</td>\n",
              "    </tr>\n",
              "  </tbody>\n",
              "</table>\n",
              "</div>"
            ],
            "text/plain": [
              "            word  word_id\n",
              "0            she     1131\n",
              "1             he     1119\n",
              "2            her     1123\n",
              "3            his     1117\n",
              "4          woman     1590\n",
              "5            man     1299\n",
              "6           aunt     8524\n",
              "7          uncle     4906\n",
              "8          niece    12585\n",
              "9         nephew     7502\n",
              "10      daugters     5358\n",
              "11          sons     9610\n",
              "12        mother     5759\n",
              "13        father     3824\n",
              "14      daughter     1534\n",
              "15           son     1401\n",
              "16  grandaughter     1797\n",
              "17      grandson     1488\n",
              "18          girl     5372\n",
              "19           boy    23825\n",
              "20  stepdaughter     2083\n",
              "21       stepson     7254\n",
              "22           mom     1873\n",
              "23           dad     2298"
            ]
          },
          "metadata": {},
          "execution_count": 23
        }
      ]
    },
    {
      "cell_type": "code",
      "metadata": {
        "colab": {
          "base_uri": "https://localhost:8080/",
          "height": 202
        },
        "id": "BEXCid0sB7O0",
        "outputId": "27bf70a9-182e-4ada-e95a-a1e6a33278c4"
      },
      "source": [
        "df_for_pca['word_vec'] = df_for_pca['word_id'].apply(index_to_vec)\n",
        "df_for_pca.head()"
      ],
      "execution_count": null,
      "outputs": [
        {
          "output_type": "execute_result",
          "data": {
            "text/html": [
              "<div>\n",
              "<style scoped>\n",
              "    .dataframe tbody tr th:only-of-type {\n",
              "        vertical-align: middle;\n",
              "    }\n",
              "\n",
              "    .dataframe tbody tr th {\n",
              "        vertical-align: top;\n",
              "    }\n",
              "\n",
              "    .dataframe thead th {\n",
              "        text-align: right;\n",
              "    }\n",
              "</style>\n",
              "<table border=\"1\" class=\"dataframe\">\n",
              "  <thead>\n",
              "    <tr style=\"text-align: right;\">\n",
              "      <th></th>\n",
              "      <th>word</th>\n",
              "      <th>word_id</th>\n",
              "      <th>word_vec</th>\n",
              "    </tr>\n",
              "  </thead>\n",
              "  <tbody>\n",
              "    <tr>\n",
              "      <th>0</th>\n",
              "      <td>she</td>\n",
              "      <td>1131</td>\n",
              "      <td>[[-0.03390125, 0.019389033, 0.0010120879, 0.01...</td>\n",
              "    </tr>\n",
              "    <tr>\n",
              "      <th>1</th>\n",
              "      <td>he</td>\n",
              "      <td>1119</td>\n",
              "      <td>[[-0.0002244141, 0.024620801, -0.010688784, 0....</td>\n",
              "    </tr>\n",
              "    <tr>\n",
              "      <th>2</th>\n",
              "      <td>her</td>\n",
              "      <td>1123</td>\n",
              "      <td>[[0.004219352, 0.029523268, -0.04063679, -0.03...</td>\n",
              "    </tr>\n",
              "    <tr>\n",
              "      <th>3</th>\n",
              "      <td>his</td>\n",
              "      <td>1117</td>\n",
              "      <td>[[0.019576656, 0.037966713, -0.033559605, -0.0...</td>\n",
              "    </tr>\n",
              "    <tr>\n",
              "      <th>4</th>\n",
              "      <td>woman</td>\n",
              "      <td>1590</td>\n",
              "      <td>[[0.031037057, -0.02565798, 0.02183031, 0.0227...</td>\n",
              "    </tr>\n",
              "  </tbody>\n",
              "</table>\n",
              "</div>"
            ],
            "text/plain": [
              "    word  word_id                                           word_vec\n",
              "0    she     1131  [[-0.03390125, 0.019389033, 0.0010120879, 0.01...\n",
              "1     he     1119  [[-0.0002244141, 0.024620801, -0.010688784, 0....\n",
              "2    her     1123  [[0.004219352, 0.029523268, -0.04063679, -0.03...\n",
              "3    his     1117  [[0.019576656, 0.037966713, -0.033559605, -0.0...\n",
              "4  woman     1590  [[0.031037057, -0.02565798, 0.02183031, 0.0227..."
            ]
          },
          "metadata": {},
          "execution_count": 24
        }
      ]
    },
    {
      "cell_type": "code",
      "metadata": {
        "id": "PvPB8StjnU_2",
        "colab": {
          "base_uri": "https://localhost:8080/",
          "height": 1000
        },
        "outputId": "a072b1ce-838f-49e5-cf36-55d94bc92861"
      },
      "source": [
        "df_for_pca['word_xy'] = df_for_pca['word_vec'].apply(vec_to_2dim)\n",
        "df_for_pca['word_x'] = df_for_pca['word_xy'].apply(tuple_x)\n",
        "df_for_pca['word_y'] = df_for_pca['word_xy'].apply(tuple_y)\n",
        "df_for_pca"
      ],
      "execution_count": null,
      "outputs": [
        {
          "output_type": "execute_result",
          "data": {
            "text/html": [
              "<div>\n",
              "<style scoped>\n",
              "    .dataframe tbody tr th:only-of-type {\n",
              "        vertical-align: middle;\n",
              "    }\n",
              "\n",
              "    .dataframe tbody tr th {\n",
              "        vertical-align: top;\n",
              "    }\n",
              "\n",
              "    .dataframe thead th {\n",
              "        text-align: right;\n",
              "    }\n",
              "</style>\n",
              "<table border=\"1\" class=\"dataframe\">\n",
              "  <thead>\n",
              "    <tr style=\"text-align: right;\">\n",
              "      <th></th>\n",
              "      <th>word</th>\n",
              "      <th>word_id</th>\n",
              "      <th>word_vec</th>\n",
              "      <th>word_xy</th>\n",
              "      <th>word_x</th>\n",
              "      <th>word_y</th>\n",
              "    </tr>\n",
              "  </thead>\n",
              "  <tbody>\n",
              "    <tr>\n",
              "      <th>0</th>\n",
              "      <td>she</td>\n",
              "      <td>1131</td>\n",
              "      <td>[[-0.03390125, 0.019389033, 0.0010120879, 0.01...</td>\n",
              "      <td>(0.7624802, 0.42542326)</td>\n",
              "      <td>0.762480</td>\n",
              "      <td>0.425423</td>\n",
              "    </tr>\n",
              "    <tr>\n",
              "      <th>1</th>\n",
              "      <td>he</td>\n",
              "      <td>1119</td>\n",
              "      <td>[[-0.0002244141, 0.024620801, -0.010688784, 0....</td>\n",
              "      <td>(0.74066085, 0.50901234)</td>\n",
              "      <td>0.740661</td>\n",
              "      <td>0.509012</td>\n",
              "    </tr>\n",
              "    <tr>\n",
              "      <th>2</th>\n",
              "      <td>her</td>\n",
              "      <td>1123</td>\n",
              "      <td>[[0.004219352, 0.029523268, -0.04063679, -0.03...</td>\n",
              "      <td>(0.7477989, 0.54219943)</td>\n",
              "      <td>0.747799</td>\n",
              "      <td>0.542199</td>\n",
              "    </tr>\n",
              "    <tr>\n",
              "      <th>3</th>\n",
              "      <td>his</td>\n",
              "      <td>1117</td>\n",
              "      <td>[[0.019576656, 0.037966713, -0.033559605, -0.0...</td>\n",
              "      <td>(0.744513, 0.544316)</td>\n",
              "      <td>0.744513</td>\n",
              "      <td>0.544316</td>\n",
              "    </tr>\n",
              "    <tr>\n",
              "      <th>4</th>\n",
              "      <td>woman</td>\n",
              "      <td>1590</td>\n",
              "      <td>[[0.031037057, -0.02565798, 0.02183031, 0.0227...</td>\n",
              "      <td>(0.8114155, 0.4185461)</td>\n",
              "      <td>0.811415</td>\n",
              "      <td>0.418546</td>\n",
              "    </tr>\n",
              "    <tr>\n",
              "      <th>5</th>\n",
              "      <td>man</td>\n",
              "      <td>1299</td>\n",
              "      <td>[[0.03547242, -0.009771521, 0.023980722, -0.02...</td>\n",
              "      <td>(0.7699941, 0.58617055)</td>\n",
              "      <td>0.769994</td>\n",
              "      <td>0.586171</td>\n",
              "    </tr>\n",
              "    <tr>\n",
              "      <th>6</th>\n",
              "      <td>aunt</td>\n",
              "      <td>8524</td>\n",
              "      <td>[[-0.031035986, -0.018487606, 0.02495961, 0.00...</td>\n",
              "      <td>(0.97072226, -0.009598386)</td>\n",
              "      <td>0.970722</td>\n",
              "      <td>-0.009598</td>\n",
              "    </tr>\n",
              "    <tr>\n",
              "      <th>7</th>\n",
              "      <td>uncle</td>\n",
              "      <td>4906</td>\n",
              "      <td>[[0.06393534, 0.02730004, -0.016631322, -0.019...</td>\n",
              "      <td>(0.9125542, 0.092042945)</td>\n",
              "      <td>0.912554</td>\n",
              "      <td>0.092043</td>\n",
              "    </tr>\n",
              "    <tr>\n",
              "      <th>8</th>\n",
              "      <td>niece</td>\n",
              "      <td>12585</td>\n",
              "      <td>[[0.056558516, 0.00379794, 0.05723976, -0.0003...</td>\n",
              "      <td>(1.0055737, -0.10458182)</td>\n",
              "      <td>1.005574</td>\n",
              "      <td>-0.104582</td>\n",
              "    </tr>\n",
              "    <tr>\n",
              "      <th>9</th>\n",
              "      <td>nephew</td>\n",
              "      <td>7502</td>\n",
              "      <td>[[0.04509845, 0.030363822, 0.041744396, -0.040...</td>\n",
              "      <td>(0.958157, -0.014693392)</td>\n",
              "      <td>0.958157</td>\n",
              "      <td>-0.014693</td>\n",
              "    </tr>\n",
              "    <tr>\n",
              "      <th>10</th>\n",
              "      <td>daugters</td>\n",
              "      <td>5358</td>\n",
              "      <td>[[-0.028877499, 0.022027638, -0.051398735, 0.0...</td>\n",
              "      <td>(0.87855613, 0.14703937)</td>\n",
              "      <td>0.878556</td>\n",
              "      <td>0.147039</td>\n",
              "    </tr>\n",
              "    <tr>\n",
              "      <th>11</th>\n",
              "      <td>sons</td>\n",
              "      <td>9610</td>\n",
              "      <td>[[0.019809444, -0.0034130746, -0.037306763, 0....</td>\n",
              "      <td>(0.9313548, 0.030872736)</td>\n",
              "      <td>0.931355</td>\n",
              "      <td>0.030873</td>\n",
              "    </tr>\n",
              "    <tr>\n",
              "      <th>12</th>\n",
              "      <td>mother</td>\n",
              "      <td>5759</td>\n",
              "      <td>[[-0.04705705, -0.031428296, 0.04921229, -0.06...</td>\n",
              "      <td>(0.96565485, -0.041384593)</td>\n",
              "      <td>0.965655</td>\n",
              "      <td>-0.041385</td>\n",
              "    </tr>\n",
              "    <tr>\n",
              "      <th>13</th>\n",
              "      <td>father</td>\n",
              "      <td>3824</td>\n",
              "      <td>[[0.0053998693, 0.04133104, 0.018238304, -0.05...</td>\n",
              "      <td>(0.94590753, 0.021448143)</td>\n",
              "      <td>0.945908</td>\n",
              "      <td>0.021448</td>\n",
              "    </tr>\n",
              "    <tr>\n",
              "      <th>14</th>\n",
              "      <td>daughter</td>\n",
              "      <td>1534</td>\n",
              "      <td>[[-0.018476414, -0.018277764, -0.005694177, -0...</td>\n",
              "      <td>(0.8409509, 0.38539532)</td>\n",
              "      <td>0.840951</td>\n",
              "      <td>0.385395</td>\n",
              "    </tr>\n",
              "    <tr>\n",
              "      <th>15</th>\n",
              "      <td>son</td>\n",
              "      <td>1401</td>\n",
              "      <td>[[-0.01951891, 0.0021376929, -0.017594174, -0....</td>\n",
              "      <td>(0.8083066, 0.37737954)</td>\n",
              "      <td>0.808307</td>\n",
              "      <td>0.377380</td>\n",
              "    </tr>\n",
              "    <tr>\n",
              "      <th>16</th>\n",
              "      <td>grandaughter</td>\n",
              "      <td>1797</td>\n",
              "      <td>[[0.038317468, 0.013954455, 0.02666654, -0.017...</td>\n",
              "      <td>(0.8880471, 0.28302532)</td>\n",
              "      <td>0.888047</td>\n",
              "      <td>0.283025</td>\n",
              "    </tr>\n",
              "    <tr>\n",
              "      <th>17</th>\n",
              "      <td>grandson</td>\n",
              "      <td>1488</td>\n",
              "      <td>[[0.054144964, 0.038631916, 0.05551203, -0.061...</td>\n",
              "      <td>(0.83755547, 0.36163148)</td>\n",
              "      <td>0.837555</td>\n",
              "      <td>0.361631</td>\n",
              "    </tr>\n",
              "    <tr>\n",
              "      <th>18</th>\n",
              "      <td>girl</td>\n",
              "      <td>5372</td>\n",
              "      <td>[[-0.056297854, -0.0025947774, 0.022654122, 0....</td>\n",
              "      <td>(0.862665, 0.23874435)</td>\n",
              "      <td>0.862665</td>\n",
              "      <td>0.238744</td>\n",
              "    </tr>\n",
              "    <tr>\n",
              "      <th>19</th>\n",
              "      <td>boy</td>\n",
              "      <td>23825</td>\n",
              "      <td>[[0.0148196705, -0.036323223, -0.05044209, -0....</td>\n",
              "      <td>(1.1335497, -0.2686559)</td>\n",
              "      <td>1.133550</td>\n",
              "      <td>-0.268656</td>\n",
              "    </tr>\n",
              "    <tr>\n",
              "      <th>20</th>\n",
              "      <td>stepdaughter</td>\n",
              "      <td>2083</td>\n",
              "      <td>[[-0.05141952, 0.026104327, -0.048629552, -0.0...</td>\n",
              "      <td>(0.8610833, 0.23395878)</td>\n",
              "      <td>0.861083</td>\n",
              "      <td>0.233959</td>\n",
              "    </tr>\n",
              "    <tr>\n",
              "      <th>21</th>\n",
              "      <td>stepson</td>\n",
              "      <td>7254</td>\n",
              "      <td>[[0.06859625, 0.027632752, 0.04153711, -0.0429...</td>\n",
              "      <td>(0.9804768, -0.048408892)</td>\n",
              "      <td>0.980477</td>\n",
              "      <td>-0.048409</td>\n",
              "    </tr>\n",
              "    <tr>\n",
              "      <th>22</th>\n",
              "      <td>mom</td>\n",
              "      <td>1873</td>\n",
              "      <td>[[-0.0070503415, -0.029107394, 0.049535714, 0....</td>\n",
              "      <td>(0.88246256, 0.40699852)</td>\n",
              "      <td>0.882463</td>\n",
              "      <td>0.406999</td>\n",
              "    </tr>\n",
              "    <tr>\n",
              "      <th>23</th>\n",
              "      <td>dad</td>\n",
              "      <td>2298</td>\n",
              "      <td>[[0.012968603, -0.032936346, 0.042538755, -0.0...</td>\n",
              "      <td>(0.88775265, 0.38737196)</td>\n",
              "      <td>0.887753</td>\n",
              "      <td>0.387372</td>\n",
              "    </tr>\n",
              "  </tbody>\n",
              "</table>\n",
              "</div>"
            ],
            "text/plain": [
              "            word  word_id  ...    word_x    word_y\n",
              "0            she     1131  ...  0.762480  0.425423\n",
              "1             he     1119  ...  0.740661  0.509012\n",
              "2            her     1123  ...  0.747799  0.542199\n",
              "3            his     1117  ...  0.744513  0.544316\n",
              "4          woman     1590  ...  0.811415  0.418546\n",
              "5            man     1299  ...  0.769994  0.586171\n",
              "6           aunt     8524  ...  0.970722 -0.009598\n",
              "7          uncle     4906  ...  0.912554  0.092043\n",
              "8          niece    12585  ...  1.005574 -0.104582\n",
              "9         nephew     7502  ...  0.958157 -0.014693\n",
              "10      daugters     5358  ...  0.878556  0.147039\n",
              "11          sons     9610  ...  0.931355  0.030873\n",
              "12        mother     5759  ...  0.965655 -0.041385\n",
              "13        father     3824  ...  0.945908  0.021448\n",
              "14      daughter     1534  ...  0.840951  0.385395\n",
              "15           son     1401  ...  0.808307  0.377380\n",
              "16  grandaughter     1797  ...  0.888047  0.283025\n",
              "17      grandson     1488  ...  0.837555  0.361631\n",
              "18          girl     5372  ...  0.862665  0.238744\n",
              "19           boy    23825  ...  1.133550 -0.268656\n",
              "20  stepdaughter     2083  ...  0.861083  0.233959\n",
              "21       stepson     7254  ...  0.980477 -0.048409\n",
              "22           mom     1873  ...  0.882463  0.406999\n",
              "23           dad     2298  ...  0.887753  0.387372\n",
              "\n",
              "[24 rows x 6 columns]"
            ]
          },
          "metadata": {},
          "execution_count": 28
        }
      ]
    },
    {
      "cell_type": "code",
      "metadata": {
        "id": "HrG0MUdin9JL",
        "colab": {
          "base_uri": "https://localhost:8080/",
          "height": 694
        },
        "outputId": "b1714a48-0ec8-4ea5-f02e-181e3b644ad5"
      },
      "source": [
        "# plot\n",
        "import seaborn as sns\n",
        "import matplotlib.pyplot as plt\n",
        "%matplotlib inline\n",
        "pd.set_option('display.max_colwidth', 140)\n",
        "\n",
        "sns.set(rc = {'figure.figsize':(10,5)}, font_scale=3)\n",
        "\n",
        "p = sns.relplot(x=\"word_x\", y=\"word_y\",\n",
        "             alpha=1, palette=\"muted\",\n",
        "            height=20, s=100, label = 'big', aspect=1, data=df_for_pca)\n",
        "ax = p.axes[0,0]\n",
        "\n",
        "for idx, row in df_for_pca.iterrows():\n",
        "     ax.text(row['word_x']+ 0.003, row['word_y']+0.001, row['word'], horizontalalignment='left', size='small', color='black')"
      ],
      "execution_count": null,
      "outputs": [
        {
          "output_type": "display_data",
          "data": {
            "image/png": "[encoded data removed]",
            "text/plain": [
              "<Figure size 1440x1440 with 1 Axes>"
            ]
          },
          "metadata": {}
        }
      ]
    },
    {
      "cell_type": "code",
      "metadata": {
        "id": "6VMMlizlB7S1"
      },
      "source": [
        ""
      ],
      "execution_count": null,
      "outputs": []
    },
    {
      "cell_type": "markdown",
      "metadata": {
        "id": "FlgaY6_v8KYr"
      },
      "source": [
        "trying with larger data\n",
        "\n",
        "1. individual words\n",
        "2. keeping them as sentences "
      ]
    },
    {
      "cell_type": "code",
      "metadata": {
        "colab": {
          "base_uri": "https://localhost:8080/",
          "height": 202
        },
        "id": "pwYjQ8qd8Wi2",
        "outputId": "52df287a-960e-42dc-c868-b0de3af90c77"
      },
      "source": [
        "# extracting the embeddings\n",
        "word_count['word_id'] = word_count['word'].apply(word_to_index)\n",
        "vectors = index_to_vec(word_count['word_id'].to_numpy())\n",
        "pca = PCA(n_components=2)\n",
        "pca.fit(vectors.squeeze())\n",
        "word_count['word_vec'] = word_count['word_id'].apply(index_to_vec)\n",
        "word_count.head()"
      ],
      "execution_count": null,
      "outputs": [
        {
          "output_type": "execute_result",
          "data": {
            "text/html": [
              "<div>\n",
              "<style scoped>\n",
              "    .dataframe tbody tr th:only-of-type {\n",
              "        vertical-align: middle;\n",
              "    }\n",
              "\n",
              "    .dataframe tbody tr th {\n",
              "        vertical-align: top;\n",
              "    }\n",
              "\n",
              "    .dataframe thead th {\n",
              "        text-align: right;\n",
              "    }\n",
              "</style>\n",
              "<table border=\"1\" class=\"dataframe\">\n",
              "  <thead>\n",
              "    <tr style=\"text-align: right;\">\n",
              "      <th></th>\n",
              "      <th>word</th>\n",
              "      <th>count</th>\n",
              "      <th>word_id</th>\n",
              "      <th>word_vec</th>\n",
              "    </tr>\n",
              "  </thead>\n",
              "  <tbody>\n",
              "    <tr>\n",
              "      <th>0</th>\n",
              "      <td>the</td>\n",
              "      <td>33296</td>\n",
              "      <td>1103</td>\n",
              "      <td>[[-0.04128282, 0.028885774, -0.041111287, 0.02...</td>\n",
              "    </tr>\n",
              "    <tr>\n",
              "      <th>1</th>\n",
              "      <td>of</td>\n",
              "      <td>20851</td>\n",
              "      <td>1104</td>\n",
              "      <td>[[-0.018423943, 0.028360885, 0.003914881, -0.0...</td>\n",
              "    </tr>\n",
              "    <tr>\n",
              "      <th>2</th>\n",
              "      <td>and</td>\n",
              "      <td>17059</td>\n",
              "      <td>1105</td>\n",
              "      <td>[[-0.027223332, 0.01628675, -0.008561882, -0.0...</td>\n",
              "    </tr>\n",
              "    <tr>\n",
              "      <th>3</th>\n",
              "      <td>to</td>\n",
              "      <td>12615</td>\n",
              "      <td>1106</td>\n",
              "      <td>[[0.038330674, 0.015045563, -0.004117922, 0.02...</td>\n",
              "    </tr>\n",
              "    <tr>\n",
              "      <th>4</th>\n",
              "      <td>I</td>\n",
              "      <td>10382</td>\n",
              "      <td>146</td>\n",
              "      <td>[[-0.030673549, 0.011712232, 0.038565163, 0.01...</td>\n",
              "    </tr>\n",
              "  </tbody>\n",
              "</table>\n",
              "</div>"
            ],
            "text/plain": [
              "  word  count  word_id                                           word_vec\n",
              "0  the  33296     1103  [[-0.04128282, 0.028885774, -0.041111287, 0.02...\n",
              "1   of  20851     1104  [[-0.018423943, 0.028360885, 0.003914881, -0.0...\n",
              "2  and  17059     1105  [[-0.027223332, 0.01628675, -0.008561882, -0.0...\n",
              "3   to  12615     1106  [[0.038330674, 0.015045563, -0.004117922, 0.02...\n",
              "4    I  10382      146  [[-0.030673549, 0.011712232, 0.038565163, 0.01..."
            ]
          },
          "metadata": {},
          "execution_count": 25
        }
      ]
    },
    {
      "cell_type": "code",
      "metadata": {
        "id": "B3MOXZudVo6L"
      },
      "source": [
        "#word_count[\"word_vec\"] = word_count.word_vec.astype(np.float)\n",
        "word_count.dtypes"
      ],
      "execution_count": null,
      "outputs": []
    },
    {
      "cell_type": "code",
      "metadata": {
        "id": "ZsVvObOSUDzB",
        "colab": {
          "base_uri": "https://localhost:8080/"
        },
        "outputId": "b6b9987c-886f-47d0-f9ee-a4fdefa51fda"
      },
      "source": [
        "embedding_list = word_count.word_vec.tolist()\n",
        "assert(len(embedding_list[0]) == len(embedding_list[200]))\n",
        "gender1 = embedding_list[0] - embedding_list[1]\n",
        "for l in gender1: \n",
        "  print(len(l))"
      ],
      "execution_count": null,
      "outputs": [
        {
          "output_type": "stream",
          "name": "stdout",
          "text": [
            "768\n"
          ]
        }
      ]
    },
    {
      "cell_type": "markdown",
      "metadata": {
        "id": "K1uAnHS5grkl"
      },
      "source": [
        "Apply the functions and fit the **PCA** for our data"
      ]
    },
    {
      "cell_type": "code",
      "metadata": {
        "id": "QgNBC7z5Iecz",
        "colab": {
          "base_uri": "https://localhost:8080/"
        },
        "outputId": "e2318f20-b268-4039-d04f-1eeba301a565"
      },
      "source": [
        "# Apply PCA \n",
        "\n",
        "word_count['word_id'] = word_count['word'].apply(word_to_index)\n",
        "vectors = index_to_vec(word_count['word_id'].to_numpy())\n",
        "pca = PCA(n_components=2)\n",
        "pca.fit(vectors.squeeze())\n",
        "# word_vec column is the embedding\n",
        "word_count['word_vec'] = word_count['word_id'].apply(index_to_vec)\n",
        "\n",
        "vectors.shape"
      ],
      "execution_count": null,
      "outputs": [
        {
          "output_type": "execute_result",
          "data": {
            "text/plain": [
              "(1, 47556, 768)"
            ]
          },
          "metadata": {},
          "execution_count": 61
        }
      ]
    },
    {
      "cell_type": "markdown",
      "metadata": {
        "id": "_GPHm1vNnD69"
      },
      "source": [
        "reduce the dimension to 2"
      ]
    },
    {
      "cell_type": "code",
      "metadata": {
        "id": "hqDHwPDanDP_"
      },
      "source": [
        "# functions needed for PCA\n",
        "def vec_to_2dim(word_vec):\n",
        "    xy = list(pca.transform(word_vec))\n",
        "    xy = xy[0][0], xy[0][1]\n",
        "    return xy\n",
        "\n",
        "def tuple_x(xy):\n",
        "    return tuple(xy)[0]\n",
        "\n",
        "def tuple_y(xy):\n",
        "    return tuple(xy)[1]\n"
      ],
      "execution_count": null,
      "outputs": []
    },
    {
      "cell_type": "code",
      "metadata": {
        "id": "3tcX6HYMIuST",
        "colab": {
          "base_uri": "https://localhost:8080/",
          "height": 797
        },
        "outputId": "7247e39f-4455-4244-df2d-f070c293b7c3"
      },
      "source": [
        "# reduce to 2 dimensions and add to dataframe \n",
        "word_count['word_xy'] = word_count['word_vec'].apply(vec_to_2dim)\n",
        "word_count['word_x'] = word_count['word_xy'].apply(tuple_x)\n",
        "word_count['word_y'] = word_count['word_xy'].apply(tuple_y)\n",
        "word_count"
      ],
      "execution_count": null,
      "outputs": [
        {
          "output_type": "execute_result",
          "data": {
            "text/html": [
              "<div>\n",
              "<style scoped>\n",
              "    .dataframe tbody tr th:only-of-type {\n",
              "        vertical-align: middle;\n",
              "    }\n",
              "\n",
              "    .dataframe tbody tr th {\n",
              "        vertical-align: top;\n",
              "    }\n",
              "\n",
              "    .dataframe thead th {\n",
              "        text-align: right;\n",
              "    }\n",
              "</style>\n",
              "<table border=\"1\" class=\"dataframe\">\n",
              "  <thead>\n",
              "    <tr style=\"text-align: right;\">\n",
              "      <th></th>\n",
              "      <th>word</th>\n",
              "      <th>count</th>\n",
              "      <th>word_id</th>\n",
              "      <th>word_vec</th>\n",
              "      <th>word_xy</th>\n",
              "      <th>word_x</th>\n",
              "      <th>word_y</th>\n",
              "    </tr>\n",
              "  </thead>\n",
              "  <tbody>\n",
              "    <tr>\n",
              "      <th>0</th>\n",
              "      <td>the</td>\n",
              "      <td>33296</td>\n",
              "      <td>1103</td>\n",
              "      <td>[[-0.04128282, 0.028885774, -0.041111287, 0.02...</td>\n",
              "      <td>(0.67844427, 0.6647572)</td>\n",
              "      <td>0.678444</td>\n",
              "      <td>0.664757</td>\n",
              "    </tr>\n",
              "    <tr>\n",
              "      <th>1</th>\n",
              "      <td>of</td>\n",
              "      <td>20851</td>\n",
              "      <td>1104</td>\n",
              "      <td>[[-0.018423943, 0.028360885, 0.003914881, -0.0...</td>\n",
              "      <td>(0.69378495, 0.634493)</td>\n",
              "      <td>0.693785</td>\n",
              "      <td>0.634493</td>\n",
              "    </tr>\n",
              "    <tr>\n",
              "      <th>2</th>\n",
              "      <td>and</td>\n",
              "      <td>17059</td>\n",
              "      <td>1105</td>\n",
              "      <td>[[-0.027223332, 0.01628675, -0.008561882, -0.0...</td>\n",
              "      <td>(0.67557484, 0.7126182)</td>\n",
              "      <td>0.675575</td>\n",
              "      <td>0.712618</td>\n",
              "    </tr>\n",
              "    <tr>\n",
              "      <th>3</th>\n",
              "      <td>to</td>\n",
              "      <td>12615</td>\n",
              "      <td>1106</td>\n",
              "      <td>[[0.038330674, 0.015045563, -0.004117922, 0.02...</td>\n",
              "      <td>(0.7266493, 0.64040554)</td>\n",
              "      <td>0.726649</td>\n",
              "      <td>0.640406</td>\n",
              "    </tr>\n",
              "    <tr>\n",
              "      <th>4</th>\n",
              "      <td>I</td>\n",
              "      <td>10382</td>\n",
              "      <td>146</td>\n",
              "      <td>[[-0.030673549, 0.011712232, 0.038565163, 0.01...</td>\n",
              "      <td>(0.7019248, 0.5289081)</td>\n",
              "      <td>0.701925</td>\n",
              "      <td>0.528908</td>\n",
              "    </tr>\n",
              "    <tr>\n",
              "      <th>...</th>\n",
              "      <td>...</td>\n",
              "      <td>...</td>\n",
              "      <td>...</td>\n",
              "      <td>...</td>\n",
              "      <td>...</td>\n",
              "      <td>...</td>\n",
              "      <td>...</td>\n",
              "    </tr>\n",
              "    <tr>\n",
              "      <th>47551</th>\n",
              "      <td>erroneous,</td>\n",
              "      <td>1</td>\n",
              "      <td>100</td>\n",
              "      <td>[[-0.06084983, -0.026864681, -0.044703305, 0.0...</td>\n",
              "      <td>(-0.26462844, -0.0025529005)</td>\n",
              "      <td>-0.264628</td>\n",
              "      <td>-0.002553</td>\n",
              "    </tr>\n",
              "    <tr>\n",
              "      <th>47552</th>\n",
              "      <td>talking;</td>\n",
              "      <td>1</td>\n",
              "      <td>100</td>\n",
              "      <td>[[-0.06084983, -0.026864681, -0.044703305, 0.0...</td>\n",
              "      <td>(-0.26462844, -0.0025529005)</td>\n",
              "      <td>-0.264628</td>\n",
              "      <td>-0.002553</td>\n",
              "    </tr>\n",
              "    <tr>\n",
              "      <th>47553</th>\n",
              "      <td>traipsin'</td>\n",
              "      <td>1</td>\n",
              "      <td>100</td>\n",
              "      <td>[[-0.06084983, -0.026864681, -0.044703305, 0.0...</td>\n",
              "      <td>(-0.26462844, -0.0025529005)</td>\n",
              "      <td>-0.264628</td>\n",
              "      <td>-0.002553</td>\n",
              "    </tr>\n",
              "    <tr>\n",
              "      <th>47554</th>\n",
              "      <td>L's</td>\n",
              "      <td>1</td>\n",
              "      <td>100</td>\n",
              "      <td>[[-0.06084983, -0.026864681, -0.044703305, 0.0...</td>\n",
              "      <td>(-0.26462844, -0.0025529005)</td>\n",
              "      <td>-0.264628</td>\n",
              "      <td>-0.002553</td>\n",
              "    </tr>\n",
              "    <tr>\n",
              "      <th>47555</th>\n",
              "      <td>colour.\"</td>\n",
              "      <td>1</td>\n",
              "      <td>100</td>\n",
              "      <td>[[-0.06084983, -0.026864681, -0.044703305, 0.0...</td>\n",
              "      <td>(-0.26462844, -0.0025529005)</td>\n",
              "      <td>-0.264628</td>\n",
              "      <td>-0.002553</td>\n",
              "    </tr>\n",
              "  </tbody>\n",
              "</table>\n",
              "<p>47556 rows × 7 columns</p>\n",
              "</div>"
            ],
            "text/plain": [
              "             word  count  ...    word_x    word_y\n",
              "0             the  33296  ...  0.678444  0.664757\n",
              "1              of  20851  ...  0.693785  0.634493\n",
              "2             and  17059  ...  0.675575  0.712618\n",
              "3              to  12615  ...  0.726649  0.640406\n",
              "4               I  10382  ...  0.701925  0.528908\n",
              "...           ...    ...  ...       ...       ...\n",
              "47551  erroneous,      1  ... -0.264628 -0.002553\n",
              "47552    talking;      1  ... -0.264628 -0.002553\n",
              "47553   traipsin'      1  ... -0.264628 -0.002553\n",
              "47554         L's      1  ... -0.264628 -0.002553\n",
              "47555    colour.\"      1  ... -0.264628 -0.002553\n",
              "\n",
              "[47556 rows x 7 columns]"
            ]
          },
          "metadata": {},
          "execution_count": 29
        }
      ]
    },
    {
      "cell_type": "markdown",
      "metadata": {
        "id": "hfc1yApHKl9j"
      },
      "source": [
        "### **1.2.5 Finding the Gender Direction**"
      ]
    },
    {
      "cell_type": "code",
      "metadata": {
        "id": "cGynItq8jHF2"
      },
      "source": [
        "# gender pair words: \n",
        "\n",
        "gender_pairs = [\"she\", \"he\", \"her\", \"his\", \"woman\", \"man\", \"aunt\", \"uncle\", \"niece\", \"nephew\", \"daugters\", \"sons\", \"mother\", \"father\", \"daughter\", \"son\", \"grandaughter\", \"grandson\", \"girl\", \"boy\", \"stepdaughter\", \"stepson\", \"mom\",\"dad\"]"
      ],
      "execution_count": null,
      "outputs": []
    },
    {
      "cell_type": "code",
      "metadata": {
        "colab": {
          "base_uri": "https://localhost:8080/"
        },
        "id": "B-moJ0HNJlQV",
        "outputId": "db0f5dc2-d0b9-41dc-d732-e25970f0adc3"
      },
      "source": [
        "# Searching in whole column for gender words\n",
        "for i in range(len(word_count.word)):\n",
        "    if 'she' == word_count.word[i]:\n",
        "          \n",
        "        # indx will store the tuple having that \n",
        "        # particular value in column.\n",
        "        indx = i\n",
        "  \n",
        "# below line will print that tuple\n",
        "word_count.iloc[indx]"
      ],
      "execution_count": null,
      "outputs": [
        {
          "output_type": "execute_result",
          "data": {
            "text/plain": [
              "word                                                                                                                                                she\n",
              "count                                                                                                                                               957\n",
              "word_id                                                                                                                                            1131\n",
              "word_vec    [[-0.03390125, 0.019389033, 0.0010120879, 0.016935691, 0.007077763, -0.037435383, -0.0336617, -0.029336803, 0.043541253, 0.03215376, -0....\n",
              "word_xy                                                                                                                         (0.7624802, 0.42542326)\n",
              "word_x                                                                                                                                          0.76248\n",
              "word_y                                                                                                                                         0.425423\n",
              "Name: 51, dtype: object"
            ]
          },
          "metadata": {},
          "execution_count": 63
        }
      ]
    },
    {
      "cell_type": "code",
      "metadata": {
        "id": "HRXd93clKb7c"
      },
      "source": [
        "df_list = [] \n",
        "for g in gender_pairs:\n",
        "    df = pd.DataFrame(word_count.loc[word_count['word'] == g])\n",
        "    df_list.append(df)\n",
        "\n",
        "df = pd.concat(df_list, ignore_index = True)\n",
        "df\n",
        "\n",
        "# need to remove grandson and sons as they are not in a gender pair!\n",
        "df = df[df.word != 'sons']\n",
        "df = df[df.word != 'grandson']"
      ],
      "execution_count": null,
      "outputs": []
    },
    {
      "cell_type": "code",
      "metadata": {
        "id": "LMKwpkuwNJld",
        "colab": {
          "base_uri": "https://localhost:8080/",
          "height": 677
        },
        "outputId": "0b52602c-84bb-487d-a04d-9d1faf973a4d"
      },
      "source": [
        "# plot\n",
        "import seaborn as sns\n",
        "import matplotlib.pyplot as plt\n",
        "%matplotlib inline\n",
        "pd.set_option('display.max_colwidth', 140)\n",
        "\n",
        "sns.set(rc = {'figure.figsize':(10,5)}, font_scale=3)\n",
        "\n",
        "p = sns.relplot(x=\"word_x\", y=\"word_y\",\n",
        "             alpha=1, palette=\"muted\",\n",
        "            height=20, s=100, label = 'big', aspect=1, data=df)\n",
        "ax = p.axes[0,0]\n",
        "\n",
        "for idx, row in df.iterrows():\n",
        "     ax.text(row['word_x']+ 0.003, row['word_y']+0.001, row['word'], horizontalalignment='left', size='small', color='black')"
      ],
      "execution_count": null,
      "outputs": [
        {
          "output_type": "display_data",
          "data": {
            "image/png": "[encoded data removed]",
            "text/plain": [
              "<Figure size 1440x1440 with 1 Axes>"
            ]
          },
          "metadata": {}
        }
      ]
    },
    {
      "cell_type": "code",
      "metadata": {
        "id": "UwbGK9DrpOdv"
      },
      "source": [
        "# pairs = [\n",
        "#     (\"woman\", \"man\"),\n",
        "#     (\"her\", \"his\"),\n",
        "#     (\"she\", \"he\"),\n",
        "#     (\"aunt\", \"uncle\"),\n",
        "#     (\"niece\", \"nephew\"),\n",
        "#     (\"daughters\", \"sons\"),\n",
        "#     (\"mother\", \"father\"),\n",
        "#     (\"daughter\", \"son\"),\n",
        "#     (\"granddaughter\", \"grandson\"),\n",
        "#     (\"girl\", \"boy\"),\n",
        "#     (\"stepdaughter\", \"stepson\"),\n",
        "#     (\"mom\", \"dad\"),\n",
        "# ]\n"
      ],
      "execution_count": null,
      "outputs": []
    },
    {
      "cell_type": "code",
      "metadata": {
        "id": "lcZIFHh2wzvG"
      },
      "source": [
        "# FUNCTION FOR GENDER DIRECTION WHEN USING XY COORDS\n",
        "\n",
        "# import numpy as np\n",
        "# def _np_normalize(v):\n",
        "#   \"\"\"Returns the input vector, normalized.\"\"\"\n",
        "#   return v / np.linalg.norm(v)\n",
        "\n",
        "# def find_gender_direction(embed_df):\n",
        "#   \"\"\"Finds and returns a 'gender direction'.\n",
        "  \n",
        "#   Args:\n",
        "#   - embed: the embedding matrix \n",
        "#   - indices: a dictionary mapping from string to their corresponding indixes in the embedding matrix\n",
        "#   \"\"\"\n",
        "#   l = embed_df['word_xy'].tolist()\n",
        "#   a = np.array(l)\n",
        "\n",
        "#   m = []\n",
        "#   for i in range(1,len(df)):\n",
        "#     m.append(a[i] - a[i-1])\n",
        "#   m = np.array(m)\n",
        "#  # the next three lines are just a PCA.\n",
        "#   m = np.cov(np.array(m).T)\n",
        "#   evals, evecs = np.linalg.eig(m)\n",
        "#   return _np_normalize(np.real(evecs[:, np.argmax(evals)])) "
      ],
      "execution_count": null,
      "outputs": []
    },
    {
      "cell_type": "code",
      "metadata": {
        "id": "Afyk35pWORgb"
      },
      "source": [
        "# # Using the embeddings, find the gender vector.\n",
        "# gender_direction = find_gender_direction(df)\n",
        "# print(\"gender direction: {}\".format(str(gender_direction.flatten())))"
      ],
      "execution_count": null,
      "outputs": []
    },
    {
      "cell_type": "code",
      "metadata": {
        "id": "oPfdltbylCWa"
      },
      "source": [
        "# FINDING GENDER DIRECTION USING ORIGINAL EMBEDDINGS \n",
        "\n",
        "gend_emb_list = df.word_vec.tolist() \n",
        "gender1 = (gend_emb_list[0] - gend_emb_list[1])\n",
        "gender2 = gend_emb_list[2] - gend_emb_list[3]\n",
        "gender3 = gend_emb_list[4] - gend_emb_list[5]\n",
        "gender4 = gend_emb_list[6] - gend_emb_list[7]\n",
        "gender5 = gend_emb_list[8] - gend_emb_list[9]\n",
        "gender6 = gend_emb_list[10] - gend_emb_list[11]\n",
        "gender7 = gend_emb_list[12] - gend_emb_list[13]\n",
        "gender8 = gend_emb_list[14] - gend_emb_list[15]\n",
        "\n",
        "\n",
        "a = np.append(gender1, gender2)\n",
        "b = np.append(a, gender3)\n",
        "c = np.append(b, gender4)\n",
        "d = np.append(c, gender5)\n",
        "e = np.append(d, gender6)\n",
        "f = np.append(e, gender7)\n",
        "gender_dir_all = np.append(f, gender8)\n"
      ],
      "execution_count": null,
      "outputs": []
    },
    {
      "cell_type": "code",
      "metadata": {
        "id": "dxT_Q3M2tvNd"
      },
      "source": [
        "from itertools import chain\n",
        "\n",
        "gend_emb_list = df.word_vec.tolist() \n",
        "gender1 = (gend_emb_list[0] - gend_emb_list[1]).tolist()\n",
        "gender1 = list(chain.from_iterable(gender1))\n",
        "\n",
        "gender2 = (gend_emb_list[2] - gend_emb_list[3]).tolist()\n",
        "gender2 = list(chain.from_iterable(gender2))\n",
        "\n",
        "gender3 = (gend_emb_list[4] - gend_emb_list[5]).tolist()\n",
        "gender3 = list(chain.from_iterable(gender3))\n",
        "\n",
        "gender4 = (gend_emb_list[6] - gend_emb_list[7]).tolist()\n",
        "gender4 = list(chain.from_iterable(gender4))\n",
        "\n",
        "gender5 = (gend_emb_list[8] - gend_emb_list[9]).tolist()\n",
        "gender5 = list(chain.from_iterable(gender5))\n",
        "\n",
        "gender6 = (gend_emb_list[10] - gend_emb_list[11]).tolist()\n",
        "gender6 = list(chain.from_iterable(gender6))\n",
        "\n",
        "gender7 = (gend_emb_list[12] - gend_emb_list[13]).tolist()\n",
        "gender7 = list(chain.from_iterable(gender7))\n",
        "\n",
        "gender8 = (gend_emb_list[14] - gend_emb_list[15]).tolist()\n",
        "gender8 = list(chain.from_iterable(gender8))\n",
        "\n",
        "\n",
        "m = [gender1, gender2, gender3, gender4, gender5, gender6, gender7, gender8]\n",
        "\n",
        "m = np.array(m)\n",
        "print(type(m))"
      ],
      "execution_count": null,
      "outputs": []
    },
    {
      "cell_type": "code",
      "metadata": {
        "id": "chFa0v1ztR8B"
      },
      "source": [
        "def find_gend_dir(m):\n",
        "  m = np.cov(np.array(m).T)\n",
        "  evals, evecs = np.linalg.eig(m)\n",
        "  return _np_normalize(np.real(evecs[:, np.argmax(evals)])) "
      ],
      "execution_count": null,
      "outputs": []
    },
    {
      "cell_type": "code",
      "metadata": {
        "id": "T7d6VVqdtYrp"
      },
      "source": [
        "gend_dir = find_gend_dir(m)\n",
        "print(len(gend_dir))"
      ],
      "execution_count": null,
      "outputs": []
    },
    {
      "cell_type": "markdown",
      "metadata": {
        "id": "ftj8pd6a7VnC"
      },
      "source": [
        "### **1.2.6 Computing Z (finding biased words)**\n",
        "\n",
        "finding the gender direction of certain words. \n",
        "\n",
        "this is needed for computing Z from X. \n",
        "\n",
        "times the embedding vector for the word with the gender direction (the dot product) \n",
        "\n",
        "this finds the projection of words onto the gender dimension. \n",
        "\n",
        "\"Once you have the first principal component of the embedding differences, you can start projecting the embeddings of words onto it.  That projection is roughly the degree to which a word is relevant to the latent protected variable defined by the first principle component of the word pairs given.  This projection can then be taken as the protected variable $Z$ which the adversary is attempting to predict on the basis of the predicted value of $Y$.  The code below illustrates how to construct a function which computes $Z$ from $X$ in this way.\" (Zhang et al., 2018). "
      ]
    },
    {
      "cell_type": "code",
      "metadata": {
        "colab": {
          "base_uri": "https://localhost:8080/",
          "height": 1000
        },
        "id": "8ugpo3Lm6Whi",
        "outputId": "ca075b09-e687-483d-d081-d3591b96c210"
      },
      "source": [
        "# creating a dataframe of the word and the gender score \n",
        "\n",
        "word_count['gender_score'] = word_count['word_vec'].apply(lambda x: x.dot(gend_dir))\n",
        "word_count.sort_values(by=\"gender_score\", inplace=True, ascending=False)\n",
        "\n",
        "word_count.head(30)"
      ],
      "execution_count": null,
      "outputs": [
        {
          "output_type": "execute_result",
          "data": {
            "text/html": [
              "<div>\n",
              "<style scoped>\n",
              "    .dataframe tbody tr th:only-of-type {\n",
              "        vertical-align: middle;\n",
              "    }\n",
              "\n",
              "    .dataframe tbody tr th {\n",
              "        vertical-align: top;\n",
              "    }\n",
              "\n",
              "    .dataframe thead th {\n",
              "        text-align: right;\n",
              "    }\n",
              "</style>\n",
              "<table border=\"1\" class=\"dataframe\">\n",
              "  <thead>\n",
              "    <tr style=\"text-align: right;\">\n",
              "      <th></th>\n",
              "      <th>word</th>\n",
              "      <th>count</th>\n",
              "      <th>word_id</th>\n",
              "      <th>word_vec</th>\n",
              "      <th>word_xy</th>\n",
              "      <th>word_x</th>\n",
              "      <th>word_y</th>\n",
              "      <th>gender_score</th>\n",
              "    </tr>\n",
              "  </thead>\n",
              "  <tbody>\n",
              "    <tr>\n",
              "      <th>793</th>\n",
              "      <td>uncle</td>\n",
              "      <td>56</td>\n",
              "      <td>4906</td>\n",
              "      <td>[[0.06393534, 0.02730004, -0.016631322, -0.019648815, -0.07200914, 0.023172079, 0.043165103, 0.037464157, -0.017017063, -0.052541655, -0...</td>\n",
              "      <td>(0.91255414, 0.09204081)</td>\n",
              "      <td>0.912554</td>\n",
              "      <td>0.092041</td>\n",
              "      <td>[0.2941753258776692]</td>\n",
              "    </tr>\n",
              "    <tr>\n",
              "      <th>2926</th>\n",
              "      <td>women</td>\n",
              "      <td>17</td>\n",
              "      <td>1535</td>\n",
              "      <td>[[0.033275083, -0.0049416567, -0.024652813, 0.018333184, -0.031105042, 0.0392244, -0.050241277, -0.0370324, -0.049441334, 0.005990213, 0...</td>\n",
              "      <td>(0.8023096, 0.38931525)</td>\n",
              "      <td>0.802310</td>\n",
              "      <td>0.389315</td>\n",
              "      <td>[0.23125639852531452]</td>\n",
              "    </tr>\n",
              "    <tr>\n",
              "      <th>2254</th>\n",
              "      <td>female</td>\n",
              "      <td>22</td>\n",
              "      <td>2130</td>\n",
              "      <td>[[0.073579095, 0.029791787, -0.00031873572, 0.03027111, -0.02030325, 0.022025358, -0.058995858, -0.028096192, 0.034467753, 0.010578248, ...</td>\n",
              "      <td>(0.852731, 0.31780314)</td>\n",
              "      <td>0.852731</td>\n",
              "      <td>0.317803</td>\n",
              "      <td>[0.22448290695886658]</td>\n",
              "    </tr>\n",
              "    <tr>\n",
              "      <th>721</th>\n",
              "      <td>woman</td>\n",
              "      <td>61</td>\n",
              "      <td>1590</td>\n",
              "      <td>[[0.031037057, -0.02565798, 0.02183031, 0.022763927, -0.044099342, 0.034357756, -0.018957108, -0.010394675, -0.013794221, -0.019268101, ...</td>\n",
              "      <td>(0.8114155, 0.4185448)</td>\n",
              "      <td>0.811415</td>\n",
              "      <td>0.418545</td>\n",
              "      <td>[0.2016638603713367]</td>\n",
              "    </tr>\n",
              "    <tr>\n",
              "      <th>15391</th>\n",
              "      <td>Women</td>\n",
              "      <td>3</td>\n",
              "      <td>2453</td>\n",
              "      <td>[[0.019057754, -0.01906762, -0.00834255, -0.037979353, -0.079726025, 0.02721507, -0.030165048, -0.025232999, -0.057479065, -0.01239877, ...</td>\n",
              "      <td>(0.8773351, 0.07740932)</td>\n",
              "      <td>0.877335</td>\n",
              "      <td>0.077409</td>\n",
              "      <td>[0.17419735488712826]</td>\n",
              "    </tr>\n",
              "    <tr>\n",
              "      <th>9136</th>\n",
              "      <td>females</td>\n",
              "      <td>5</td>\n",
              "      <td>3032</td>\n",
              "      <td>[[0.02966979, 0.029003946, 0.007266165, -2.8824597e-05, -0.058802463, -0.020435544, 0.047846507, 0.040113445, 0.018293662, 0.017465629, ...</td>\n",
              "      <td>(0.92362136, -0.0020766263)</td>\n",
              "      <td>0.923621</td>\n",
              "      <td>-0.002077</td>\n",
              "      <td>[0.17285033020624435]</td>\n",
              "    </tr>\n",
              "    <tr>\n",
              "      <th>31</th>\n",
              "      <td>her</td>\n",
              "      <td>1953</td>\n",
              "      <td>1123</td>\n",
              "      <td>[[0.004219352, 0.029523268, -0.04063679, -0.037372787, 0.028807608, 0.023635231, -0.033025645, -0.017901646, 0.009976615, -0.015785722, ...</td>\n",
              "      <td>(0.74779886, 0.54219973)</td>\n",
              "      <td>0.747799</td>\n",
              "      <td>0.542200</td>\n",
              "      <td>[0.17123234675918392]</td>\n",
              "    </tr>\n",
              "    <tr>\n",
              "      <th>23050</th>\n",
              "      <td>Vice</td>\n",
              "      <td>2</td>\n",
              "      <td>4070</td>\n",
              "      <td>[[0.00087399856, -0.02212506, 0.0033643881, -0.033882212, -0.092123255, 0.061022013, 0.07765811, 0.01358855, 0.0052818386, -0.03757751, ...</td>\n",
              "      <td>(0.951811, 0.07348624)</td>\n",
              "      <td>0.951811</td>\n",
              "      <td>0.073486</td>\n",
              "      <td>[0.17002669341828452]</td>\n",
              "    </tr>\n",
              "    <tr>\n",
              "      <th>3023</th>\n",
              "      <td>vice</td>\n",
              "      <td>16</td>\n",
              "      <td>4711</td>\n",
              "      <td>[[-0.072694995, -0.07198722, -0.00431666, -0.013484083, -0.022661405, 0.033997227, 0.03161339, 0.035402738, 0.0010053752, -0.042892132, ...</td>\n",
              "      <td>(0.9229136, 0.14435369)</td>\n",
              "      <td>0.922914</td>\n",
              "      <td>0.144354</td>\n",
              "      <td>[0.16377683704823548]</td>\n",
              "    </tr>\n",
              "    <tr>\n",
              "      <th>14912</th>\n",
              "      <td>nephew</td>\n",
              "      <td>3</td>\n",
              "      <td>7502</td>\n",
              "      <td>[[0.04509845, 0.030363822, 0.041744396, -0.040152095, -0.067008205, 0.017915886, 0.055648647, 0.1092414, -0.03265121, -0.014102651, -0.0...</td>\n",
              "      <td>(0.958157, -0.014694709)</td>\n",
              "      <td>0.958157</td>\n",
              "      <td>-0.014695</td>\n",
              "      <td>[0.1583135396738008]</td>\n",
              "    </tr>\n",
              "    <tr>\n",
              "      <th>2776</th>\n",
              "      <td>double</td>\n",
              "      <td>18</td>\n",
              "      <td>2702</td>\n",
              "      <td>[[0.026121141, 0.036903802, -0.041937888, 0.030795725, 0.018741105, -0.0001707945, -0.014091141, -0.021311326, 0.011530125, -0.017408108...</td>\n",
              "      <td>(0.7647664, 0.38881552)</td>\n",
              "      <td>0.764766</td>\n",
              "      <td>0.388816</td>\n",
              "      <td>[0.14080939728512493]</td>\n",
              "    </tr>\n",
              "    <tr>\n",
              "      <th>22359</th>\n",
              "      <td>lieutenant</td>\n",
              "      <td>2</td>\n",
              "      <td>6403</td>\n",
              "      <td>[[0.008549686, -0.009762804, -0.022220233, -0.07190542, -0.053115778, -0.049394302, 0.04493374, 0.029560074, 0.019619696, 0.060564823, -...</td>\n",
              "      <td>(0.9869274, 0.041007493)</td>\n",
              "      <td>0.986927</td>\n",
              "      <td>0.041007</td>\n",
              "      <td>[0.13837699949543963]</td>\n",
              "    </tr>\n",
              "    <tr>\n",
              "      <th>7250</th>\n",
              "      <td>Uncle</td>\n",
              "      <td>6</td>\n",
              "      <td>7612</td>\n",
              "      <td>[[0.031909604, -0.0118366955, -0.002897028, 0.0061523654, -0.046650752, -0.045826763, 0.097391754, 0.0018228872, -0.015387396, -0.122927...</td>\n",
              "      <td>(0.8858433, -0.0016012811)</td>\n",
              "      <td>0.885843</td>\n",
              "      <td>-0.001601</td>\n",
              "      <td>[0.1312617635811656]</td>\n",
              "    </tr>\n",
              "    <tr>\n",
              "      <th>14595</th>\n",
              "      <td>consecrated</td>\n",
              "      <td>3</td>\n",
              "      <td>12636</td>\n",
              "      <td>[[0.028897917, -0.0029430327, 0.015342787, 0.034867335, -0.032574017, 0.0850811, 0.081771456, 0.08338649, -0.016009305, -0.0682437, 0.04...</td>\n",
              "      <td>(1.0580888, -0.3002612)</td>\n",
              "      <td>1.058089</td>\n",
              "      <td>-0.300261</td>\n",
              "      <td>[0.1293311781183546]</td>\n",
              "    </tr>\n",
              "    <tr>\n",
              "      <th>8875</th>\n",
              "      <td>discipline</td>\n",
              "      <td>5</td>\n",
              "      <td>9360</td>\n",
              "      <td>[[-0.05107116, -0.00652456, -0.070887886, -0.021196013, 0.02805309, 0.040408242, -0.012510907, 0.037388127, -0.06638424, -0.014585285, 0...</td>\n",
              "      <td>(0.89563763, 0.16024034)</td>\n",
              "      <td>0.895638</td>\n",
              "      <td>0.160240</td>\n",
              "      <td>[0.1291000325252321]</td>\n",
              "    </tr>\n",
              "    <tr>\n",
              "      <th>370</th>\n",
              "      <td>white</td>\n",
              "      <td>117</td>\n",
              "      <td>1653</td>\n",
              "      <td>[[0.0007246159, -0.024813883, -0.03870825, 0.004312977, -0.011889083, -0.03063096, -0.03854288, -0.06420921, 0.059653044, 0.017048452, 0...</td>\n",
              "      <td>(0.78168404, 0.41809627)</td>\n",
              "      <td>0.781684</td>\n",
              "      <td>0.418096</td>\n",
              "      <td>[0.1270077893132044]</td>\n",
              "    </tr>\n",
              "    <tr>\n",
              "      <th>30708</th>\n",
              "      <td>elect</td>\n",
              "      <td>1</td>\n",
              "      <td>11797</td>\n",
              "      <td>[[0.012916377, -0.013831177, 0.0020957177, 0.08245547, -0.017256305, 0.048711162, 0.020821812, -0.019804018, -0.0084723225, 0.0016868173...</td>\n",
              "      <td>(1.009297, -0.010034365)</td>\n",
              "      <td>1.009297</td>\n",
              "      <td>-0.010034</td>\n",
              "      <td>[0.12486486189397561]</td>\n",
              "    </tr>\n",
              "    <tr>\n",
              "      <th>18663</th>\n",
              "      <td>Juliet</td>\n",
              "      <td>2</td>\n",
              "      <td>14143</td>\n",
              "      <td>[[0.062307883, 0.036642928, -0.038734052, 0.0061098495, -0.058748297, -0.0052965553, 0.06629999, 0.045755044, 0.02741763, -0.07365792, -...</td>\n",
              "      <td>(0.9642799, -0.06299814)</td>\n",
              "      <td>0.964280</td>\n",
              "      <td>-0.062998</td>\n",
              "      <td>[0.12422394323470443]</td>\n",
              "    </tr>\n",
              "    <tr>\n",
              "      <th>3143</th>\n",
              "      <td>married</td>\n",
              "      <td>16</td>\n",
              "      <td>1597</td>\n",
              "      <td>[[0.057953123, -0.059150387, -0.029657105, -0.06428841, -0.042094268, 0.026408635, 0.017205985, -0.029644372, -0.057795417, -0.07757695,...</td>\n",
              "      <td>(0.86110556, 0.14841698)</td>\n",
              "      <td>0.861106</td>\n",
              "      <td>0.148417</td>\n",
              "      <td>[0.12017056896225012]</td>\n",
              "    </tr>\n",
              "    <tr>\n",
              "      <th>36324</th>\n",
              "      <td>corporations</td>\n",
              "      <td>1</td>\n",
              "      <td>12584</td>\n",
              "      <td>[[0.010089215, -0.05539368, -0.020119535, 0.0052145366, 0.0149692455, -0.031363953, 0.009331873, 0.03773838, -0.02874052, 0.0140945725, ...</td>\n",
              "      <td>(1.0465107, -0.10940446)</td>\n",
              "      <td>1.046511</td>\n",
              "      <td>-0.109404</td>\n",
              "      <td>[0.1196539457430559]</td>\n",
              "    </tr>\n",
              "    <tr>\n",
              "      <th>51</th>\n",
              "      <td>she</td>\n",
              "      <td>957</td>\n",
              "      <td>1131</td>\n",
              "      <td>[[-0.03390125, 0.019389033, 0.0010120879, 0.016935691, 0.007077763, -0.037435383, -0.0336617, -0.029336803, 0.043541253, 0.03215376, -0....</td>\n",
              "      <td>(0.76248026, 0.42542255)</td>\n",
              "      <td>0.762480</td>\n",
              "      <td>0.425423</td>\n",
              "      <td>[0.1189523631908583]</td>\n",
              "    </tr>\n",
              "    <tr>\n",
              "      <th>32560</th>\n",
              "      <td>contested</td>\n",
              "      <td>1</td>\n",
              "      <td>6839</td>\n",
              "      <td>[[-0.018063942, -0.014885561, 0.05893507, -0.030254181, 0.00012135611, 0.0117174825, 0.028011708, -0.015526347, 0.016858032, -0.03584163...</td>\n",
              "      <td>(0.9386927, -0.0538743)</td>\n",
              "      <td>0.938693</td>\n",
              "      <td>-0.053874</td>\n",
              "      <td>[0.11850652377817747]</td>\n",
              "    </tr>\n",
              "    <tr>\n",
              "      <th>36420</th>\n",
              "      <td>graduate</td>\n",
              "      <td>1</td>\n",
              "      <td>4469</td>\n",
              "      <td>[[0.0069721933, -0.05804478, 0.005506015, -0.08280382, -0.008103714, 0.08162538, 0.04141423, -0.021025697, -0.055554554, 0.05089152, -0....</td>\n",
              "      <td>(0.89627314, 0.10822332)</td>\n",
              "      <td>0.896273</td>\n",
              "      <td>0.108223</td>\n",
              "      <td>[0.11567676559499501]</td>\n",
              "    </tr>\n",
              "    <tr>\n",
              "      <th>18590</th>\n",
              "      <td>mantle</td>\n",
              "      <td>2</td>\n",
              "      <td>19435</td>\n",
              "      <td>[[0.09611615, -0.04408025, -0.08896784, 0.011638931, -0.06163592, -0.053979483, -0.012785968, 0.043881714, 0.052127097, 0.015055794, -0....</td>\n",
              "      <td>(0.9524487, -0.07634911)</td>\n",
              "      <td>0.952449</td>\n",
              "      <td>-0.076349</td>\n",
              "      <td>[0.11554370527702158]</td>\n",
              "    </tr>\n",
              "    <tr>\n",
              "      <th>11317</th>\n",
              "      <td>casually</td>\n",
              "      <td>4</td>\n",
              "      <td>13725</td>\n",
              "      <td>[[-0.004493031, -0.0068583125, -0.068301976, -0.012149254, 0.009028132, -0.0131891, 0.049378958, 0.06407418, -0.0106355585, -0.048532713...</td>\n",
              "      <td>(1.0019234, -0.10319325)</td>\n",
              "      <td>1.001923</td>\n",
              "      <td>-0.103193</td>\n",
              "      <td>[0.11539015726592755]</td>\n",
              "    </tr>\n",
              "    <tr>\n",
              "      <th>9200</th>\n",
              "      <td>feminine</td>\n",
              "      <td>5</td>\n",
              "      <td>13385</td>\n",
              "      <td>[[0.07064623, -0.015314549, 0.012766936, 0.0774381, -0.048872404, 0.07200243, -0.022936624, 0.080227815, 0.01859023, 0.00236966, 0.00856...</td>\n",
              "      <td>(0.8878982, -0.103946894)</td>\n",
              "      <td>0.887898</td>\n",
              "      <td>-0.103947</td>\n",
              "      <td>[0.11536760547738423]</td>\n",
              "    </tr>\n",
              "    <tr>\n",
              "      <th>11497</th>\n",
              "      <td>Michel</td>\n",
              "      <td>4</td>\n",
              "      <td>8372</td>\n",
              "      <td>[[0.0062010856, -0.010314849, 0.013801447, -0.061306264, -0.027480345, 0.01767861, 0.022638693, 0.028528482, -0.032053884, 0.046170678, ...</td>\n",
              "      <td>(0.89931375, -0.007201885)</td>\n",
              "      <td>0.899314</td>\n",
              "      <td>-0.007202</td>\n",
              "      <td>[0.11364541185360769]</td>\n",
              "    </tr>\n",
              "    <tr>\n",
              "      <th>16593</th>\n",
              "      <td>chemistry</td>\n",
              "      <td>2</td>\n",
              "      <td>8117</td>\n",
              "      <td>[[0.0051629595, 0.011699842, -0.060327243, 0.021436041, 0.029320566, 0.049812395, -0.034954097, -0.025957203, -0.020170378, -0.002489430...</td>\n",
              "      <td>(0.92049444, 0.068608105)</td>\n",
              "      <td>0.920494</td>\n",
              "      <td>0.068608</td>\n",
              "      <td>[0.11338064067488571]</td>\n",
              "    </tr>\n",
              "    <tr>\n",
              "      <th>927</th>\n",
              "      <td>succeeded</td>\n",
              "      <td>49</td>\n",
              "      <td>3760</td>\n",
              "      <td>[[0.028220505, 0.03397072, -0.095672466, 0.037411187, -0.108254045, -0.022799002, 0.030110722, 0.010980033, -0.057638943, 0.038183477, 0...</td>\n",
              "      <td>(0.9193875, -0.023042958)</td>\n",
              "      <td>0.919388</td>\n",
              "      <td>-0.023043</td>\n",
              "      <td>[0.11270851507957586]</td>\n",
              "    </tr>\n",
              "    <tr>\n",
              "      <th>1155</th>\n",
              "      <td>girl</td>\n",
              "      <td>40</td>\n",
              "      <td>1873</td>\n",
              "      <td>[[-0.0070503415, -0.029107394, 0.049535714, 0.034763236, -0.044375386, -0.034927607, -0.016951995, -0.025657304, -0.04133478, -0.0036377...</td>\n",
              "      <td>(0.8824624, 0.40699813)</td>\n",
              "      <td>0.882462</td>\n",
              "      <td>0.406998</td>\n",
              "      <td>[0.11140990878843089]</td>\n",
              "    </tr>\n",
              "  </tbody>\n",
              "</table>\n",
              "</div>"
            ],
            "text/plain": [
              "               word  count  word_id  ...    word_x    word_y           gender_score\n",
              "793           uncle     56     4906  ...  0.912554  0.092041   [0.2941753258776692]\n",
              "2926          women     17     1535  ...  0.802310  0.389315  [0.23125639852531452]\n",
              "2254         female     22     2130  ...  0.852731  0.317803  [0.22448290695886658]\n",
              "721           woman     61     1590  ...  0.811415  0.418545   [0.2016638603713367]\n",
              "15391         Women      3     2453  ...  0.877335  0.077409  [0.17419735488712826]\n",
              "9136        females      5     3032  ...  0.923621 -0.002077  [0.17285033020624435]\n",
              "31              her   1953     1123  ...  0.747799  0.542200  [0.17123234675918392]\n",
              "23050          Vice      2     4070  ...  0.951811  0.073486  [0.17002669341828452]\n",
              "3023           vice     16     4711  ...  0.922914  0.144354  [0.16377683704823548]\n",
              "14912        nephew      3     7502  ...  0.958157 -0.014695   [0.1583135396738008]\n",
              "2776         double     18     2702  ...  0.764766  0.388816  [0.14080939728512493]\n",
              "22359    lieutenant      2     6403  ...  0.986927  0.041007  [0.13837699949543963]\n",
              "7250          Uncle      6     7612  ...  0.885843 -0.001601   [0.1312617635811656]\n",
              "14595   consecrated      3    12636  ...  1.058089 -0.300261   [0.1293311781183546]\n",
              "8875     discipline      5     9360  ...  0.895638  0.160240   [0.1291000325252321]\n",
              "370           white    117     1653  ...  0.781684  0.418096   [0.1270077893132044]\n",
              "30708         elect      1    11797  ...  1.009297 -0.010034  [0.12486486189397561]\n",
              "18663        Juliet      2    14143  ...  0.964280 -0.062998  [0.12422394323470443]\n",
              "3143        married     16     1597  ...  0.861106  0.148417  [0.12017056896225012]\n",
              "36324  corporations      1    12584  ...  1.046511 -0.109404   [0.1196539457430559]\n",
              "51              she    957     1131  ...  0.762480  0.425423   [0.1189523631908583]\n",
              "32560     contested      1     6839  ...  0.938693 -0.053874  [0.11850652377817747]\n",
              "36420      graduate      1     4469  ...  0.896273  0.108223  [0.11567676559499501]\n",
              "18590        mantle      2    19435  ...  0.952449 -0.076349  [0.11554370527702158]\n",
              "11317      casually      4    13725  ...  1.001923 -0.103193  [0.11539015726592755]\n",
              "9200       feminine      5    13385  ...  0.887898 -0.103947  [0.11536760547738423]\n",
              "11497        Michel      4     8372  ...  0.899314 -0.007202  [0.11364541185360769]\n",
              "16593     chemistry      2     8117  ...  0.920494  0.068608  [0.11338064067488571]\n",
              "927       succeeded     49     3760  ...  0.919388 -0.023043  [0.11270851507957586]\n",
              "1155           girl     40     1873  ...  0.882462  0.406998  [0.11140990878843089]\n",
              "\n",
              "[30 rows x 8 columns]"
            ]
          },
          "metadata": {},
          "execution_count": 187
        }
      ]
    },
    {
      "cell_type": "code",
      "metadata": {
        "id": "zifqIQXvXn0K"
      },
      "source": [
        "def get_gendered_words(amount_of_ends, df):\n",
        "\n",
        "    male_bias = df.iloc[-amount_of_ends:, :]\n",
        "    female_bias = df.iloc[:amount_of_ends, :]\n",
        "\n",
        "    male_biased = male_bias.word.tolist() \n",
        "\n",
        "    female_biased = female_bias.word.tolist()\n",
        "\n",
        "    return male_biased, female_biased"
      ],
      "execution_count": null,
      "outputs": []
    },
    {
      "cell_type": "code",
      "metadata": {
        "colab": {
          "base_uri": "https://localhost:8080/",
          "height": 162
        },
        "id": "xpTP_hZcY88v",
        "outputId": "097ba3e6-6108-4bdf-d70f-57cb05d65582"
      },
      "source": [
        "female_biased, male_biased = get_gendered_words(200, word_count)"
      ],
      "execution_count": null,
      "outputs": [
        {
          "output_type": "error",
          "ename": "NameError",
          "evalue": "ignored",
          "traceback": [
            "\u001b[0;31m---------------------------------------------------------------------------\u001b[0m",
            "\u001b[0;31mNameError\u001b[0m                                 Traceback (most recent call last)",
            "\u001b[0;32m<ipython-input-3-56ee823ca2a5>\u001b[0m in \u001b[0;36m<module>\u001b[0;34m()\u001b[0m\n\u001b[0;32m----> 1\u001b[0;31m \u001b[0mfemale_biased\u001b[0m\u001b[0;34m,\u001b[0m \u001b[0mmale_biased\u001b[0m \u001b[0;34m=\u001b[0m \u001b[0mget_gendered_words\u001b[0m\u001b[0;34m(\u001b[0m\u001b[0;36m200\u001b[0m\u001b[0;34m,\u001b[0m \u001b[0mword_count\u001b[0m\u001b[0;34m)\u001b[0m\u001b[0;34m\u001b[0m\u001b[0;34m\u001b[0m\u001b[0m\n\u001b[0m",
            "\u001b[0;31mNameError\u001b[0m: name 'word_count' is not defined"
          ]
        }
      ]
    }
  ]
}