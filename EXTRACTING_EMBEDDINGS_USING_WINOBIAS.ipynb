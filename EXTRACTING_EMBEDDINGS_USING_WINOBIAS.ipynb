{
  "nbformat": 4,
  "nbformat_minor": 0,
  "metadata": {
    "colab": {
      "name": "EXTRACTING EMBEDDINGS USING WINOBIAS",
      "provenance": []
    },
    "kernelspec": {
      "name": "python3",
      "display_name": "Python 3"
    },
    "language_info": {
      "name": "python"
    },
    "widgets": {
      "application/vnd.jupyter.widget-state+json": {
        "5c03298cad04448489aaa794623ecad2": {
          "model_module": "@jupyter-widgets/controls",
          "model_name": "HBoxModel",
          "model_module_version": "1.5.0",
          "state": {
            "_view_name": "HBoxView",
            "_dom_classes": [],
            "_model_name": "HBoxModel",
            "_view_module": "@jupyter-widgets/controls",
            "_model_module_version": "1.5.0",
            "_view_count": null,
            "_view_module_version": "1.5.0",
            "box_style": "",
            "layout": "IPY_MODEL_eaadc5c69b7d4692bb1aff628a842579",
            "_model_module": "@jupyter-widgets/controls",
            "children": [
              "IPY_MODEL_4540e2489aa043c697188a3d55795e39",
              "IPY_MODEL_f094e1b9a0da4e148ac99338a589273c",
              "IPY_MODEL_3a83aa7f1af646f6a11a129917a3d275"
            ]
          }
        },
        "eaadc5c69b7d4692bb1aff628a842579": {
          "model_module": "@jupyter-widgets/base",
          "model_name": "LayoutModel",
          "model_module_version": "1.2.0",
          "state": {
            "_view_name": "LayoutView",
            "grid_template_rows": null,
            "right": null,
            "justify_content": null,
            "_view_module": "@jupyter-widgets/base",
            "overflow": null,
            "_model_module_version": "1.2.0",
            "_view_count": null,
            "flex_flow": null,
            "width": null,
            "min_width": null,
            "border": null,
            "align_items": null,
            "bottom": null,
            "_model_module": "@jupyter-widgets/base",
            "top": null,
            "grid_column": null,
            "overflow_y": null,
            "overflow_x": null,
            "grid_auto_flow": null,
            "grid_area": null,
            "grid_template_columns": null,
            "flex": null,
            "_model_name": "LayoutModel",
            "justify_items": null,
            "grid_row": null,
            "max_height": null,
            "align_content": null,
            "visibility": null,
            "align_self": null,
            "height": null,
            "min_height": null,
            "padding": null,
            "grid_auto_rows": null,
            "grid_gap": null,
            "max_width": null,
            "order": null,
            "_view_module_version": "1.2.0",
            "grid_template_areas": null,
            "object_position": null,
            "object_fit": null,
            "grid_auto_columns": null,
            "margin": null,
            "display": null,
            "left": null
          }
        },
        "4540e2489aa043c697188a3d55795e39": {
          "model_module": "@jupyter-widgets/controls",
          "model_name": "HTMLModel",
          "model_module_version": "1.5.0",
          "state": {
            "_view_name": "HTMLView",
            "style": "IPY_MODEL_125c3e499b1c4f518edb76f1daa55c37",
            "_dom_classes": [],
            "description": "",
            "_model_name": "HTMLModel",
            "placeholder": "​",
            "_view_module": "@jupyter-widgets/controls",
            "_model_module_version": "1.5.0",
            "value": "Downloading: 100%",
            "_view_count": null,
            "_view_module_version": "1.5.0",
            "description_tooltip": null,
            "_model_module": "@jupyter-widgets/controls",
            "layout": "IPY_MODEL_bedde04180e8496fa707accd44dd30d3"
          }
        },
        "f094e1b9a0da4e148ac99338a589273c": {
          "model_module": "@jupyter-widgets/controls",
          "model_name": "FloatProgressModel",
          "model_module_version": "1.5.0",
          "state": {
            "_view_name": "ProgressView",
            "style": "IPY_MODEL_996e637d36dd4d2f87beace136f77c41",
            "_dom_classes": [],
            "description": "",
            "_model_name": "FloatProgressModel",
            "bar_style": "success",
            "max": 213450,
            "_view_module": "@jupyter-widgets/controls",
            "_model_module_version": "1.5.0",
            "value": 213450,
            "_view_count": null,
            "_view_module_version": "1.5.0",
            "orientation": "horizontal",
            "min": 0,
            "description_tooltip": null,
            "_model_module": "@jupyter-widgets/controls",
            "layout": "IPY_MODEL_09455a53a4ef42fca91d6a43b030fd70"
          }
        },
        "3a83aa7f1af646f6a11a129917a3d275": {
          "model_module": "@jupyter-widgets/controls",
          "model_name": "HTMLModel",
          "model_module_version": "1.5.0",
          "state": {
            "_view_name": "HTMLView",
            "style": "IPY_MODEL_3b6825f267804185bfb43530dd6c86ac",
            "_dom_classes": [],
            "description": "",
            "_model_name": "HTMLModel",
            "placeholder": "​",
            "_view_module": "@jupyter-widgets/controls",
            "_model_module_version": "1.5.0",
            "value": " 208k/208k [00:00&lt;00:00, 224kB/s]",
            "_view_count": null,
            "_view_module_version": "1.5.0",
            "description_tooltip": null,
            "_model_module": "@jupyter-widgets/controls",
            "layout": "IPY_MODEL_7cdf472f0c49411cbed91a512c304f05"
          }
        },
        "125c3e499b1c4f518edb76f1daa55c37": {
          "model_module": "@jupyter-widgets/controls",
          "model_name": "DescriptionStyleModel",
          "model_module_version": "1.5.0",
          "state": {
            "_view_name": "StyleView",
            "_model_name": "DescriptionStyleModel",
            "description_width": "",
            "_view_module": "@jupyter-widgets/base",
            "_model_module_version": "1.5.0",
            "_view_count": null,
            "_view_module_version": "1.2.0",
            "_model_module": "@jupyter-widgets/controls"
          }
        },
        "bedde04180e8496fa707accd44dd30d3": {
          "model_module": "@jupyter-widgets/base",
          "model_name": "LayoutModel",
          "model_module_version": "1.2.0",
          "state": {
            "_view_name": "LayoutView",
            "grid_template_rows": null,
            "right": null,
            "justify_content": null,
            "_view_module": "@jupyter-widgets/base",
            "overflow": null,
            "_model_module_version": "1.2.0",
            "_view_count": null,
            "flex_flow": null,
            "width": null,
            "min_width": null,
            "border": null,
            "align_items": null,
            "bottom": null,
            "_model_module": "@jupyter-widgets/base",
            "top": null,
            "grid_column": null,
            "overflow_y": null,
            "overflow_x": null,
            "grid_auto_flow": null,
            "grid_area": null,
            "grid_template_columns": null,
            "flex": null,
            "_model_name": "LayoutModel",
            "justify_items": null,
            "grid_row": null,
            "max_height": null,
            "align_content": null,
            "visibility": null,
            "align_self": null,
            "height": null,
            "min_height": null,
            "padding": null,
            "grid_auto_rows": null,
            "grid_gap": null,
            "max_width": null,
            "order": null,
            "_view_module_version": "1.2.0",
            "grid_template_areas": null,
            "object_position": null,
            "object_fit": null,
            "grid_auto_columns": null,
            "margin": null,
            "display": null,
            "left": null
          }
        },
        "996e637d36dd4d2f87beace136f77c41": {
          "model_module": "@jupyter-widgets/controls",
          "model_name": "ProgressStyleModel",
          "model_module_version": "1.5.0",
          "state": {
            "_view_name": "StyleView",
            "_model_name": "ProgressStyleModel",
            "description_width": "",
            "_view_module": "@jupyter-widgets/base",
            "_model_module_version": "1.5.0",
            "_view_count": null,
            "_view_module_version": "1.2.0",
            "bar_color": null,
            "_model_module": "@jupyter-widgets/controls"
          }
        },
        "09455a53a4ef42fca91d6a43b030fd70": {
          "model_module": "@jupyter-widgets/base",
          "model_name": "LayoutModel",
          "model_module_version": "1.2.0",
          "state": {
            "_view_name": "LayoutView",
            "grid_template_rows": null,
            "right": null,
            "justify_content": null,
            "_view_module": "@jupyter-widgets/base",
            "overflow": null,
            "_model_module_version": "1.2.0",
            "_view_count": null,
            "flex_flow": null,
            "width": null,
            "min_width": null,
            "border": null,
            "align_items": null,
            "bottom": null,
            "_model_module": "@jupyter-widgets/base",
            "top": null,
            "grid_column": null,
            "overflow_y": null,
            "overflow_x": null,
            "grid_auto_flow": null,
            "grid_area": null,
            "grid_template_columns": null,
            "flex": null,
            "_model_name": "LayoutModel",
            "justify_items": null,
            "grid_row": null,
            "max_height": null,
            "align_content": null,
            "visibility": null,
            "align_self": null,
            "height": null,
            "min_height": null,
            "padding": null,
            "grid_auto_rows": null,
            "grid_gap": null,
            "max_width": null,
            "order": null,
            "_view_module_version": "1.2.0",
            "grid_template_areas": null,
            "object_position": null,
            "object_fit": null,
            "grid_auto_columns": null,
            "margin": null,
            "display": null,
            "left": null
          }
        },
        "3b6825f267804185bfb43530dd6c86ac": {
          "model_module": "@jupyter-widgets/controls",
          "model_name": "DescriptionStyleModel",
          "model_module_version": "1.5.0",
          "state": {
            "_view_name": "StyleView",
            "_model_name": "DescriptionStyleModel",
            "description_width": "",
            "_view_module": "@jupyter-widgets/base",
            "_model_module_version": "1.5.0",
            "_view_count": null,
            "_view_module_version": "1.2.0",
            "_model_module": "@jupyter-widgets/controls"
          }
        },
        "7cdf472f0c49411cbed91a512c304f05": {
          "model_module": "@jupyter-widgets/base",
          "model_name": "LayoutModel",
          "model_module_version": "1.2.0",
          "state": {
            "_view_name": "LayoutView",
            "grid_template_rows": null,
            "right": null,
            "justify_content": null,
            "_view_module": "@jupyter-widgets/base",
            "overflow": null,
            "_model_module_version": "1.2.0",
            "_view_count": null,
            "flex_flow": null,
            "width": null,
            "min_width": null,
            "border": null,
            "align_items": null,
            "bottom": null,
            "_model_module": "@jupyter-widgets/base",
            "top": null,
            "grid_column": null,
            "overflow_y": null,
            "overflow_x": null,
            "grid_auto_flow": null,
            "grid_area": null,
            "grid_template_columns": null,
            "flex": null,
            "_model_name": "LayoutModel",
            "justify_items": null,
            "grid_row": null,
            "max_height": null,
            "align_content": null,
            "visibility": null,
            "align_self": null,
            "height": null,
            "min_height": null,
            "padding": null,
            "grid_auto_rows": null,
            "grid_gap": null,
            "max_width": null,
            "order": null,
            "_view_module_version": "1.2.0",
            "grid_template_areas": null,
            "object_position": null,
            "object_fit": null,
            "grid_auto_columns": null,
            "margin": null,
            "display": null,
            "left": null
          }
        }
      }
    }
  },
  "cells": [
    {
      "cell_type": "markdown",
      "metadata": {
        "id": "5ngNlQCVrSYf"
      },
      "source": [
        "# **1. Extracting BERT Embeddings**\n",
        "\n"
      ]
    },
    {
      "cell_type": "markdown",
      "metadata": {
        "id": "TU0DBlDaeDm4"
      },
      "source": [
        "## 1.2 Method 2\n",
        "\n",
        "SUCCESS\n",
        "\n",
        "from: https://www.kaggle.com/odedgolden/spooky-authors-analysis\n",
        "\n"
      ]
    },
    {
      "cell_type": "code",
      "metadata": {
        "id": "--oO2MrlaLkS",
        "colab": {
          "base_uri": "https://localhost:8080/"
        },
        "outputId": "cbb7ca92-73c4-4ba2-dae3-fc47b0338fa2"
      },
      "source": [
        "!pip install transformers"
      ],
      "execution_count": null,
      "outputs": [
        {
          "output_type": "stream",
          "name": "stdout",
          "text": [
            "Installing collected packages: pyyaml, tokenizers, sacremoses, huggingface-hub, transformers\n",
            "  Attempting uninstall: pyyaml\n",
            "    Found existing installation: PyYAML 3.13\n",
            "    Uninstalling PyYAML-3.13:\n",
            "      Successfully uninstalled PyYAML-3.13\n",
            "Successfully installed huggingface-hub-0.0.19 pyyaml-5.4.1 sacremoses-0.0.46 tokenizers-0.10.3 transformers-4.11.3\n"
          ]
        }
      ]
    },
    {
      "cell_type": "code",
      "metadata": {
        "id": "ZiRR3O1iHyiv"
      },
      "source": [
        "# IMPORTS \n",
        "from transformers import BertTokenizer, BertModel\n",
        "import torch \n",
        "from sklearn.decomposition import PCA"
      ],
      "execution_count": null,
      "outputs": []
    },
    {
      "cell_type": "markdown",
      "metadata": {
        "id": "UlTvFmjKIFDE"
      },
      "source": [
        "### **1.2.1 Initiate BERT**"
      ]
    },
    {
      "cell_type": "code",
      "metadata": {
        "colab": {
          "base_uri": "https://localhost:8080/",
          "height": 247,
          "referenced_widgets": [
            "5c03298cad04448489aaa794623ecad2",
            "eaadc5c69b7d4692bb1aff628a842579",
            "4540e2489aa043c697188a3d55795e39",
            "f094e1b9a0da4e148ac99338a589273c",
            "3a83aa7f1af646f6a11a129917a3d275",
            "125c3e499b1c4f518edb76f1daa55c37",
            "bedde04180e8496fa707accd44dd30d3",
            "996e637d36dd4d2f87beace136f77c41",
            "09455a53a4ef42fca91d6a43b030fd70",
            "3b6825f267804185bfb43530dd6c86ac",
            "7cdf472f0c49411cbed91a512c304f05",
            "b7337acd9fc243c08ee34fecda37f41e",
            "65fafcfd2a7247be83ba776f9c4bd34e",
            "b1b9d2f7c8294d589bbf1e61a96cb73a",
            "5108d097d2654ffb9d8751e2b4458be6"
          ]
        },
        "id": "AJtmFbu6IIUS",
        "outputId": "61de2f3a-fe74-4352-98fe-37aa6640bd48"
      },
      "source": [
        "# data pretrained on: https://s3.amazonaws.com/models.huggingface.co/bert/bert-base-cased-vocab.txt\n",
        "\n",
        "\n",
        "# to use own pretrained model: \n",
        "# Model was saved using `save_pretrained('./test/saved_model/')` (for example purposes, not runnable).\n",
        "# model = BertModel.from_pretrained('./test/saved_model/')\n",
        "\n",
        "PRE_TRAINED_MODEL_NAME = 'bert-base-cased'\n",
        "tokenizer = BertTokenizer.from_pretrained(PRE_TRAINED_MODEL_NAME)\n",
        "bert_model = BertModel.from_pretrained(PRE_TRAINED_MODEL_NAME)\n",
        "\n",
        "bert_embeddings = bert_model.get_input_embeddings()"
      ],
      "execution_count": null,
      "outputs": [
        {
          "output_type": "display_data",
          "data": {
            "application/vnd.jupyter.widget-view+json": {
              "model_id": "5c03298cad04448489aaa794623ecad2",
              "version_minor": 0,
              "version_major": 2
            },
            "text/plain": [
              "Downloading:   0%|          | 0.00/208k [00:00<?, ?B/s]"
            ]
          },
          "metadata": {}
        },
        {
          "output_type": "display_data",
          "data": {
            "application/vnd.jupyter.widget-view+json": {
              "model_id": "b7337acd9fc243c08ee34fecda37f41e",
              "version_minor": 0,
              "version_major": 2
            },
            "text/plain": [
              "Downloading:   0%|          | 0.00/29.0 [00:00<?, ?B/s]"
            ]
          },
          "metadata": {}
        },
        {
          "output_type": "display_data",
          "data": {
            "application/vnd.jupyter.widget-view+json": {
              "model_id": "65fafcfd2a7247be83ba776f9c4bd34e",
              "version_minor": 0,
              "version_major": 2
            },
            "text/plain": [
              "Downloading:   0%|          | 0.00/426k [00:00<?, ?B/s]"
            ]
          },
          "metadata": {}
        },
        {
          "output_type": "display_data",
          "data": {
            "application/vnd.jupyter.widget-view+json": {
              "model_id": "b1b9d2f7c8294d589bbf1e61a96cb73a",
              "version_minor": 0,
              "version_major": 2
            },
            "text/plain": [
              "Downloading:   0%|          | 0.00/570 [00:00<?, ?B/s]"
            ]
          },
          "metadata": {}
        },
        {
          "output_type": "display_data",
          "data": {
            "application/vnd.jupyter.widget-view+json": {
              "model_id": "5108d097d2654ffb9d8751e2b4458be6",
              "version_minor": 0,
              "version_major": 2
            },
            "text/plain": [
              "Downloading:   0%|          | 0.00/416M [00:00<?, ?B/s]"
            ]
          },
          "metadata": {}
        },
        {
          "output_type": "stream",
          "name": "stderr",
          "text": [
            "Some weights of the model checkpoint at bert-base-cased were not used when initializing BertModel: ['cls.predictions.decoder.weight', 'cls.seq_relationship.bias', 'cls.predictions.transform.LayerNorm.weight', 'cls.predictions.transform.dense.weight', 'cls.seq_relationship.weight', 'cls.predictions.transform.dense.bias', 'cls.predictions.bias', 'cls.predictions.transform.LayerNorm.bias']\n",
            "- This IS expected if you are initializing BertModel from the checkpoint of a model trained on another task or with another architecture (e.g. initializing a BertForSequenceClassification model from a BertForPreTraining model).\n",
            "- This IS NOT expected if you are initializing BertModel from the checkpoint of a model that you expect to be exactly identical (initializing a BertForSequenceClassification model from a BertForSequenceClassification model).\n"
          ]
        }
      ]
    },
    {
      "cell_type": "markdown",
      "metadata": {
        "id": "yrSOE71PHxsd"
      },
      "source": [
        "### **1.2.2 Get the data**"
      ]
    },
    {
      "cell_type": "code",
      "metadata": {
        "id": "IJw478Cd4bfE"
      },
      "source": [
        "# mounting google drive\n",
        "from google.colab import drive\n",
        "\n",
        "drive.mount('/content/gdrive')"
      ],
      "execution_count": null,
      "outputs": []
    },
    {
      "cell_type": "code",
      "metadata": {
        "id": "0OCPQrJF4fie"
      },
      "source": [
        "!cp \"/content/gdrive/MyDrive/Colab Notebooks/wino_csv/anti_type1_dev.csv\" \"/content/anti_type1_dev.csv\"\n",
        "!cp \"/content/gdrive/MyDrive/Colab Notebooks/wino_csv/anti_type1_test.csv\" \"/content/anti_type1_test.csv\"\n",
        "\n",
        "!cp \"/content/gdrive/MyDrive/Colab Notebooks/wino_csv/anti_type2_dev.csv\" \"/content/anti_type2_dev.csv\"\n",
        "!cp \"/content/gdrive/MyDrive/Colab Notebooks/wino_csv/anti_type2_test.csv\" \"/content/anti_type2_test.csv\"\n",
        "\n",
        "!cp \"/content/gdrive/MyDrive/Colab Notebooks/wino_csv/pro_type1_dev.csv\" \"/content/pro_type1_dev.csv\"\n",
        "!cp \"/content/gdrive/MyDrive/Colab Notebooks/wino_csv/pro_type1_test.csv\" \"/content/pro_type1_test.csv\"\n",
        "\n",
        "!cp \"/content/gdrive/MyDrive/Colab Notebooks/wino_csv/pro_type2_dev.csv\" \"/content/pro_type2_dev.csv\"\n",
        "!cp \"/content/gdrive/MyDrive/Colab Notebooks/wino_csv/pro_type2_test.csv\" \"/content/pro_type2_test.csv\""
      ],
      "execution_count": null,
      "outputs": []
    },
    {
      "cell_type": "code",
      "metadata": {
        "id": "FykW_0vLYq0V"
      },
      "source": [
        "# read in all dataframes \n",
        "import os\n",
        "import glob\n",
        "file_extension = '.csv'\n",
        "all_filenames = [i for i in glob.glob(f\"*{file_extension}\")]"
      ],
      "execution_count": null,
      "outputs": []
    },
    {
      "cell_type": "code",
      "metadata": {
        "colab": {
          "base_uri": "https://localhost:8080/"
        },
        "id": "T31Jqg9TYzid",
        "outputId": "43c26754-b290-4e1e-a031-ed094fa97cba"
      },
      "source": [
        "all_filenames"
      ],
      "execution_count": null,
      "outputs": [
        {
          "output_type": "execute_result",
          "data": {
            "text/plain": [
              "['anti_type2_dev.csv',\n",
              " 'pro_type2_dev.csv',\n",
              " 'pro_type1_dev.csv',\n",
              " 'pro_type2_test.csv',\n",
              " 'pro_type1_test.csv',\n",
              " 'anti_type2_test.csv',\n",
              " 'anti_type1_dev.csv',\n",
              " 'anti_type1_test.csv']"
            ]
          },
          "metadata": {},
          "execution_count": 95
        }
      ]
    },
    {
      "cell_type": "code",
      "metadata": {
        "id": "F48Y5r-0ZC5X"
      },
      "source": [
        "df = pd.concat([pd.read_csv(f, header=None, names=['text']) for f in all_filenames ])"
      ],
      "execution_count": null,
      "outputs": []
    },
    {
      "cell_type": "code",
      "metadata": {
        "colab": {
          "base_uri": "https://localhost:8080/",
          "height": 414
        },
        "id": "q6qDSzbjZNYw",
        "outputId": "90bf6140-d171-4fb0-c107-504b0009dc53"
      },
      "source": [
        "df"
      ],
      "execution_count": null,
      "outputs": [
        {
          "output_type": "execute_result",
          "data": {
            "text/html": [
              "<div>\n",
              "<style scoped>\n",
              "    .dataframe tbody tr th:only-of-type {\n",
              "        vertical-align: middle;\n",
              "    }\n",
              "\n",
              "    .dataframe tbody tr th {\n",
              "        vertical-align: top;\n",
              "    }\n",
              "\n",
              "    .dataframe thead th {\n",
              "        text-align: right;\n",
              "    }\n",
              "</style>\n",
              "<table border=\"1\" class=\"dataframe\">\n",
              "  <thead>\n",
              "    <tr style=\"text-align: right;\">\n",
              "      <th></th>\n",
              "      <th>text</th>\n",
              "    </tr>\n",
              "  </thead>\n",
              "  <tbody>\n",
              "    <tr>\n",
              "      <th>0</th>\n",
              "      <td>1 The developer argued with [the des...</td>\n",
              "    </tr>\n",
              "    <tr>\n",
              "      <th>1</th>\n",
              "      <td>2 The designer argued with [the deve...</td>\n",
              "    </tr>\n",
              "    <tr>\n",
              "      <th>2</th>\n",
              "      <td>3 The mechanic gave [the clerk] a pr...</td>\n",
              "    </tr>\n",
              "    <tr>\n",
              "      <th>3</th>\n",
              "      <td>4 The clerk gave [the mechanic] a pr...</td>\n",
              "    </tr>\n",
              "    <tr>\n",
              "      <th>4</th>\n",
              "      <td>5 The mover said thank you to [the h...</td>\n",
              "    </tr>\n",
              "    <tr>\n",
              "      <th>...</th>\n",
              "      <td>...</td>\n",
              "    </tr>\n",
              "    <tr>\n",
              "      <th>391</th>\n",
              "      <td>392 The assistant hired [the driver]...</td>\n",
              "    </tr>\n",
              "    <tr>\n",
              "      <th>392</th>\n",
              "      <td>393 [The chief] asked the cleaner to...</td>\n",
              "    </tr>\n",
              "    <tr>\n",
              "      <th>393</th>\n",
              "      <td>394 The chief asked [the cleaner] to...</td>\n",
              "    </tr>\n",
              "    <tr>\n",
              "      <th>394</th>\n",
              "      <td>395 [The teacher] and the janitor we...</td>\n",
              "    </tr>\n",
              "    <tr>\n",
              "      <th>395</th>\n",
              "      <td>396 The teacher and [the janitor] we...</td>\n",
              "    </tr>\n",
              "  </tbody>\n",
              "</table>\n",
              "<p>3168 rows × 1 columns</p>\n",
              "</div>"
            ],
            "text/plain": [
              "                                        text\n",
              "0    1 The developer argued with [the des...\n",
              "1    2 The designer argued with [the deve...\n",
              "2    3 The mechanic gave [the clerk] a pr...\n",
              "3    4 The clerk gave [the mechanic] a pr...\n",
              "4    5 The mover said thank you to [the h...\n",
              "..                                       ...\n",
              "391  392 The assistant hired [the driver]...\n",
              "392  393 [The chief] asked the cleaner to...\n",
              "393  394 The chief asked [the cleaner] to...\n",
              "394  395 [The teacher] and the janitor we...\n",
              "395  396 The teacher and [the janitor] we...\n",
              "\n",
              "[3168 rows x 1 columns]"
            ]
          },
          "metadata": {},
          "execution_count": 105
        }
      ]
    },
    {
      "cell_type": "markdown",
      "metadata": {
        "id": "F2B3ZOsRn0Wl"
      },
      "source": [
        "remove numbers and square brackets. "
      ]
    },
    {
      "cell_type": "code",
      "metadata": {
        "id": "GTIc5J_sh9_D"
      },
      "source": [
        "df['text'] = df['text'].str.replace('\\d+', '')"
      ],
      "execution_count": null,
      "outputs": []
    },
    {
      "cell_type": "code",
      "metadata": {
        "id": "4L6sLdnkn7vy"
      },
      "source": [
        "df['text'] = df['text'].str.replace('\\W+', ' ')"
      ],
      "execution_count": null,
      "outputs": []
    },
    {
      "cell_type": "code",
      "metadata": {
        "id": "Wn5WTjrQowNM"
      },
      "source": [
        "df.to_csv('WinoBias_all_clean.csv')"
      ],
      "execution_count": null,
      "outputs": []
    },
    {
      "cell_type": "markdown",
      "metadata": {
        "id": "PnkYch-gIQwV"
      },
      "source": [
        "### **1.2.3 Format the data**"
      ]
    },
    {
      "cell_type": "code",
      "metadata": {
        "id": "4ChrK7D05OMQ"
      },
      "source": [
        "df['word_ids'] = df['text'].apply(lambda x: tokenizer.convert_tokens_to_ids(tokenizer.tokenize(x)))"
      ],
      "execution_count": null,
      "outputs": []
    },
    {
      "cell_type": "code",
      "metadata": {
        "colab": {
          "base_uri": "https://localhost:8080/",
          "height": 79
        },
        "id": "4vAga8bq536E",
        "outputId": "1ebd077d-7846-4c36-cd67-998cd43eda71"
      },
      "source": [
        "df.head(1)"
      ],
      "execution_count": null,
      "outputs": [
        {
          "output_type": "execute_result",
          "data": {
            "text/html": [
              "<div>\n",
              "<style scoped>\n",
              "    .dataframe tbody tr th:only-of-type {\n",
              "        vertical-align: middle;\n",
              "    }\n",
              "\n",
              "    .dataframe tbody tr th {\n",
              "        vertical-align: top;\n",
              "    }\n",
              "\n",
              "    .dataframe thead th {\n",
              "        text-align: right;\n",
              "    }\n",
              "</style>\n",
              "<table border=\"1\" class=\"dataframe\">\n",
              "  <thead>\n",
              "    <tr style=\"text-align: right;\">\n",
              "      <th></th>\n",
              "      <th>text</th>\n",
              "      <th>word_ids</th>\n",
              "    </tr>\n",
              "  </thead>\n",
              "  <tbody>\n",
              "    <tr>\n",
              "      <th>0</th>\n",
              "      <td>The developer argued with the design...</td>\n",
              "      <td>[1109, 9991, 4491, 1114, 1103, 5592,...</td>\n",
              "    </tr>\n",
              "  </tbody>\n",
              "</table>\n",
              "</div>"
            ],
            "text/plain": [
              "                                      text                                 word_ids\n",
              "0  The developer argued with the design...  [1109, 9991, 4491, 1114, 1103, 5592,..."
            ]
          },
          "metadata": {},
          "execution_count": 115
        }
      ]
    },
    {
      "cell_type": "code",
      "metadata": {
        "colab": {
          "base_uri": "https://localhost:8080/",
          "height": 414
        },
        "id": "xgKa5nib-ppj",
        "outputId": "d3ba74d6-d1de-4511-863b-461abcff4b43"
      },
      "source": [
        "def count_words(df):\n",
        "    cols = ['word']\n",
        "    word_count = pd.DataFrame(df['text'].str.split(expand=True).stack(), columns = cols)\n",
        "    return word_count\n",
        "\n",
        "word_count = count_words(df)\n",
        "word_count"
      ],
      "execution_count": null,
      "outputs": [
        {
          "output_type": "execute_result",
          "data": {
            "text/html": [
              "<div>\n",
              "<style scoped>\n",
              "    .dataframe tbody tr th:only-of-type {\n",
              "        vertical-align: middle;\n",
              "    }\n",
              "\n",
              "    .dataframe tbody tr th {\n",
              "        vertical-align: top;\n",
              "    }\n",
              "\n",
              "    .dataframe thead th {\n",
              "        text-align: right;\n",
              "    }\n",
              "</style>\n",
              "<table border=\"1\" class=\"dataframe\">\n",
              "  <thead>\n",
              "    <tr style=\"text-align: right;\">\n",
              "      <th></th>\n",
              "      <th></th>\n",
              "      <th>word</th>\n",
              "    </tr>\n",
              "  </thead>\n",
              "  <tbody>\n",
              "    <tr>\n",
              "      <th rowspan=\"5\" valign=\"top\">0</th>\n",
              "      <th>0</th>\n",
              "      <td>The</td>\n",
              "    </tr>\n",
              "    <tr>\n",
              "      <th>1</th>\n",
              "      <td>developer</td>\n",
              "    </tr>\n",
              "    <tr>\n",
              "      <th>2</th>\n",
              "      <td>argued</td>\n",
              "    </tr>\n",
              "    <tr>\n",
              "      <th>3</th>\n",
              "      <td>with</td>\n",
              "    </tr>\n",
              "    <tr>\n",
              "      <th>4</th>\n",
              "      <td>the</td>\n",
              "    </tr>\n",
              "    <tr>\n",
              "      <th>...</th>\n",
              "      <th>...</th>\n",
              "      <td>...</td>\n",
              "    </tr>\n",
              "    <tr>\n",
              "      <th rowspan=\"5\" valign=\"top\">395</th>\n",
              "      <th>7</th>\n",
              "      <td>about</td>\n",
              "    </tr>\n",
              "    <tr>\n",
              "      <th>8</th>\n",
              "      <td>her</td>\n",
              "    </tr>\n",
              "    <tr>\n",
              "      <th>9</th>\n",
              "      <td>overwhelming</td>\n",
              "    </tr>\n",
              "    <tr>\n",
              "      <th>10</th>\n",
              "      <td>cleaning</td>\n",
              "    </tr>\n",
              "    <tr>\n",
              "      <th>11</th>\n",
              "      <td>duties</td>\n",
              "    </tr>\n",
              "  </tbody>\n",
              "</table>\n",
              "<p>41101 rows × 1 columns</p>\n",
              "</div>"
            ],
            "text/plain": [
              "                word\n",
              "0   0            The\n",
              "    1      developer\n",
              "    2         argued\n",
              "    3           with\n",
              "    4            the\n",
              "...              ...\n",
              "395 7          about\n",
              "    8            her\n",
              "    9   overwhelming\n",
              "    10      cleaning\n",
              "    11        duties\n",
              "\n",
              "[41101 rows x 1 columns]"
            ]
          },
          "metadata": {},
          "execution_count": 116
        }
      ]
    },
    {
      "cell_type": "markdown",
      "metadata": {
        "id": "0WI75winKED3"
      },
      "source": [
        "### **1.2.4 Functions for Extracting Embeddings**"
      ]
    },
    {
      "cell_type": "markdown",
      "metadata": {
        "id": "Xea2NTohei7W"
      },
      "source": [
        "use the BERT pre-trained embeddings which map each word id to its (1,768) vector.\n",
        "\n",
        "helper functions in order to extract the word id for each token, and the embedding vector for each word id:"
      ]
    },
    {
      "cell_type": "code",
      "metadata": {
        "id": "vStVnlV5eIzM"
      },
      "source": [
        "def word_to_index(word):\n",
        "    token_id = tokenizer.convert_tokens_to_ids(word)\n",
        "    return token_id\n",
        "\n",
        "def indices_to_vec(word_ids):\n",
        "    embeded_tokens = bert_embeddings(torch.Tensor(word_ids).to(torch.long))\n",
        "    return embeded_tokens.detach().numpy()\n",
        "\n",
        "\n",
        "def index_to_vec(word_id):\n",
        "    embeded_token = bert_embeddings(torch.Tensor([word_id]).to(torch.long))\n",
        "    return embeded_token.detach().numpy()\n"
      ],
      "execution_count": null,
      "outputs": []
    },
    {
      "cell_type": "code",
      "metadata": {
        "colab": {
          "base_uri": "https://localhost:8080/",
          "height": 202
        },
        "id": "pwYjQ8qd8Wi2",
        "outputId": "0ceaedb9-b693-4342-bb86-cc273cb51f31"
      },
      "source": [
        "# extracting the embeddings\n",
        "word_count['word_id'] = word_count['word'].apply(word_to_index)\n",
        "vectors = index_to_vec(word_count['word_id'].to_numpy())\n",
        "pca = PCA(n_components=2)\n",
        "pca.fit(vectors.squeeze())\n",
        "word_count['word_vec'] = word_count['word_id'].apply(index_to_vec)\n",
        "word_count.head()"
      ],
      "execution_count": null,
      "outputs": [
        {
          "output_type": "execute_result",
          "data": {
            "text/html": [
              "<div>\n",
              "<style scoped>\n",
              "    .dataframe tbody tr th:only-of-type {\n",
              "        vertical-align: middle;\n",
              "    }\n",
              "\n",
              "    .dataframe tbody tr th {\n",
              "        vertical-align: top;\n",
              "    }\n",
              "\n",
              "    .dataframe thead th {\n",
              "        text-align: right;\n",
              "    }\n",
              "</style>\n",
              "<table border=\"1\" class=\"dataframe\">\n",
              "  <thead>\n",
              "    <tr style=\"text-align: right;\">\n",
              "      <th></th>\n",
              "      <th></th>\n",
              "      <th>word</th>\n",
              "      <th>word_id</th>\n",
              "      <th>word_vec</th>\n",
              "    </tr>\n",
              "  </thead>\n",
              "  <tbody>\n",
              "    <tr>\n",
              "      <th rowspan=\"5\" valign=\"top\">0</th>\n",
              "      <th>0</th>\n",
              "      <td>The</td>\n",
              "      <td>1109</td>\n",
              "      <td>[[-0.035352107, 0.017659323, 0.03866...</td>\n",
              "    </tr>\n",
              "    <tr>\n",
              "      <th>1</th>\n",
              "      <td>developer</td>\n",
              "      <td>9991</td>\n",
              "      <td>[[-0.036900382, -0.07831477, 0.05555...</td>\n",
              "    </tr>\n",
              "    <tr>\n",
              "      <th>2</th>\n",
              "      <td>argued</td>\n",
              "      <td>4491</td>\n",
              "      <td>[[0.037423573, -0.07188646, -0.04021...</td>\n",
              "    </tr>\n",
              "    <tr>\n",
              "      <th>3</th>\n",
              "      <td>with</td>\n",
              "      <td>1114</td>\n",
              "      <td>[[-0.00023321321, 0.007039986, 0.031...</td>\n",
              "    </tr>\n",
              "    <tr>\n",
              "      <th>4</th>\n",
              "      <td>the</td>\n",
              "      <td>1103</td>\n",
              "      <td>[[-0.04128282, 0.028885774, -0.04111...</td>\n",
              "    </tr>\n",
              "  </tbody>\n",
              "</table>\n",
              "</div>"
            ],
            "text/plain": [
              "          word  word_id                                 word_vec\n",
              "0 0        The     1109  [[-0.035352107, 0.017659323, 0.03866...\n",
              "  1  developer     9991  [[-0.036900382, -0.07831477, 0.05555...\n",
              "  2     argued     4491  [[0.037423573, -0.07188646, -0.04021...\n",
              "  3       with     1114  [[-0.00023321321, 0.007039986, 0.031...\n",
              "  4        the     1103  [[-0.04128282, 0.028885774, -0.04111..."
            ]
          },
          "metadata": {},
          "execution_count": 118
        }
      ]
    },
    {
      "cell_type": "code",
      "metadata": {
        "id": "ZsVvObOSUDzB",
        "colab": {
          "base_uri": "https://localhost:8080/"
        },
        "outputId": "7fe411fe-7587-4322-89f9-b1e66f82a882"
      },
      "source": [
        "embedding_list = word_count.word_vec.tolist()\n",
        "assert(len(embedding_list[0]) == len(embedding_list[200]))\n",
        "gender1 = embedding_list[0] - embedding_list[1]\n",
        "for l in gender1: \n",
        "  print(len(l))"
      ],
      "execution_count": null,
      "outputs": [
        {
          "output_type": "stream",
          "name": "stdout",
          "text": [
            "768\n"
          ]
        }
      ]
    },
    {
      "cell_type": "markdown",
      "metadata": {
        "id": "K1uAnHS5grkl"
      },
      "source": [
        "Apply the functions and fit the **PCA** for our data"
      ]
    },
    {
      "cell_type": "code",
      "metadata": {
        "id": "QgNBC7z5Iecz",
        "colab": {
          "base_uri": "https://localhost:8080/"
        },
        "outputId": "4bc0aad2-54cb-42ee-caf4-cb71b10cf7fc"
      },
      "source": [
        "# Apply PCA \n",
        "\n",
        "word_count['word_id'] = word_count['word'].apply(word_to_index)\n",
        "vectors = index_to_vec(word_count['word_id'].to_numpy())\n",
        "pca = PCA(n_components=2)\n",
        "pca.fit(vectors.squeeze())\n",
        "# word_vec column is the embedding\n",
        "word_count['word_vec'] = word_count['word_id'].apply(index_to_vec)\n",
        "\n",
        "vectors.shape"
      ],
      "execution_count": null,
      "outputs": [
        {
          "output_type": "execute_result",
          "data": {
            "text/plain": [
              "(1, 41101, 768)"
            ]
          },
          "metadata": {},
          "execution_count": 120
        }
      ]
    },
    {
      "cell_type": "markdown",
      "metadata": {
        "id": "_GPHm1vNnD69"
      },
      "source": [
        "reduce the dimension to 2"
      ]
    },
    {
      "cell_type": "code",
      "metadata": {
        "id": "hqDHwPDanDP_"
      },
      "source": [
        "# functions needed for PCA\n",
        "def vec_to_2dim(word_vec):\n",
        "    xy = list(pca.transform(word_vec))\n",
        "    xy = xy[0][0], xy[0][1]\n",
        "    return xy\n",
        "\n",
        "def tuple_x(xy):\n",
        "    return tuple(xy)[0]\n",
        "\n",
        "def tuple_y(xy):\n",
        "    return tuple(xy)[1]\n"
      ],
      "execution_count": null,
      "outputs": []
    },
    {
      "cell_type": "code",
      "metadata": {
        "id": "3tcX6HYMIuST",
        "colab": {
          "base_uri": "https://localhost:8080/",
          "height": 202
        },
        "outputId": "53c67363-d446-424d-e0c2-9f7b4cd8f09d"
      },
      "source": [
        "# reduce to 2 dimensions and add to dataframe \n",
        "word_count['word_xy'] = word_count['word_vec'].apply(vec_to_2dim)\n",
        "word_count['word_x'] = word_count['word_xy'].apply(tuple_x)\n",
        "word_count['word_y'] = word_count['word_xy'].apply(tuple_y)\n",
        "word_count.head()"
      ],
      "execution_count": null,
      "outputs": [
        {
          "output_type": "execute_result",
          "data": {
            "text/html": [
              "<div>\n",
              "<style scoped>\n",
              "    .dataframe tbody tr th:only-of-type {\n",
              "        vertical-align: middle;\n",
              "    }\n",
              "\n",
              "    .dataframe tbody tr th {\n",
              "        vertical-align: top;\n",
              "    }\n",
              "\n",
              "    .dataframe thead th {\n",
              "        text-align: right;\n",
              "    }\n",
              "</style>\n",
              "<table border=\"1\" class=\"dataframe\">\n",
              "  <thead>\n",
              "    <tr style=\"text-align: right;\">\n",
              "      <th></th>\n",
              "      <th></th>\n",
              "      <th>word</th>\n",
              "      <th>word_id</th>\n",
              "      <th>word_vec</th>\n",
              "      <th>word_xy</th>\n",
              "      <th>word_x</th>\n",
              "      <th>word_y</th>\n",
              "    </tr>\n",
              "  </thead>\n",
              "  <tbody>\n",
              "    <tr>\n",
              "      <th rowspan=\"5\" valign=\"top\">0</th>\n",
              "      <th>0</th>\n",
              "      <td>The</td>\n",
              "      <td>1109</td>\n",
              "      <td>[[-0.035352107, 0.017659323, 0.03866...</td>\n",
              "      <td>(-0.3481966, 0.037968293)</td>\n",
              "      <td>-0.348197</td>\n",
              "      <td>0.037968</td>\n",
              "    </tr>\n",
              "    <tr>\n",
              "      <th>1</th>\n",
              "      <td>developer</td>\n",
              "      <td>9991</td>\n",
              "      <td>[[-0.036900382, -0.07831477, 0.05555...</td>\n",
              "      <td>(0.51877296, -0.06466134)</td>\n",
              "      <td>0.518773</td>\n",
              "      <td>-0.064661</td>\n",
              "    </tr>\n",
              "    <tr>\n",
              "      <th>2</th>\n",
              "      <td>argued</td>\n",
              "      <td>4491</td>\n",
              "      <td>[[0.037423573, -0.07188646, -0.04021...</td>\n",
              "      <td>(0.4669107, -0.15501808)</td>\n",
              "      <td>0.466911</td>\n",
              "      <td>-0.155018</td>\n",
              "    </tr>\n",
              "    <tr>\n",
              "      <th>3</th>\n",
              "      <td>with</td>\n",
              "      <td>1114</td>\n",
              "      <td>[[-0.00023321321, 0.007039986, 0.031...</td>\n",
              "      <td>(-0.28916493, -0.07071614)</td>\n",
              "      <td>-0.289165</td>\n",
              "      <td>-0.070716</td>\n",
              "    </tr>\n",
              "    <tr>\n",
              "      <th>4</th>\n",
              "      <td>the</td>\n",
              "      <td>1103</td>\n",
              "      <td>[[-0.04128282, 0.028885774, -0.04111...</td>\n",
              "      <td>(-0.52908665, -0.014886859)</td>\n",
              "      <td>-0.529087</td>\n",
              "      <td>-0.014887</td>\n",
              "    </tr>\n",
              "  </tbody>\n",
              "</table>\n",
              "</div>"
            ],
            "text/plain": [
              "          word  word_id  ...    word_x    word_y\n",
              "0 0        The     1109  ... -0.348197  0.037968\n",
              "  1  developer     9991  ...  0.518773 -0.064661\n",
              "  2     argued     4491  ...  0.466911 -0.155018\n",
              "  3       with     1114  ... -0.289165 -0.070716\n",
              "  4        the     1103  ... -0.529087 -0.014887\n",
              "\n",
              "[5 rows x 6 columns]"
            ]
          },
          "metadata": {},
          "execution_count": 122
        }
      ]
    },
    {
      "cell_type": "markdown",
      "metadata": {
        "id": "hfc1yApHKl9j"
      },
      "source": [
        "### **1.2.5 Finding the Gender Direction**"
      ]
    },
    {
      "cell_type": "code",
      "metadata": {
        "id": "cGynItq8jHF2"
      },
      "source": [
        "# gender pair words: \n",
        "\n",
        "gender_pairs = [\"she\", \"he\", \"her\", \"his\"]# \"woman\", \"man\", \"aunt\", \"uncle\", \"niece\", \"nephew\", \"daugters\", \"sons\", \"mother\", \"father\", \"daughter\", \"son\", \"grandaughter\", \"grandson\", \"girl\", \"boy\", \"stepdaughter\", \"stepson\", \"mom\",\"dad\"]"
      ],
      "execution_count": null,
      "outputs": []
    },
    {
      "cell_type": "code",
      "metadata": {
        "id": "HRXd93clKb7c",
        "colab": {
          "base_uri": "https://localhost:8080/",
          "height": 171
        },
        "outputId": "7de6b430-1d0e-457f-aeb1-4222c7298c31"
      },
      "source": [
        "df_list = [] \n",
        "for g in gender_pairs:\n",
        "    df2 = pd.DataFrame(word_count.loc[word_count['word'] == g])\n",
        "    df_list.append(df2)\n",
        "\n",
        "df3 = pd.concat(df_list, ignore_index = True)\n",
        "df3 = df3.drop_duplicates(subset='word_xy', keep=\"first\")\n",
        "df3"
      ],
      "execution_count": null,
      "outputs": [
        {
          "output_type": "execute_result",
          "data": {
            "text/html": [
              "<div>\n",
              "<style scoped>\n",
              "    .dataframe tbody tr th:only-of-type {\n",
              "        vertical-align: middle;\n",
              "    }\n",
              "\n",
              "    .dataframe tbody tr th {\n",
              "        vertical-align: top;\n",
              "    }\n",
              "\n",
              "    .dataframe thead th {\n",
              "        text-align: right;\n",
              "    }\n",
              "</style>\n",
              "<table border=\"1\" class=\"dataframe\">\n",
              "  <thead>\n",
              "    <tr style=\"text-align: right;\">\n",
              "      <th></th>\n",
              "      <th>word</th>\n",
              "      <th>word_id</th>\n",
              "      <th>word_vec</th>\n",
              "      <th>word_xy</th>\n",
              "      <th>word_x</th>\n",
              "      <th>word_y</th>\n",
              "    </tr>\n",
              "  </thead>\n",
              "  <tbody>\n",
              "    <tr>\n",
              "      <th>0</th>\n",
              "      <td>she</td>\n",
              "      <td>1131</td>\n",
              "      <td>[[-0.03390125, 0.019389033, 0.001012...</td>\n",
              "      <td>(-0.051475607, -0.05875791)</td>\n",
              "      <td>-0.051476</td>\n",
              "      <td>-0.058758</td>\n",
              "    </tr>\n",
              "    <tr>\n",
              "      <th>733</th>\n",
              "      <td>he</td>\n",
              "      <td>1119</td>\n",
              "      <td>[[-0.0002244141, 0.024620801, -0.010...</td>\n",
              "      <td>(-0.13248982, -0.05802252)</td>\n",
              "      <td>-0.132490</td>\n",
              "      <td>-0.058023</td>\n",
              "    </tr>\n",
              "    <tr>\n",
              "      <th>1469</th>\n",
              "      <td>her</td>\n",
              "      <td>1123</td>\n",
              "      <td>[[0.004219352, 0.029523268, -0.04063...</td>\n",
              "      <td>(-0.24836737, -0.068293445)</td>\n",
              "      <td>-0.248367</td>\n",
              "      <td>-0.068293</td>\n",
              "    </tr>\n",
              "    <tr>\n",
              "      <th>2360</th>\n",
              "      <td>his</td>\n",
              "      <td>1117</td>\n",
              "      <td>[[0.019576656, 0.037966713, -0.03355...</td>\n",
              "      <td>(-0.28787345, -0.05865933)</td>\n",
              "      <td>-0.287873</td>\n",
              "      <td>-0.058659</td>\n",
              "    </tr>\n",
              "  </tbody>\n",
              "</table>\n",
              "</div>"
            ],
            "text/plain": [
              "     word  word_id  ...    word_x    word_y\n",
              "0     she     1131  ... -0.051476 -0.058758\n",
              "733    he     1119  ... -0.132490 -0.058023\n",
              "1469  her     1123  ... -0.248367 -0.068293\n",
              "2360  his     1117  ... -0.287873 -0.058659\n",
              "\n",
              "[4 rows x 6 columns]"
            ]
          },
          "metadata": {},
          "execution_count": 126
        }
      ]
    },
    {
      "cell_type": "code",
      "metadata": {
        "id": "LMKwpkuwNJld",
        "colab": {
          "base_uri": "https://localhost:8080/",
          "height": 1000
        },
        "outputId": "34b6f713-7ab7-44ec-f3ef-cb321154d383"
      },
      "source": [
        "# plot\n",
        "import seaborn as sns\n",
        "import matplotlib.pyplot as plt\n",
        "%matplotlib inline\n",
        "pd.set_option('display.max_colwidth', 40)\n",
        "\n",
        "p = sns.relplot(x=\"word_x\", y=\"word_y\",\n",
        "             alpha=.5, palette=\"muted\", sizes=(70,450),\n",
        "            height=20, aspect=1, data=df3)\n",
        "ax = p.axes[0,0]\n",
        "\n",
        "for idx, row in df3.iterrows():\n",
        "     ax.text(row['word_x']+ 0.001, row['word_y'], row['word'], horizontalalignment='left', size='large', color='black')"
      ],
      "execution_count": null,
      "outputs": [
        {
          "output_type": "display_data",
          "data": {
            "image/png": "[encoded data removed]",
            "text/plain": [
              "<Figure size 1440x1440 with 1 Axes>"
            ]
          },
          "metadata": {
            "needs_background": "light"
          }
        }
      ]
    },
    {
      "cell_type": "code",
      "metadata": {
        "id": "Afyk35pWORgb"
      },
      "source": [
        "# # Using the embeddings, find the gender vector.\n",
        "# gender_direction = find_gender_direction(df)\n",
        "# print(\"gender direction: {}\".format(str(gender_direction.flatten())))"
      ],
      "execution_count": null,
      "outputs": []
    },
    {
      "cell_type": "code",
      "metadata": {
        "id": "dxT_Q3M2tvNd",
        "colab": {
          "base_uri": "https://localhost:8080/"
        },
        "outputId": "f94d0068-4b2d-45e6-b508-05f6233a5046"
      },
      "source": [
        "from itertools import chain\n",
        "\n",
        "# she - he - positive cosine similarity shows greater similarity to women, negative cosine similarity (cosine dissimilarity) means skew towards men. \n",
        "gend_emb_list = df3.word_vec.tolist() \n",
        "gender1 = (gend_emb_list[0] - gend_emb_list[1]).tolist()\n",
        "gender1 = list(chain.from_iterable(gender1))\n",
        "\n",
        "gender2 = (gend_emb_list[2] - gend_emb_list[3]).tolist()\n",
        "gender2 = list(chain.from_iterable(gender2))\n",
        "\n",
        "\n",
        "\n",
        "\n",
        "m = [gender1, gender2]\n",
        "\n",
        "m = np.array(m)\n",
        "print(type(m))"
      ],
      "execution_count": null,
      "outputs": [
        {
          "output_type": "stream",
          "name": "stdout",
          "text": [
            "<class 'numpy.ndarray'>\n"
          ]
        }
      ]
    },
    {
      "cell_type": "code",
      "metadata": {
        "id": "chFa0v1ztR8B"
      },
      "source": [
        "def _np_normalize(v):\n",
        "  \"\"\"Returns the input vector, normalized.\"\"\"\n",
        "  return v / np.linalg.norm(v)\n",
        "\n",
        "def find_gend_dir(m):\n",
        "  m = np.cov(np.array(m).T)\n",
        "  evals, evecs = np.linalg.eig(m)\n",
        "  return _np_normalize(np.real(evecs[:, np.argmax(evals)])) "
      ],
      "execution_count": null,
      "outputs": []
    },
    {
      "cell_type": "code",
      "metadata": {
        "id": "T7d6VVqdtYrp",
        "colab": {
          "base_uri": "https://localhost:8080/"
        },
        "outputId": "f12c2515-455d-4923-fe22-54792a3404e7"
      },
      "source": [
        "gend_dir = find_gend_dir(m)\n",
        "print(len(gend_dir))"
      ],
      "execution_count": null,
      "outputs": [
        {
          "output_type": "stream",
          "name": "stdout",
          "text": [
            "768\n"
          ]
        }
      ]
    },
    {
      "cell_type": "markdown",
      "metadata": {
        "id": "ftj8pd6a7VnC"
      },
      "source": [
        "### **1.2.6 Computing Z (finding biased words)**\n",
        "\n",
        "finding the gender direction of certain words. \n",
        "\n",
        "this is needed for computing Z from X. \n",
        "\n",
        "times the embedding vector for the word with the gender direction (the dot product) \n",
        "\n",
        "this finds the projection of words onto the gender dimension. \n",
        "\n",
        "\"Once you have the first principal component of the embedding differences, you can start projecting the embeddings of words onto it.  That projection is roughly the degree to which a word is relevant to the latent protected variable defined by the first principle component of the word pairs given.  This projection can then be taken as the protected variable $Z$ which the adversary is attempting to predict on the basis of the predicted value of $Y$.  The code below illustrates how to construct a function which computes $Z$ from $X$ in this way.\" (Zhang et al., 2018). "
      ]
    },
    {
      "cell_type": "code",
      "metadata": {
        "colab": {
          "base_uri": "https://localhost:8080/",
          "height": 1000
        },
        "id": "8ugpo3Lm6Whi",
        "outputId": "1f92beac-5b8f-4315-d299-f973de8c6fce"
      },
      "source": [
        "# creating a dataframe of the word and the gender score \n",
        "\n",
        "word_count['gender_score'] = word_count['word_vec'].apply(lambda x: x.dot(gend_dir))\n",
        "word_count.sort_values(by=\"gender_score\", inplace=True, ascending=False)\n",
        "\n",
        "word_count = word_count.drop_duplicates(subset='word_xy', keep=\"first\")\n",
        "word_count.head(50)"
      ],
      "execution_count": null,
      "outputs": [
        {
          "output_type": "execute_result",
          "data": {
            "text/html": [
              "<div>\n",
              "<style scoped>\n",
              "    .dataframe tbody tr th:only-of-type {\n",
              "        vertical-align: middle;\n",
              "    }\n",
              "\n",
              "    .dataframe tbody tr th {\n",
              "        vertical-align: top;\n",
              "    }\n",
              "\n",
              "    .dataframe thead th {\n",
              "        text-align: right;\n",
              "    }\n",
              "</style>\n",
              "<table border=\"1\" class=\"dataframe\">\n",
              "  <thead>\n",
              "    <tr style=\"text-align: right;\">\n",
              "      <th></th>\n",
              "      <th></th>\n",
              "      <th>word</th>\n",
              "      <th>word_id</th>\n",
              "      <th>word_vec</th>\n",
              "      <th>word_xy</th>\n",
              "      <th>word_x</th>\n",
              "      <th>word_y</th>\n",
              "      <th>gender_score</th>\n",
              "    </tr>\n",
              "  </thead>\n",
              "  <tbody>\n",
              "    <tr>\n",
              "      <th>279</th>\n",
              "      <th>13</th>\n",
              "      <td>him</td>\n",
              "      <td>1140</td>\n",
              "      <td>[[-0.0072614825, 0.0067927386, -0.05...</td>\n",
              "      <td>(-0.12306432, -0.040898263)</td>\n",
              "      <td>-0.123064</td>\n",
              "      <td>-0.040898</td>\n",
              "      <td>[0.4098576350193786]</td>\n",
              "    </tr>\n",
              "    <tr>\n",
              "      <th>209</th>\n",
              "      <th>13</th>\n",
              "      <td>them</td>\n",
              "      <td>1172</td>\n",
              "      <td>[[-0.039768152, 0.038077146, -0.0681...</td>\n",
              "      <td>(-0.13080277, 0.011410856)</td>\n",
              "      <td>-0.130803</td>\n",
              "      <td>0.011411</td>\n",
              "      <td>[0.301555928851446]</td>\n",
              "    </tr>\n",
              "    <tr>\n",
              "      <th>5</th>\n",
              "      <th>4</th>\n",
              "      <td>you</td>\n",
              "      <td>1128</td>\n",
              "      <td>[[0.03152929, -0.026633339, -0.00208...</td>\n",
              "      <td>(-0.072345346, -0.039392192)</td>\n",
              "      <td>-0.072345</td>\n",
              "      <td>-0.039392</td>\n",
              "      <td>[0.2479957505533672]</td>\n",
              "    </tr>\n",
              "    <tr>\n",
              "      <th>78</th>\n",
              "      <th>11</th>\n",
              "      <td>her</td>\n",
              "      <td>1123</td>\n",
              "      <td>[[0.004219352, 0.029523268, -0.04063...</td>\n",
              "      <td>(-0.24836737, -0.068293445)</td>\n",
              "      <td>-0.248367</td>\n",
              "      <td>-0.068293</td>\n",
              "      <td>[0.22702198833794549]</td>\n",
              "    </tr>\n",
              "    <tr>\n",
              "      <th>166</th>\n",
              "      <th>11</th>\n",
              "      <td>everyone</td>\n",
              "      <td>2490</td>\n",
              "      <td>[[-0.066528976, -0.030940184, -0.041...</td>\n",
              "      <td>(0.19983438, -0.08325915)</td>\n",
              "      <td>0.199834</td>\n",
              "      <td>-0.083259</td>\n",
              "      <td>[0.1926036996712361]</td>\n",
              "    </tr>\n",
              "    <tr>\n",
              "      <th>172</th>\n",
              "      <th>9</th>\n",
              "      <td>it</td>\n",
              "      <td>1122</td>\n",
              "      <td>[[-0.05863094, 0.020841248, -0.05307...</td>\n",
              "      <td>(-0.24472402, 0.0087961415)</td>\n",
              "      <td>-0.244724</td>\n",
              "      <td>0.008796</td>\n",
              "      <td>[0.1914588163321728]</td>\n",
              "    </tr>\n",
              "    <tr>\n",
              "      <th>323</th>\n",
              "      <th>9</th>\n",
              "      <td>someone</td>\n",
              "      <td>1800</td>\n",
              "      <td>[[-0.05192881, 0.0013813454, -0.0132...</td>\n",
              "      <td>(0.18405202, -0.056739677)</td>\n",
              "      <td>0.184052</td>\n",
              "      <td>-0.056740</td>\n",
              "      <td>[0.17362321421189275]</td>\n",
              "    </tr>\n",
              "    <tr>\n",
              "      <th>143</th>\n",
              "      <th>14</th>\n",
              "      <td>people</td>\n",
              "      <td>1234</td>\n",
              "      <td>[[0.023102827, -0.054270793, 0.04257...</td>\n",
              "      <td>(0.015495453, -0.0149338925)</td>\n",
              "      <td>0.015495</td>\n",
              "      <td>-0.014934</td>\n",
              "      <td>[0.17111710903685884]</td>\n",
              "    </tr>\n",
              "    <tr>\n",
              "      <th>251</th>\n",
              "      <th>14</th>\n",
              "      <td>himself</td>\n",
              "      <td>1471</td>\n",
              "      <td>[[0.05603075, 0.06521894, -0.0052915...</td>\n",
              "      <td>(0.045876227, -0.003810009)</td>\n",
              "      <td>0.045876</td>\n",
              "      <td>-0.003810</td>\n",
              "      <td>[0.16891420066629204]</td>\n",
              "    </tr>\n",
              "    <tr>\n",
              "      <th>139</th>\n",
              "      <th>14</th>\n",
              "      <td>again</td>\n",
              "      <td>1254</td>\n",
              "      <td>[[0.017396031, 0.0003180116, -0.0210...</td>\n",
              "      <td>(-0.07140406, -0.035140228)</td>\n",
              "      <td>-0.071404</td>\n",
              "      <td>-0.035140</td>\n",
              "      <td>[0.15937288270180985]</td>\n",
              "    </tr>\n",
              "    <tr>\n",
              "      <th>156</th>\n",
              "      <th>14</th>\n",
              "      <td>man</td>\n",
              "      <td>1299</td>\n",
              "      <td>[[0.03547242, -0.009771521, 0.023980...</td>\n",
              "      <td>(0.045736633, -0.06240565)</td>\n",
              "      <td>0.045737</td>\n",
              "      <td>-0.062406</td>\n",
              "      <td>[0.13210394675078796]</td>\n",
              "    </tr>\n",
              "    <tr>\n",
              "      <th>293</th>\n",
              "      <th>11</th>\n",
              "      <td>way</td>\n",
              "      <td>1236</td>\n",
              "      <td>[[0.022006284, 0.014643657, -0.03344...</td>\n",
              "      <td>(0.078127965, -0.013438987)</td>\n",
              "      <td>0.078128</td>\n",
              "      <td>-0.013439</td>\n",
              "      <td>[0.1299234391824814]</td>\n",
              "    </tr>\n",
              "    <tr>\n",
              "      <th>275</th>\n",
              "      <th>11</th>\n",
              "      <td>happen</td>\n",
              "      <td>3333</td>\n",
              "      <td>[[0.018914614, 0.07585472, 0.0183099...</td>\n",
              "      <td>(0.42671373, -0.08695509)</td>\n",
              "      <td>0.426714</td>\n",
              "      <td>-0.086955</td>\n",
              "      <td>[0.12706943501851592]</td>\n",
              "    </tr>\n",
              "    <tr>\n",
              "      <th>169</th>\n",
              "      <th>7</th>\n",
              "      <td>back</td>\n",
              "      <td>1171</td>\n",
              "      <td>[[-0.0077086627, 0.043987878, -0.012...</td>\n",
              "      <td>(-0.09768234, -0.04645106)</td>\n",
              "      <td>-0.097682</td>\n",
              "      <td>-0.046451</td>\n",
              "      <td>[0.12659018930050422]</td>\n",
              "    </tr>\n",
              "    <tr>\n",
              "      <th>80</th>\n",
              "      <th>10</th>\n",
              "      <td>happened</td>\n",
              "      <td>2171</td>\n",
              "      <td>[[0.060875464, 0.0071206233, 0.05612...</td>\n",
              "      <td>(0.35225102, -0.0942418)</td>\n",
              "      <td>0.352251</td>\n",
              "      <td>-0.094242</td>\n",
              "      <td>[0.12480757541298781]</td>\n",
              "    </tr>\n",
              "    <tr>\n",
              "      <th>117</th>\n",
              "      <th>9</th>\n",
              "      <td>help</td>\n",
              "      <td>1494</td>\n",
              "      <td>[[0.021003777, -0.09273036, -0.02537...</td>\n",
              "      <td>(0.15592682, -0.092874)</td>\n",
              "      <td>0.155927</td>\n",
              "      <td>-0.092874</td>\n",
              "      <td>[0.11515598699305028]</td>\n",
              "    </tr>\n",
              "    <tr>\n",
              "      <th>390</th>\n",
              "      <th>11</th>\n",
              "      <td>attention</td>\n",
              "      <td>2209</td>\n",
              "      <td>[[0.06962709, -0.045291774, -0.10518...</td>\n",
              "      <td>(0.27645868, -0.13660875)</td>\n",
              "      <td>0.276459</td>\n",
              "      <td>-0.136609</td>\n",
              "      <td>[0.11266004537785691]</td>\n",
              "    </tr>\n",
              "    <tr>\n",
              "      <th>302</th>\n",
              "      <th>14</th>\n",
              "      <td>up</td>\n",
              "      <td>1146</td>\n",
              "      <td>[[-0.0030421515, 0.022318, -0.028084...</td>\n",
              "      <td>(-0.11722673, -0.06409504)</td>\n",
              "      <td>-0.117227</td>\n",
              "      <td>-0.064095</td>\n",
              "      <td>[0.11004419460125649]</td>\n",
              "    </tr>\n",
              "    <tr>\n",
              "      <th>286</th>\n",
              "      <th>7</th>\n",
              "      <td>go</td>\n",
              "      <td>1301</td>\n",
              "      <td>[[0.06187893, 0.014766196, -0.066447...</td>\n",
              "      <td>(0.045103848, -0.11485163)</td>\n",
              "      <td>0.045104</td>\n",
              "      <td>-0.114852</td>\n",
              "      <td>[0.10923785162367698]</td>\n",
              "    </tr>\n",
              "    <tr>\n",
              "      <th>18</th>\n",
              "      <th>7</th>\n",
              "      <td>so</td>\n",
              "      <td>1177</td>\n",
              "      <td>[[0.00687431, -0.04110518, -0.006643...</td>\n",
              "      <td>(-0.12183367, -0.04983925)</td>\n",
              "      <td>-0.121834</td>\n",
              "      <td>-0.049839</td>\n",
              "      <td>[0.10874041940398424]</td>\n",
              "    </tr>\n",
              "    <tr>\n",
              "      <th>302</th>\n",
              "      <th>13</th>\n",
              "      <td>here</td>\n",
              "      <td>1303</td>\n",
              "      <td>[[-0.00019829342, -0.09195455, 0.025...</td>\n",
              "      <td>(-0.030023558, -0.04430209)</td>\n",
              "      <td>-0.030024</td>\n",
              "      <td>-0.044302</td>\n",
              "      <td>[0.10854650107308536]</td>\n",
              "    </tr>\n",
              "    <tr>\n",
              "      <th>238</th>\n",
              "      <th>5</th>\n",
              "      <td>fun</td>\n",
              "      <td>4106</td>\n",
              "      <td>[[-0.033603966, 0.03241404, -0.07690...</td>\n",
              "      <td>(0.2743281, -0.07520893)</td>\n",
              "      <td>0.274328</td>\n",
              "      <td>-0.075209</td>\n",
              "      <td>[0.10464889685977158]</td>\n",
              "    </tr>\n",
              "    <tr>\n",
              "      <th>338</th>\n",
              "      <th>11</th>\n",
              "      <td>person</td>\n",
              "      <td>1825</td>\n",
              "      <td>[[-0.03305458, 0.00746976, 0.0657037...</td>\n",
              "      <td>(0.21127215, -0.04745743)</td>\n",
              "      <td>0.211272</td>\n",
              "      <td>-0.047457</td>\n",
              "      <td>[0.10193493819695139]</td>\n",
              "    </tr>\n",
              "    <tr>\n",
              "      <th>95</th>\n",
              "      <th>11</th>\n",
              "      <td>who</td>\n",
              "      <td>1150</td>\n",
              "      <td>[[0.039724547, -0.034388408, 0.03647...</td>\n",
              "      <td>(-0.01736436, -0.09043458)</td>\n",
              "      <td>-0.017364</td>\n",
              "      <td>-0.090435</td>\n",
              "      <td>[0.1014915071586448]</td>\n",
              "    </tr>\n",
              "    <tr>\n",
              "      <th>49</th>\n",
              "      <th>11</th>\n",
              "      <td>once</td>\n",
              "      <td>1517</td>\n",
              "      <td>[[-0.05492414, 0.0036824313, -0.0420...</td>\n",
              "      <td>(0.014649941, -0.013816839)</td>\n",
              "      <td>0.014650</td>\n",
              "      <td>-0.013817</td>\n",
              "      <td>[0.10043019905347086]</td>\n",
              "    </tr>\n",
              "    <tr>\n",
              "      <th>354</th>\n",
              "      <th>10</th>\n",
              "      <td>there</td>\n",
              "      <td>1175</td>\n",
              "      <td>[[0.010069365, -0.0569207, 0.0011689...</td>\n",
              "      <td>(-0.11466614, -0.04441354)</td>\n",
              "      <td>-0.114666</td>\n",
              "      <td>-0.044414</td>\n",
              "      <td>[0.10017920437462119]</td>\n",
              "    </tr>\n",
              "    <tr>\n",
              "      <th>279</th>\n",
              "      <th>5</th>\n",
              "      <td>out</td>\n",
              "      <td>1149</td>\n",
              "      <td>[[0.0023332187, 0.039723553, -0.0688...</td>\n",
              "      <td>(-0.114783294, -0.042011566)</td>\n",
              "      <td>-0.114783</td>\n",
              "      <td>-0.042012</td>\n",
              "      <td>[0.09970165105648274]</td>\n",
              "    </tr>\n",
              "    <tr>\n",
              "      <th>319</th>\n",
              "      <th>15</th>\n",
              "      <td>time</td>\n",
              "      <td>1159</td>\n",
              "      <td>[[0.009272639, 0.02575065, -0.004688...</td>\n",
              "      <td>(-0.06833951, -0.101269186)</td>\n",
              "      <td>-0.068340</td>\n",
              "      <td>-0.101269</td>\n",
              "      <td>[0.09822639299499836]</td>\n",
              "    </tr>\n",
              "    <tr>\n",
              "      <th>239</th>\n",
              "      <th>10</th>\n",
              "      <td>away</td>\n",
              "      <td>1283</td>\n",
              "      <td>[[-0.0013000818, 0.006201546, -0.046...</td>\n",
              "      <td>(0.029673913, -0.063578315)</td>\n",
              "      <td>0.029674</td>\n",
              "      <td>-0.063578</td>\n",
              "      <td>[0.09784585038480074]</td>\n",
              "    </tr>\n",
              "    <tr>\n",
              "      <th>64</th>\n",
              "      <th>13</th>\n",
              "      <td>later</td>\n",
              "      <td>1224</td>\n",
              "      <td>[[-0.045229297, 0.038550984, 0.00567...</td>\n",
              "      <td>(-0.09333298, -0.054011717)</td>\n",
              "      <td>-0.093333</td>\n",
              "      <td>-0.054012</td>\n",
              "      <td>[0.09456535917090789]</td>\n",
              "    </tr>\n",
              "    <tr>\n",
              "      <th>180</th>\n",
              "      <th>10</th>\n",
              "      <td>whom</td>\n",
              "      <td>2292</td>\n",
              "      <td>[[0.0194425, -0.0024883715, -0.00165...</td>\n",
              "      <td>(0.306346, -0.08455754)</td>\n",
              "      <td>0.306346</td>\n",
              "      <td>-0.084558</td>\n",
              "      <td>[0.09299272705139078]</td>\n",
              "    </tr>\n",
              "    <tr>\n",
              "      <th>372</th>\n",
              "      <th>10</th>\n",
              "      <td>town</td>\n",
              "      <td>1411</td>\n",
              "      <td>[[-0.0073797787, -0.0660975, 0.02646...</td>\n",
              "      <td>(0.089050695, -0.028012417)</td>\n",
              "      <td>0.089051</td>\n",
              "      <td>-0.028012</td>\n",
              "      <td>[0.09242963677555358]</td>\n",
              "    </tr>\n",
              "    <tr>\n",
              "      <th>107</th>\n",
              "      <th>10</th>\n",
              "      <td>one</td>\n",
              "      <td>1141</td>\n",
              "      <td>[[-0.028362855, 0.0017193995, -0.062...</td>\n",
              "      <td>(-0.21220371, 0.009513876)</td>\n",
              "      <td>-0.212204</td>\n",
              "      <td>0.009514</td>\n",
              "      <td>[0.0923366011537072]</td>\n",
              "    </tr>\n",
              "    <tr>\n",
              "      <th>213</th>\n",
              "      <th>12</th>\n",
              "      <td>form</td>\n",
              "      <td>1532</td>\n",
              "      <td>[[-0.0052609234, 0.011363752, 0.0233...</td>\n",
              "      <td>(0.0035242648, 0.00442951)</td>\n",
              "      <td>0.003524</td>\n",
              "      <td>0.004430</td>\n",
              "      <td>[0.09176109736582336]</td>\n",
              "    </tr>\n",
              "    <tr>\n",
              "      <th>299</th>\n",
              "      <th>11</th>\n",
              "      <td>on</td>\n",
              "      <td>1113</td>\n",
              "      <td>[[0.03427291, 0.008224417, 0.0089097...</td>\n",
              "      <td>(-0.28403613, -0.064686686)</td>\n",
              "      <td>-0.284036</td>\n",
              "      <td>-0.064687</td>\n",
              "      <td>[0.09161572670349262]</td>\n",
              "    </tr>\n",
              "    <tr>\n",
              "      <th>306</th>\n",
              "      <th>12</th>\n",
              "      <td>twice</td>\n",
              "      <td>3059</td>\n",
              "      <td>[[-0.023251226, 0.020212257, 0.00102...</td>\n",
              "      <td>(0.20856489, 0.0327206)</td>\n",
              "      <td>0.208565</td>\n",
              "      <td>0.032721</td>\n",
              "      <td>[0.0908763275902656]</td>\n",
              "    </tr>\n",
              "    <tr>\n",
              "      <th>163</th>\n",
              "      <th>3</th>\n",
              "      <td>something</td>\n",
              "      <td>1380</td>\n",
              "      <td>[[-0.03142891, -0.0054687834, -0.016...</td>\n",
              "      <td>(0.05500067, 0.018954972)</td>\n",
              "      <td>0.055001</td>\n",
              "      <td>0.018955</td>\n",
              "      <td>[0.09043464317552047]</td>\n",
              "    </tr>\n",
              "    <tr>\n",
              "      <th>166</th>\n",
              "      <th>13</th>\n",
              "      <td>be</td>\n",
              "      <td>1129</td>\n",
              "      <td>[[-0.047870453, 0.0053992486, -0.035...</td>\n",
              "      <td>(-0.061560925, -0.056003645)</td>\n",
              "      <td>-0.061561</td>\n",
              "      <td>-0.056004</td>\n",
              "      <td>[0.0892523951644624]</td>\n",
              "    </tr>\n",
              "    <tr>\n",
              "      <th>272</th>\n",
              "      <th>9</th>\n",
              "      <td>long</td>\n",
              "      <td>1263</td>\n",
              "      <td>[[-0.022279628, -0.0006472814, -0.01...</td>\n",
              "      <td>(-0.034003604, -0.028747493)</td>\n",
              "      <td>-0.034004</td>\n",
              "      <td>-0.028747</td>\n",
              "      <td>[0.08897822563013853]</td>\n",
              "    </tr>\n",
              "    <tr>\n",
              "      <th>267</th>\n",
              "      <th>18</th>\n",
              "      <td>terms</td>\n",
              "      <td>2538</td>\n",
              "      <td>[[0.043731794, 0.0036862763, -0.0362...</td>\n",
              "      <td>(0.25998974, -0.053826492)</td>\n",
              "      <td>0.259990</td>\n",
              "      <td>-0.053826</td>\n",
              "      <td>[0.08834725328311291]</td>\n",
              "    </tr>\n",
              "    <tr>\n",
              "      <th>67</th>\n",
              "      <th>9</th>\n",
              "      <td>first</td>\n",
              "      <td>1148</td>\n",
              "      <td>[[0.02278187, 0.042489506, -0.017572...</td>\n",
              "      <td>(-0.14669016, 0.01049116)</td>\n",
              "      <td>-0.146690</td>\n",
              "      <td>0.010491</td>\n",
              "      <td>[0.0882682313659816]</td>\n",
              "    </tr>\n",
              "    <tr>\n",
              "      <th>73</th>\n",
              "      <th>10</th>\n",
              "      <td>off</td>\n",
              "      <td>1228</td>\n",
              "      <td>[[0.0096003665, 0.054966897, 0.03539...</td>\n",
              "      <td>(-0.04662052, -0.048390977)</td>\n",
              "      <td>-0.046621</td>\n",
              "      <td>-0.048391</td>\n",
              "      <td>[0.08804558529899353]</td>\n",
              "    </tr>\n",
              "    <tr>\n",
              "      <th>249</th>\n",
              "      <th>8</th>\n",
              "      <td>he</td>\n",
              "      <td>1119</td>\n",
              "      <td>[[-0.0002244141, 0.024620801, -0.010...</td>\n",
              "      <td>(-0.13248982, -0.05802252)</td>\n",
              "      <td>-0.132490</td>\n",
              "      <td>-0.058023</td>\n",
              "      <td>[0.08801389091796456]</td>\n",
              "    </tr>\n",
              "    <tr>\n",
              "      <th>375</th>\n",
              "      <th>17</th>\n",
              "      <td>system</td>\n",
              "      <td>1449</td>\n",
              "      <td>[[-0.053559463, -0.0223413, -0.05837...</td>\n",
              "      <td>(0.08716261, 0.01030939)</td>\n",
              "      <td>0.087163</td>\n",
              "      <td>0.010309</td>\n",
              "      <td>[0.08572417071862912]</td>\n",
              "    </tr>\n",
              "    <tr>\n",
              "      <th>257</th>\n",
              "      <th>10</th>\n",
              "      <td>all</td>\n",
              "      <td>1155</td>\n",
              "      <td>[[-0.0063331416, -0.017304733, -0.04...</td>\n",
              "      <td>(-0.24266842, -0.045300636)</td>\n",
              "      <td>-0.242668</td>\n",
              "      <td>-0.045301</td>\n",
              "      <td>[0.08567197893898153]</td>\n",
              "    </tr>\n",
              "    <tr>\n",
              "      <th>346</th>\n",
              "      <th>10</th>\n",
              "      <td>is</td>\n",
              "      <td>1110</td>\n",
              "      <td>[[-0.047021426, 0.015561429, 0.03199...</td>\n",
              "      <td>(-0.17977625, -0.025981328)</td>\n",
              "      <td>-0.179776</td>\n",
              "      <td>-0.025981</td>\n",
              "      <td>[0.08549089778124905]</td>\n",
              "    </tr>\n",
              "    <tr>\n",
              "      <th>103</th>\n",
              "      <th>14</th>\n",
              "      <td>others</td>\n",
              "      <td>1639</td>\n",
              "      <td>[[-0.010718906, 0.07201805, -0.07193...</td>\n",
              "      <td>(0.083874494, 0.040210407)</td>\n",
              "      <td>0.083874</td>\n",
              "      <td>0.040210</td>\n",
              "      <td>[0.0852515927705355]</td>\n",
              "    </tr>\n",
              "    <tr>\n",
              "      <th>184</th>\n",
              "      <th>13</th>\n",
              "      <td>do</td>\n",
              "      <td>1202</td>\n",
              "      <td>[[0.013619093, -0.03643958, -0.04735...</td>\n",
              "      <td>(-0.0053019295, -0.05948052)</td>\n",
              "      <td>-0.005302</td>\n",
              "      <td>-0.059481</td>\n",
              "      <td>[0.08453123442785232]</td>\n",
              "    </tr>\n",
              "    <tr>\n",
              "      <th>245</th>\n",
              "      <th>13</th>\n",
              "      <td>pass</td>\n",
              "      <td>2789</td>\n",
              "      <td>[[-0.0077292435, 0.005383826, 0.0628...</td>\n",
              "      <td>(0.19662835, -0.04119176)</td>\n",
              "      <td>0.196628</td>\n",
              "      <td>-0.041192</td>\n",
              "      <td>[0.08448224011202801]</td>\n",
              "    </tr>\n",
              "    <tr>\n",
              "      <th>378</th>\n",
              "      <th>6</th>\n",
              "      <td>that</td>\n",
              "      <td>1115</td>\n",
              "      <td>[[0.0075853146, -0.025119247, -0.049...</td>\n",
              "      <td>(-0.31733626, -0.013003215)</td>\n",
              "      <td>-0.317336</td>\n",
              "      <td>-0.013003</td>\n",
              "      <td>[0.08420218917660283]</td>\n",
              "    </tr>\n",
              "  </tbody>\n",
              "</table>\n",
              "</div>"
            ],
            "text/plain": [
              "             word  word_id  ...    word_y           gender_score\n",
              "279 13        him     1140  ... -0.040898   [0.4098576350193786]\n",
              "209 13       them     1172  ...  0.011411    [0.301555928851446]\n",
              "5   4         you     1128  ... -0.039392   [0.2479957505533672]\n",
              "78  11        her     1123  ... -0.068293  [0.22702198833794549]\n",
              "166 11   everyone     2490  ... -0.083259   [0.1926036996712361]\n",
              "172 9          it     1122  ...  0.008796   [0.1914588163321728]\n",
              "323 9     someone     1800  ... -0.056740  [0.17362321421189275]\n",
              "143 14     people     1234  ... -0.014934  [0.17111710903685884]\n",
              "251 14    himself     1471  ... -0.003810  [0.16891420066629204]\n",
              "139 14      again     1254  ... -0.035140  [0.15937288270180985]\n",
              "156 14        man     1299  ... -0.062406  [0.13210394675078796]\n",
              "293 11        way     1236  ... -0.013439   [0.1299234391824814]\n",
              "275 11     happen     3333  ... -0.086955  [0.12706943501851592]\n",
              "169 7        back     1171  ... -0.046451  [0.12659018930050422]\n",
              "80  10   happened     2171  ... -0.094242  [0.12480757541298781]\n",
              "117 9        help     1494  ... -0.092874  [0.11515598699305028]\n",
              "390 11  attention     2209  ... -0.136609  [0.11266004537785691]\n",
              "302 14         up     1146  ... -0.064095  [0.11004419460125649]\n",
              "286 7          go     1301  ... -0.114852  [0.10923785162367698]\n",
              "18  7          so     1177  ... -0.049839  [0.10874041940398424]\n",
              "302 13       here     1303  ... -0.044302  [0.10854650107308536]\n",
              "238 5         fun     4106  ... -0.075209  [0.10464889685977158]\n",
              "338 11     person     1825  ... -0.047457  [0.10193493819695139]\n",
              "95  11        who     1150  ... -0.090435   [0.1014915071586448]\n",
              "49  11       once     1517  ... -0.013817  [0.10043019905347086]\n",
              "354 10      there     1175  ... -0.044414  [0.10017920437462119]\n",
              "279 5         out     1149  ... -0.042012  [0.09970165105648274]\n",
              "319 15       time     1159  ... -0.101269  [0.09822639299499836]\n",
              "239 10       away     1283  ... -0.063578  [0.09784585038480074]\n",
              "64  13      later     1224  ... -0.054012  [0.09456535917090789]\n",
              "180 10       whom     2292  ... -0.084558  [0.09299272705139078]\n",
              "372 10       town     1411  ... -0.028012  [0.09242963677555358]\n",
              "107 10        one     1141  ...  0.009514   [0.0923366011537072]\n",
              "213 12       form     1532  ...  0.004430  [0.09176109736582336]\n",
              "299 11         on     1113  ... -0.064687  [0.09161572670349262]\n",
              "306 12      twice     3059  ...  0.032721   [0.0908763275902656]\n",
              "163 3   something     1380  ...  0.018955  [0.09043464317552047]\n",
              "166 13         be     1129  ... -0.056004   [0.0892523951644624]\n",
              "272 9        long     1263  ... -0.028747  [0.08897822563013853]\n",
              "267 18      terms     2538  ... -0.053826  [0.08834725328311291]\n",
              "67  9       first     1148  ...  0.010491   [0.0882682313659816]\n",
              "73  10        off     1228  ... -0.048391  [0.08804558529899353]\n",
              "249 8          he     1119  ... -0.058023  [0.08801389091796456]\n",
              "375 17     system     1449  ...  0.010309  [0.08572417071862912]\n",
              "257 10        all     1155  ... -0.045301  [0.08567197893898153]\n",
              "346 10         is     1110  ... -0.025981  [0.08549089778124905]\n",
              "103 14     others     1639  ...  0.040210   [0.0852515927705355]\n",
              "184 13         do     1202  ... -0.059481  [0.08453123442785232]\n",
              "245 13       pass     2789  ... -0.041192  [0.08448224011202801]\n",
              "378 6        that     1115  ... -0.013003  [0.08420218917660283]\n",
              "\n",
              "[50 rows x 7 columns]"
            ]
          },
          "metadata": {},
          "execution_count": 141
        }
      ]
    },
    {
      "cell_type": "code",
      "metadata": {
        "id": "zifqIQXvXn0K"
      },
      "source": [
        "def get_gendered_words(amount_of_ends, df):\n",
        "\n",
        "    male_bias = df.iloc[-amount_of_ends:, :]\n",
        "    female_bias = df.iloc[:amount_of_ends, :]\n",
        "\n",
        "    male_biased = male_bias.word.tolist() \n",
        "\n",
        "    female_biased = female_bias.word.tolist()\n",
        "\n",
        "    return male_biased, female_biased"
      ],
      "execution_count": null,
      "outputs": []
    },
    {
      "cell_type": "code",
      "metadata": {
        "id": "xpTP_hZcY88v"
      },
      "source": [
        "female_biased, male_biased = get_gendered_words(200, word_count)"
      ],
      "execution_count": null,
      "outputs": []
    },
    {
      "cell_type": "code",
      "metadata": {
        "id": "YwLSYhTINGkX"
      },
      "source": [
        "male_biased"
      ],
      "execution_count": null,
      "outputs": []
    },
    {
      "cell_type": "code",
      "metadata": {
        "colab": {
          "base_uri": "https://localhost:8080/"
        },
        "id": "c5q9YJPedWVs",
        "outputId": "c58c14f6-97cc-4b4a-9a5c-189af9430717"
      },
      "source": [
        "# just he-she - just the gender vector \n",
        "print(gender1)"
      ],
      "execution_count": null,
      "outputs": [
        {
          "output_type": "stream",
          "name": "stdout",
          "text": [
            "[-0.033676836639642715, -0.005231767892837524, 0.011700871400535107, -0.0029432345181703568, -0.013645848259329796, 0.001717112958431244, 0.01881159096956253, 0.022894222289323807, 0.000630602240562439, -0.002193465828895569, 0.02447761967778206, 0.028327304869890213, -0.04307803884148598, 0.020644158124923706, 0.014895331114530563, 0.01500256359577179, -0.0006055673584342003, 0.027732431888580322, -0.013493400067090988, 0.011724410578608513, -0.0123604666441679, -0.0016453191637992859, 0.03541985899209976, 0.016428958624601364, -0.00718183908611536, -0.0023159440606832504, 0.005099721252918243, 0.03374837711453438, -0.026261163875460625, 0.018448373302817345, 0.008962143212556839, -6.936490535736084e-05, -0.02788468822836876, 0.004494909197092056, 0.012621345929801464, 0.02314835600554943, -0.0800473541021347, 0.003941982984542847, 0.015653003007173538, -0.027928035706281662, 0.006654469296336174, 0.0036245249211788177, 0.06488095968961716, 0.028497353196144104, -0.025919636711478233, 0.012857753783464432, -0.003612324595451355, -0.006642747670412064, -0.0008889660239219666, -0.009387422353029251, -0.06939397007226944, -0.04723960533738136, -0.04017162322998047, 0.021977216005325317, -0.003213096410036087, 0.011522501707077026, -0.006728978827595711, -0.009063513949513435, 0.002224390860646963, -0.026552459225058556, -0.007988955825567245, 0.016359630972146988, 0.014891121536493301, -0.020351210609078407, 0.03362714871764183, 0.04756630212068558, 0.009021618403494358, -0.033047765493392944, 0.023526890203356743, 0.009444717317819595, -0.009913258254528046, 0.03484433889389038, 0.012476477771997452, 0.010583184659481049, -0.014920736663043499, 0.0026398804038763046, 0.005043736658990383, 0.006967057473957539, 0.010067727416753769, 0.0005457140505313873, -0.02810012176632881, -0.004109224304556847, 0.014076391234993935, 0.004771653562784195, 0.005487147718667984, -0.021781377494335175, 0.017511630430817604, -0.016690226271748543, -0.0823550894856453, -0.03556858003139496, -0.027286585420370102, -0.003243347629904747, 0.01825525611639023, 0.006142374128103256, -0.033818550407886505, -0.04195581376552582, 0.029916055500507355, -0.019659891724586487, 0.019309280440211296, 0.004572127014398575, 0.023725738748908043, 0.03862076997756958, 0.00398341566324234, 0.016662877053022385, 0.02413429319858551, 0.03816669061779976, -0.027673961594700813, 0.026824507862329483, -0.013385370373725891, -0.016174616292119026, 0.014473438262939453, -0.005631767213344574, -0.005308628082275391, 0.009590722620487213, 0.012786539271473885, 0.016873639076948166, -0.00019808299839496613, -0.012293106876313686, -0.0224026869982481, 0.0013912506401538849, -0.024226892739534378, -0.03224356472492218, -0.004786977544426918, 0.037243012338876724, 0.013481467962265015, 0.007317354902625084, -0.007156437262892723, 0.04030994698405266, 0.014425817877054214, 0.017120886594057083, 0.02075543999671936, 0.004699958488345146, -0.016748450696468353, -6.569735705852509e-05, -0.012643642723560333, -0.005608193576335907, 0.013448536396026611, 0.04742376506328583, 0.007239474914968014, -0.02051263302564621, 0.026328276842832565, 0.030045635998249054, -0.01625417172908783, 0.0036616250872612, 0.03436648100614548, -0.012013036757707596, -0.0006669219583272934, -0.00389076117426157, -0.0031809527426958084, 0.01535193994641304, -0.04612741619348526, 0.0743793249130249, -0.018214402720332146, 0.007845491170883179, -0.03649790212512016, -0.004865538328886032, 0.010527709499001503, 0.03073246404528618, -0.005455367267131805, 0.00366177037358284, -0.02607037127017975, 0.010249965824186802, -0.002058316022157669, -0.008138615638017654, 0.005589433014392853, -0.012325366958975792, -0.03431335464119911, -0.04507133364677429, -0.009614838287234306, 0.0060127489268779755, 0.013252709060907364, 0.023267408832907677, 0.0056953877210617065, -0.017933979630470276, -0.04561137408018112, -0.010988980531692505, -0.04727336764335632, -0.027221154421567917, 0.01901489496231079, -0.011992104351520538, 0.026390889659523964, 0.0209815613925457, 0.016552500426769257, 0.011092927306890488, -0.007677774876356125, -0.012398626655340195, -0.010086344555020332, -0.01879679039120674, -0.0003074211999773979, 0.008010812103748322, 0.011455371975898743, 0.022546308115124702, -0.048506781458854675, 0.004277336876839399, -0.03400313854217529, -0.03182276710867882, 0.0019481498748064041, 0.00344187393784523, 0.02689196541905403, 0.010143820196390152, -0.010829905048012733, -0.007280239835381508, -0.03701445832848549, -0.023130079731345177, -0.009113652631640434, 0.03185815364122391, -0.0031345244497060776, -0.007354686036705971, -0.0018092687241733074, -0.010354278609156609, 0.005389036610722542, 0.0170139092952013, 0.008189361542463303, 0.0009803306311368942, 0.023296315222978592, -0.056756649166345596, 0.045417431741952896, 0.01407291553914547, -0.00592670775949955, 0.015339173376560211, 0.0037263575941324234, -0.012935907579958439, 0.011995133012533188, -0.023699823766946793, -0.009784149006009102, 0.016444357112050056, 0.015348546206951141, -0.028771698474884033, -0.0076936595141887665, 0.007219940423965454, -0.0005232542753219604, 0.020573869347572327, 0.020875561982393265, -0.026473525911569595, -0.05305568873882294, 0.022200681269168854, 0.008883140981197357, -0.018594752997159958, 0.008880650624632835, 0.07706623524427414, -0.02229537069797516, -0.025343390181660652, 0.04044272005558014, -0.012750538997352123, 0.0352323055267334, 0.007990559563040733, -0.014242086559534073, 0.014112729579210281, -0.006594834849238396, -0.02003813534975052, -0.019772130995988846, -0.01827298477292061, 0.02880188822746277, -0.03320701792836189, -0.03947876766324043, -0.004722467623651028, -0.0075400955975055695, 0.019478876143693924, -0.001783318817615509, -0.00587849598377943, 0.01643555611371994, -0.005568452179431915, 0.017392093315720558, -0.008351095020771027, 0.0031103696674108505, -0.0050379373133182526, 0.07329800724983215, -0.017401153221726418, 0.02242707647383213, -0.004097551107406616, 0.015925565734505653, -0.02654363587498665, -0.03598428890109062, -0.04930220544338226, -0.0017701098695397377, 0.024949412792921066, 0.024488922208547592, 0.0021318383514881134, 0.0020314082503318787, 0.016987023875117302, -0.02365785837173462, -0.003197701647877693, -0.006091500632464886, -0.022425439208745956, -0.0013658460229635239, -0.08463138341903687, -0.012030534446239471, -0.0068976990878582, 0.004793891683220863, 0.004905082285404205, -0.001784672960639, 0.019788546487689018, -0.014088720083236694, 0.0023069940507411957, -0.028769567608833313, -0.01822856068611145, -0.029898470267653465, 0.013033807277679443, -0.014234931208193302, -0.05169827118515968, -0.006197307258844376, 0.022685285657644272, -0.013943767175078392, 0.01830712892115116, 0.019154518842697144, 0.026226263493299484, -0.03680984675884247, 0.06607136130332947, 0.03647938370704651, 0.012671396136283875, 0.009647922590374947, 0.031171850860118866, 0.0023303665220737457, 0.0025855712592601776, -0.026503149420022964, -0.0031632836908102036, -0.004086805507540703, -0.002329126000404358, -0.010810334235429764, 0.009636059403419495, 0.0004292689263820648, -0.0626893937587738, -0.01650792546570301, 0.025409843772649765, 0.02760629542171955, -0.0050974152982234955, 0.03046017698943615, 0.01554271299391985, 0.022033855319023132, -0.028295643627643585, -0.032739926129579544, 0.057572104036808014, 0.05236060172319412, 0.011339234188199043, -0.0031955093145370483, -0.0022885948419570923, -0.06860964000225067, -0.015309486538171768, 0.00022962875664234161, -0.01599140465259552, 0.010210800915956497, -0.005575492978096008, -0.05693082883954048, 0.03265412524342537, -0.006040289998054504, -0.003664247691631317, -0.0066678691655397415, 0.004122013226151466, 0.010719593614339828, 0.008844912052154541, -0.02069897949695587, 0.0011848285794258118, -0.01852455362677574, 0.02006409503519535, -0.01869603618979454, -0.012288253754377365, -0.020316753536462784, 0.012298393994569778, 0.028904978185892105, -0.0035972846671938896, -0.002209889702498913, -0.012208841741085052, 0.08210846036672592, 0.06798337399959564, 0.05247335880994797, 0.028165927156805992, 0.007870616391301155, 0.046652935445308685, -0.01052672229707241, -0.011347431689500809, 0.04542529955506325, -0.04848416894674301, -0.026127062737941742, -0.027529671788215637, -0.0006013475358486176, -0.004300560802221298, 0.01733938232064247, -0.027271032333374023, 0.025361940264701843, 0.019641604274511337, -0.004442903678864241, 0.0027579590678215027, -0.008882825262844563, -0.025535106658935547, 0.014249777421355247, -0.008854851126670837, -0.0002444945275783539, -0.022977549582719803, 0.017610855400562286, -0.05098652094602585, -0.002727644518017769, 0.002560896798968315, -0.018915530294179916, -0.005819670855998993, 0.008159708231687546, -0.007741536945104599, -0.0013399813324213028, 0.027857236564159393, 0.008388829417526722, -0.05728241428732872, -0.030413229018449783, -0.03075730986893177, 0.011856161057949066, -0.03672345355153084, 0.005757160484790802, -0.008077122271060944, 0.05178797245025635, 0.014212662354111671, -0.03953263536095619, -0.011297004297375679, 0.0105556920170784, -0.07578448206186295, 0.007156286388635635, 0.029999006539583206, 0.015271637588739395, 0.01678243651986122, -0.0030098091810941696, 0.004033975303173065, 0.03802160546183586, 0.011018166318535805, 0.02743604965507984, -0.0245374608784914, 0.007268821820616722, -0.00280873104929924, 0.018599089235067368, -0.0005955491214990616, -0.01652759313583374, 0.021860014647245407, 0.0033549554646015167, 0.004523772746324539, 0.004613753408193588, 0.012244513258337975, 0.058050986379384995, -0.07208140939474106, 0.019170910120010376, 0.0013660159893333912, 0.03424373269081116, -0.005470741540193558, 0.0022208120208233595, -0.04321862757205963, -0.004766909405589104, 0.03407943248748779, -0.04851606488227844, -0.016355369240045547, -0.004897303879261017, 0.004180168733000755, -0.026798442006111145, -0.03710521012544632, -0.007417403161525726, 0.008644836023449898, -0.06051235646009445, 0.014327608048915863, -0.014548012986779213, 0.0007905662059783936, -0.0177021324634552, 0.018326550722122192, 0.007974404841661453, -0.001949351280927658, -0.04299698770046234, -0.011413991451263428, -0.020803378894925117, 0.04881449416279793, -0.006234675645828247, 0.021053818985819817, 0.01299036480486393, 0.005398964509367943, -0.018762176856398582, -0.01625439152121544, 0.02647601068019867, 0.024740256369113922, -0.03266168385744095, 0.00429975800216198, -0.030710622668266296, -0.01535456720739603, -0.00227535143494606, 0.020167335867881775, 0.0016531962901353836, -0.04118652269244194, -0.026802822947502136, 0.014417944476008415, 0.03086976148188114, -0.027474384754896164, -0.00026026368141174316, -0.02347525954246521, -0.06072399765253067, 0.08872254937887192, -0.009048827923834324, 0.0030298009514808655, -0.021837297827005386, 0.023094411939382553, -0.020432915538549423, -0.03859533742070198, -0.026828866451978683, -0.01820388250052929, 0.004631251096725464, 0.005335668101906776, 0.02813059091567993, -0.013316567987203598, -0.013288378715515137, -0.006754133850336075, -0.006757600232958794, 0.014067482203245163, -0.010353476740419865, -0.00036569684743881226, 0.005795009434223175, 0.012003561481833458, 0.0022809747606515884, 0.014403121545910835, -0.02215375378727913, -0.013556258752942085, 0.005259353667497635, -0.00609680637717247, -0.004001196473836899, 0.02373223938047886, -0.046549730002880096, 0.008498798124492168, 0.015476137399673462, -0.026537083089351654, 0.009752236306667328, 0.009871792048215866, -0.0466795451939106, -0.06392361968755722, -0.001188952475786209, 0.007720371708273888, -0.007720056921243668, 0.034098006784915924, 0.013649467378854752, -0.02722189761698246, 0.012746976688504219, 0.03279048204421997, -0.01600157842040062, 0.009724600240588188, 0.003237854689359665, -0.00019494816660881042, -0.003464092966169119, 0.02076387032866478, 0.004756317473948002, -0.017081763595342636, 0.027380207553505898, -0.014112795703113079, -0.00931616686284542, 0.011225353926420212, 0.01926654949784279, 0.010890088975429535, -0.03331786394119263, 0.03871713578701019, 0.01888926699757576, -0.0009649544954299927, -0.03748698905110359, -0.014381194487214088, 0.02310977876186371, -0.009476184844970703, -0.021478518843650818, 0.0054978542029857635, -0.0022966302931308746, 1.3211742043495178e-05, -0.00031859055161476135, -0.01563781499862671, -0.055292584002017975, 0.01911597140133381, 0.01770954020321369, -0.009218961000442505, 0.036990948021411896, 0.006806323304772377, -0.0012888014316558838, 0.049377892166376114, 0.008368942886590958, 0.005425054579973221, -0.005887750536203384, -0.07285842299461365, 0.004795171320438385, -0.023135434836149216, 0.03583960980176926, -0.006514169275760651, 0.05354371666908264, -0.010692302137613297, -0.03048214316368103, -0.06652294099330902, -0.001312796026468277, -0.028659610077738762, 0.0004918498452752829, -0.00839014258235693, -0.004878643900156021, -0.025798559188842773, -0.023136500269174576, 0.024813929572701454, 0.0006287507712841034, -0.009338514879345894, 0.006730448454618454, -0.011908754706382751, -0.04572303220629692, 0.01883990690112114, 0.005222957581281662, -0.0022442080080509186, 0.004873756319284439, 0.03838895633816719, 0.030727120116353035, 0.04401480779051781, 0.011922333389520645, -0.055465567857027054, -0.005376167595386505, 0.019376173615455627, 0.010867848061025143, -0.0553053580224514, -0.006313100457191467, -0.014631776139140129, 0.004914099350571632, -0.08681480586528778, -0.00915852002799511, -0.0012659691274166107, -0.06655377149581909, -0.0722280889749527, -0.00418214313685894, 0.0010993331670761108, -0.04084254801273346, -0.07737348973751068, -0.0015078932046890259, 0.03496836498379707, 0.002858635038137436, 0.006686154752969742, 0.011555634438991547, -0.017356425523757935, 0.0051760487258434296, -0.01219853013753891, 0.03622705116868019, -0.02402229607105255, -0.017506826668977737, -0.015475722029805183, -0.0020618923008441925, -0.012706873007118702, 0.024206500500440598, -0.03183220326900482, 0.01692560873925686, 0.037736281752586365, 0.03228022903203964, 0.009006135165691376, 0.03146539255976677, -0.06648935377597809, -0.001859363168478012, 0.010685507208108902, -0.061946041882038116, -0.00557396374642849, -0.0180059801787138, -0.026074839755892754, 0.010979628190398216, -0.006848636548966169, 0.004712991416454315, -0.003094000741839409, 0.07449822872877121, -0.0052688270807266235, -0.00015667825937271118, -0.003766251727938652, -0.01340081449598074, 0.018553664907813072, -0.0035452572628855705, 0.016827642917633057, 0.018060501664876938, 0.0439281091094017, 0.0013671722263097763, -0.008988136425614357, 0.025339990854263306, -0.011860840022563934, -0.005859974306076765, -0.03161054849624634, 0.013534948229789734, 0.007161524146795273, -0.033861421048641205, 0.0046361759305000305, -0.01520461030304432, -0.006502131000161171, -0.003227471373975277, 3.213435411453247e-05, -0.03693638741970062, -0.014183957129716873, -0.012681856751441956, -0.008901558816432953, -0.005271488800644875, 0.04662257060408592, -0.0004239901900291443, 0.004543136805295944, -0.006193205714225769, 0.06252707540988922, 0.030722657218575478, 0.017371587455272675, 0.013216637074947357, -0.013743564486503601, -0.02057267725467682, 0.027412455528974533, 0.043482981622219086, -0.026180345565080643, -0.0331953801214695, 0.018632372841238976, -5.93625009059906e-05, 0.027193583548069, 0.05520373582839966, 0.04221291095018387, -0.004761377349495888, 0.037536077201366425, 0.008284189738333225, 0.01035531610250473, 0.007656984031200409, 0.0005820970982313156, 0.015262421220541, 0.0037797391414642334, 0.03863110393285751, -0.0006271135061979294, -0.012523108161985874, 0.03090578131377697, -0.00591626763343811, 0.009265277534723282, -0.01731194369494915, 0.008478287607431412, -0.029546421021223068, 0.009425748139619827, 0.011128470301628113, 0.009958218783140182, -0.016617869958281517, -2.0679552108049393e-05, 0.047182679176330566, 0.008513670414686203, 0.03633058816194534, -0.009634613059461117, 0.008313249796628952, 0.031397052109241486, 0.01228608563542366, 0.013982247561216354, 0.009345751255750656, -0.0016468875110149384, 0.006841734051704407, -0.03643960878252983, 0.003433413803577423, 0.018155671656131744, 0.04585584998130798, -0.03449487313628197, 0.019252894446253777, 0.008969992399215698, -0.0032585468143224716, -0.019675379619002342, -0.0044725388288497925, 0.013573098927736282, -0.012743460014462471, 0.035483404994010925, 0.01037854328751564, 0.045193493366241455, 0.047983020544052124, 0.06071219593286514, 0.0023671239614486694, 0.043724387884140015, -0.0014038756489753723, 0.021131403744220734, -0.032477062195539474, 0.03165218234062195, 0.008222263306379318, 0.0052978843450546265, -0.049578242003917694, -0.025480952113866806, -0.033845383673906326, 0.020690854638814926, 0.0050260154530406, -0.015556851401925087, -0.0029077231884002686, -0.03704630583524704, -0.011584162712097168, -0.012651998549699783, -0.07533524930477142, -0.0027774740010499954, -0.004099205136299133, -0.061715055257081985]\n"
          ]
        }
      ]
    },
    {
      "cell_type": "code",
      "metadata": {
        "colab": {
          "base_uri": "https://localhost:8080/",
          "height": 767
        },
        "id": "RpKqiuQ7dlRh",
        "outputId": "55d137b0-d63a-4ea1-c1b4-020b86e3683c"
      },
      "source": [
        "word_count['gender_vector_score'] = word_count['word_vec'].apply(lambda x: x.dot(gender1))\n",
        "word_count.sort_values(by=\"gender_vector_score\", inplace=True, ascending=False)\n",
        "\n",
        "word_count = word_count.drop_duplicates(subset='word_xy', keep=\"first\")\n",
        " \n",
        "word_count"
      ],
      "execution_count": null,
      "outputs": [
        {
          "output_type": "execute_result",
          "data": {
            "text/html": [
              "<div>\n",
              "<style scoped>\n",
              "    .dataframe tbody tr th:only-of-type {\n",
              "        vertical-align: middle;\n",
              "    }\n",
              "\n",
              "    .dataframe tbody tr th {\n",
              "        vertical-align: top;\n",
              "    }\n",
              "\n",
              "    .dataframe thead th {\n",
              "        text-align: right;\n",
              "    }\n",
              "</style>\n",
              "<table border=\"1\" class=\"dataframe\">\n",
              "  <thead>\n",
              "    <tr style=\"text-align: right;\">\n",
              "      <th></th>\n",
              "      <th></th>\n",
              "      <th>word</th>\n",
              "      <th>word_id</th>\n",
              "      <th>word_vec</th>\n",
              "      <th>word_xy</th>\n",
              "      <th>word_x</th>\n",
              "      <th>word_y</th>\n",
              "      <th>gender_score</th>\n",
              "      <th>gender__vector_score</th>\n",
              "      <th>gender_vector_score</th>\n",
              "      <th>gender1</th>\n",
              "    </tr>\n",
              "  </thead>\n",
              "  <tbody>\n",
              "    <tr>\n",
              "      <th>239</th>\n",
              "      <th>10</th>\n",
              "      <td>she</td>\n",
              "      <td>1131</td>\n",
              "      <td>[[-0.03390125, 0.019389033, 0.001012...</td>\n",
              "      <td>(-0.051475607, -0.05875791)</td>\n",
              "      <td>-0.051476</td>\n",
              "      <td>-0.058758</td>\n",
              "      <td>[-0.04678698498798757]</td>\n",
              "      <td>[0.26725218293141856]</td>\n",
              "      <td>[0.26725218293141856]</td>\n",
              "      <td>[[-0.033676836639642715, -0.00523176...</td>\n",
              "    </tr>\n",
              "    <tr>\n",
              "      <th>251</th>\n",
              "      <th>14</th>\n",
              "      <td>herself</td>\n",
              "      <td>1941</td>\n",
              "      <td>[[-0.07277706, 0.038535852, 0.060213...</td>\n",
              "      <td>(0.19559273, -0.045169793)</td>\n",
              "      <td>0.195593</td>\n",
              "      <td>-0.045170</td>\n",
              "      <td>[0.03766322356153333]</td>\n",
              "      <td>[0.24130878958510033]</td>\n",
              "      <td>[0.24130878958510033]</td>\n",
              "      <td>[[-0.033676836639642715, -0.00523176...</td>\n",
              "    </tr>\n",
              "    <tr>\n",
              "      <th>78</th>\n",
              "      <th>11</th>\n",
              "      <td>her</td>\n",
              "      <td>1123</td>\n",
              "      <td>[[0.004219352, 0.029523268, -0.04063...</td>\n",
              "      <td>(-0.24836737, -0.068293445)</td>\n",
              "      <td>-0.248367</td>\n",
              "      <td>-0.068293</td>\n",
              "      <td>[0.22702198833794549]</td>\n",
              "      <td>[0.21983656871879015]</td>\n",
              "      <td>[0.21983656871879015]</td>\n",
              "      <td>[[-0.033676836639642715, -0.00523176...</td>\n",
              "    </tr>\n",
              "    <tr>\n",
              "      <th>204</th>\n",
              "      <th>12</th>\n",
              "      <td>salon</td>\n",
              "      <td>20310</td>\n",
              "      <td>[[-0.0529967, 0.0055915015, 0.009137...</td>\n",
              "      <td>(0.52415204, -0.14186354)</td>\n",
              "      <td>0.524152</td>\n",
              "      <td>-0.141864</td>\n",
              "      <td>[-0.1282347732269773]</td>\n",
              "      <td>[0.1782143582182992]</td>\n",
              "      <td>[0.1782143582182992]</td>\n",
              "      <td>[[-0.033676836639642715, -0.00523176...</td>\n",
              "    </tr>\n",
              "    <tr>\n",
              "      <th>22</th>\n",
              "      <th>1</th>\n",
              "      <td>nurse</td>\n",
              "      <td>7439</td>\n",
              "      <td>[[-0.043522343, -0.07187326, -0.0222...</td>\n",
              "      <td>(0.50982094, -0.11020863)</td>\n",
              "      <td>0.509821</td>\n",
              "      <td>-0.110209</td>\n",
              "      <td>[-0.0539946007855687]</td>\n",
              "      <td>[0.16802116846817033]</td>\n",
              "      <td>[0.16802116846817033]</td>\n",
              "      <td>[[-0.033676836639642715, -0.00523176...</td>\n",
              "    </tr>\n",
              "    <tr>\n",
              "      <th>...</th>\n",
              "      <th>...</th>\n",
              "      <td>...</td>\n",
              "      <td>...</td>\n",
              "      <td>...</td>\n",
              "      <td>...</td>\n",
              "      <td>...</td>\n",
              "      <td>...</td>\n",
              "      <td>...</td>\n",
              "      <td>...</td>\n",
              "      <td>...</td>\n",
              "      <td>...</td>\n",
              "    </tr>\n",
              "    <tr>\n",
              "      <th>156</th>\n",
              "      <th>14</th>\n",
              "      <td>man</td>\n",
              "      <td>1299</td>\n",
              "      <td>[[0.03547242, -0.009771521, 0.023980...</td>\n",
              "      <td>(0.045736633, -0.06240565)</td>\n",
              "      <td>0.045737</td>\n",
              "      <td>-0.062406</td>\n",
              "      <td>[0.13210394675078796]</td>\n",
              "      <td>[-0.1579046540051693]</td>\n",
              "      <td>[-0.1579046540051693]</td>\n",
              "      <td>[[-0.033676836639642715, -0.00523176...</td>\n",
              "    </tr>\n",
              "    <tr>\n",
              "      <th>251</th>\n",
              "      <th>14</th>\n",
              "      <td>himself</td>\n",
              "      <td>1471</td>\n",
              "      <td>[[0.05603075, 0.06521894, -0.0052915...</td>\n",
              "      <td>(0.045876227, -0.003810009)</td>\n",
              "      <td>0.045876</td>\n",
              "      <td>-0.003810</td>\n",
              "      <td>[0.16891420066629204]</td>\n",
              "      <td>[-0.16773486082465344]</td>\n",
              "      <td>[-0.16773486082465344]</td>\n",
              "      <td>[[-0.033676836639642715, -0.00523176...</td>\n",
              "    </tr>\n",
              "    <tr>\n",
              "      <th>279</th>\n",
              "      <th>13</th>\n",
              "      <td>him</td>\n",
              "      <td>1140</td>\n",
              "      <td>[[-0.0072614825, 0.0067927386, -0.05...</td>\n",
              "      <td>(-0.12306432, -0.040898263)</td>\n",
              "      <td>-0.123064</td>\n",
              "      <td>-0.040898</td>\n",
              "      <td>[0.4098576350193786]</td>\n",
              "      <td>[-0.21684156215143174]</td>\n",
              "      <td>[-0.21684156215143174]</td>\n",
              "      <td>[[-0.033676836639642715, -0.00523176...</td>\n",
              "    </tr>\n",
              "    <tr>\n",
              "      <th>92</th>\n",
              "      <th>6</th>\n",
              "      <td>his</td>\n",
              "      <td>1117</td>\n",
              "      <td>[[0.019576656, 0.037966713, -0.03355...</td>\n",
              "      <td>(-0.28787345, -0.05865933)</td>\n",
              "      <td>-0.287873</td>\n",
              "      <td>-0.058659</td>\n",
              "      <td>[-0.16719597499223526]</td>\n",
              "      <td>[-0.218875252536186]</td>\n",
              "      <td>[-0.218875252536186]</td>\n",
              "      <td>[[-0.033676836639642715, -0.00523176...</td>\n",
              "    </tr>\n",
              "    <tr>\n",
              "      <th>249</th>\n",
              "      <th>8</th>\n",
              "      <td>he</td>\n",
              "      <td>1119</td>\n",
              "      <td>[[-0.0002244141, 0.024620801, -0.010...</td>\n",
              "      <td>(-0.13248982, -0.05802252)</td>\n",
              "      <td>-0.132490</td>\n",
              "      <td>-0.058023</td>\n",
              "      <td>[0.08801389091796456]</td>\n",
              "      <td>[-0.24277184122528594]</td>\n",
              "      <td>[-0.24277184122528594]</td>\n",
              "      <td>[[-0.033676836639642715, -0.00523176...</td>\n",
              "    </tr>\n",
              "  </tbody>\n",
              "</table>\n",
              "<p>1501 rows × 10 columns</p>\n",
              "</div>"
            ],
            "text/plain": [
              "           word  ...                                  gender1\n",
              "239 10      she  ...  [[-0.033676836639642715, -0.00523176...\n",
              "251 14  herself  ...  [[-0.033676836639642715, -0.00523176...\n",
              "78  11      her  ...  [[-0.033676836639642715, -0.00523176...\n",
              "204 12    salon  ...  [[-0.033676836639642715, -0.00523176...\n",
              "22  1     nurse  ...  [[-0.033676836639642715, -0.00523176...\n",
              "...         ...  ...                                      ...\n",
              "156 14      man  ...  [[-0.033676836639642715, -0.00523176...\n",
              "251 14  himself  ...  [[-0.033676836639642715, -0.00523176...\n",
              "279 13      him  ...  [[-0.033676836639642715, -0.00523176...\n",
              "92  6       his  ...  [[-0.033676836639642715, -0.00523176...\n",
              "249 8        he  ...  [[-0.033676836639642715, -0.00523176...\n",
              "\n",
              "[1501 rows x 10 columns]"
            ]
          },
          "metadata": {},
          "execution_count": 255
        }
      ]
    },
    {
      "cell_type": "code",
      "metadata": {
        "id": "GemN2UPI9CMu"
      },
      "source": [
        "# converting from array to list \n",
        "gender_vector_score = word_count.gender_vector_score.tolist()"
      ],
      "execution_count": null,
      "outputs": []
    },
    {
      "cell_type": "code",
      "metadata": {
        "id": "YvAzDb2B90f-"
      },
      "source": [
        "gvs = []\n",
        "for a in gender_vector_score:\n",
        "  b = a.tolist()\n",
        "  gvs.append(b)"
      ],
      "execution_count": null,
      "outputs": []
    },
    {
      "cell_type": "code",
      "metadata": {
        "id": "THGWjMq_-zAn"
      },
      "source": [
        "from itertools import chain\n",
        "gvs = list(chain.from_iterable(gvs))"
      ],
      "execution_count": null,
      "outputs": []
    },
    {
      "cell_type": "code",
      "metadata": {
        "id": "9mqrjW7T3GXo"
      },
      "source": [
        "word_count['gvs'] = gvs"
      ],
      "execution_count": null,
      "outputs": []
    },
    {
      "cell_type": "code",
      "metadata": {
        "id": "kNKWB2wozZbU"
      },
      "source": [
        "word_count['word'] = word_count['word'].apply(str)"
      ],
      "execution_count": null,
      "outputs": []
    },
    {
      "cell_type": "code",
      "metadata": {
        "id": "7llQ2wtHrCzf"
      },
      "source": [
        "male_bias = word_count.iloc[1481:1501]\n",
        "female_bias = word_count.iloc[:20]"
      ],
      "execution_count": null,
      "outputs": []
    },
    {
      "cell_type": "code",
      "metadata": {
        "colab": {
          "base_uri": "https://localhost:8080/"
        },
        "id": "W7NUrO7ArC6F",
        "outputId": "18d70c60-7465-4e81-cb86-4abf73d8f5be"
      },
      "source": [
        "male_bias['gender'] = 'male'\n",
        "female_bias['gender'] = 'female'"
      ],
      "execution_count": null,
      "outputs": [
        {
          "output_type": "stream",
          "name": "stderr",
          "text": [
            "/usr/local/lib/python3.7/dist-packages/ipykernel_launcher.py:1: SettingWithCopyWarning: \n",
            "A value is trying to be set on a copy of a slice from a DataFrame.\n",
            "Try using .loc[row_indexer,col_indexer] = value instead\n",
            "\n",
            "See the caveats in the documentation: https://pandas.pydata.org/pandas-docs/stable/user_guide/indexing.html#returning-a-view-versus-a-copy\n",
            "  \"\"\"Entry point for launching an IPython kernel.\n",
            "/usr/local/lib/python3.7/dist-packages/ipykernel_launcher.py:2: SettingWithCopyWarning: \n",
            "A value is trying to be set on a copy of a slice from a DataFrame.\n",
            "Try using .loc[row_indexer,col_indexer] = value instead\n",
            "\n",
            "See the caveats in the documentation: https://pandas.pydata.org/pandas-docs/stable/user_guide/indexing.html#returning-a-view-versus-a-copy\n",
            "  \n"
          ]
        }
      ]
    },
    {
      "cell_type": "code",
      "metadata": {
        "colab": {
          "base_uri": "https://localhost:8080/",
          "height": 388
        },
        "id": "6-Hf4r9cs0DQ",
        "outputId": "0373f686-f5aa-4bd8-880b-ea55e0355d95"
      },
      "source": [
        "frames = [male_bias, female_bias]\n",
        "most_biased = pd.concat(frames)\n",
        "most_biased.tail()"
      ],
      "execution_count": null,
      "outputs": [
        {
          "output_type": "execute_result",
          "data": {
            "text/html": [
              "<div>\n",
              "<style scoped>\n",
              "    .dataframe tbody tr th:only-of-type {\n",
              "        vertical-align: middle;\n",
              "    }\n",
              "\n",
              "    .dataframe tbody tr th {\n",
              "        vertical-align: top;\n",
              "    }\n",
              "\n",
              "    .dataframe thead th {\n",
              "        text-align: right;\n",
              "    }\n",
              "</style>\n",
              "<table border=\"1\" class=\"dataframe\">\n",
              "  <thead>\n",
              "    <tr style=\"text-align: right;\">\n",
              "      <th></th>\n",
              "      <th></th>\n",
              "      <th>word</th>\n",
              "      <th>word_id</th>\n",
              "      <th>word_vec</th>\n",
              "      <th>word_xy</th>\n",
              "      <th>word_x</th>\n",
              "      <th>word_y</th>\n",
              "      <th>gender_score</th>\n",
              "      <th>gender__vector_score</th>\n",
              "      <th>gender_vector_score</th>\n",
              "      <th>gender1</th>\n",
              "      <th>gvs</th>\n",
              "      <th>gender</th>\n",
              "    </tr>\n",
              "  </thead>\n",
              "  <tbody>\n",
              "    <tr>\n",
              "      <th>235</th>\n",
              "      <th>11</th>\n",
              "      <td>baking</td>\n",
              "      <td>26377</td>\n",
              "      <td>[[-0.0470303, -0.08690991, 0.0192995...</td>\n",
              "      <td>(0.5597246, -0.075205915)</td>\n",
              "      <td>0.559725</td>\n",
              "      <td>-0.075206</td>\n",
              "      <td>[-0.07761073837367771]</td>\n",
              "      <td>[0.11791155349537663]</td>\n",
              "      <td>[0.11791155349537663]</td>\n",
              "      <td>[[-0.033676836639642715, -0.00523176...</td>\n",
              "      <td>0.117912</td>\n",
              "      <td>female</td>\n",
              "    </tr>\n",
              "    <tr>\n",
              "      <th>335</th>\n",
              "      <th>8</th>\n",
              "      <td>mall</td>\n",
              "      <td>8796</td>\n",
              "      <td>[[0.004461368, -0.036715135, -0.0083...</td>\n",
              "      <td>(0.40021887, -0.09550279)</td>\n",
              "      <td>0.400219</td>\n",
              "      <td>-0.095503</td>\n",
              "      <td>[-0.10360401222753055]</td>\n",
              "      <td>[0.11484094440634282]</td>\n",
              "      <td>[0.11484094440634282]</td>\n",
              "      <td>[[-0.033676836639642715, -0.00523176...</td>\n",
              "      <td>0.114841</td>\n",
              "      <td>female</td>\n",
              "    </tr>\n",
              "    <tr>\n",
              "      <th>145</th>\n",
              "      <th>4</th>\n",
              "      <td>cookies</td>\n",
              "      <td>18621</td>\n",
              "      <td>[[-0.00010624061, -0.017023064, 0.04...</td>\n",
              "      <td>(0.60200644, -0.051571205)</td>\n",
              "      <td>0.602006</td>\n",
              "      <td>-0.051571</td>\n",
              "      <td>[-0.07631581283718034]</td>\n",
              "      <td>[0.11454639384970983]</td>\n",
              "      <td>[0.11454639384970983]</td>\n",
              "      <td>[[-0.033676836639642715, -0.00523176...</td>\n",
              "      <td>0.114546</td>\n",
              "      <td>female</td>\n",
              "    </tr>\n",
              "    <tr>\n",
              "      <th>394</th>\n",
              "      <th>6</th>\n",
              "      <td>chatting</td>\n",
              "      <td>25132</td>\n",
              "      <td>[[-0.034867432, -0.085606456, 0.0107...</td>\n",
              "      <td>(0.5945944, -0.12129597)</td>\n",
              "      <td>0.594594</td>\n",
              "      <td>-0.121296</td>\n",
              "      <td>[-0.05703643555026683]</td>\n",
              "      <td>[0.10793631810783885]</td>\n",
              "      <td>[0.10793631810783885]</td>\n",
              "      <td>[[-0.033676836639642715, -0.00523176...</td>\n",
              "      <td>0.107936</td>\n",
              "      <td>female</td>\n",
              "    </tr>\n",
              "    <tr>\n",
              "      <th>179</th>\n",
              "      <th>9</th>\n",
              "      <td>nails</td>\n",
              "      <td>10821</td>\n",
              "      <td>[[-0.051925797, -0.012419899, -0.002...</td>\n",
              "      <td>(0.46631578, -0.086675465)</td>\n",
              "      <td>0.466316</td>\n",
              "      <td>-0.086675</td>\n",
              "      <td>[-0.09113436754362492]</td>\n",
              "      <td>[0.09978475459449822]</td>\n",
              "      <td>[0.09978475459449822]</td>\n",
              "      <td>[[-0.033676836639642715, -0.00523176...</td>\n",
              "      <td>0.099785</td>\n",
              "      <td>female</td>\n",
              "    </tr>\n",
              "  </tbody>\n",
              "</table>\n",
              "</div>"
            ],
            "text/plain": [
              "            word  word_id  ...       gvs  gender\n",
              "235 11    baking    26377  ...  0.117912  female\n",
              "335 8       mall     8796  ...  0.114841  female\n",
              "145 4    cookies    18621  ...  0.114546  female\n",
              "394 6   chatting    25132  ...  0.107936  female\n",
              "179 9      nails    10821  ...  0.099785  female\n",
              "\n",
              "[5 rows x 12 columns]"
            ]
          },
          "metadata": {},
          "execution_count": 273
        }
      ]
    },
    {
      "cell_type": "markdown",
      "metadata": {
        "id": "jnlZvtT50zWu"
      },
      "source": [
        "# **Plot**\n",
        "\n",
        "## **1. Distribution of all of the words**"
      ]
    },
    {
      "cell_type": "code",
      "metadata": {
        "colab": {
          "base_uri": "https://localhost:8080/",
          "height": 388
        },
        "id": "C6is__rGAADY",
        "outputId": "09c495db-a041-486c-b6a9-e560f6b33583"
      },
      "source": [
        "word_count['colors'] = ['orange' if\n",
        "        x > 0 else 'green' for x in word_count['gvs']]\n",
        "  \n",
        "# Sort values from lowest to highest\n",
        "word_count.sort_values('gvs', inplace=True)\n",
        "\n",
        "word_count.tail()"
      ],
      "execution_count": null,
      "outputs": [
        {
          "output_type": "execute_result",
          "data": {
            "text/html": [
              "<div>\n",
              "<style scoped>\n",
              "    .dataframe tbody tr th:only-of-type {\n",
              "        vertical-align: middle;\n",
              "    }\n",
              "\n",
              "    .dataframe tbody tr th {\n",
              "        vertical-align: top;\n",
              "    }\n",
              "\n",
              "    .dataframe thead th {\n",
              "        text-align: right;\n",
              "    }\n",
              "</style>\n",
              "<table border=\"1\" class=\"dataframe\">\n",
              "  <thead>\n",
              "    <tr style=\"text-align: right;\">\n",
              "      <th></th>\n",
              "      <th></th>\n",
              "      <th>word</th>\n",
              "      <th>word_id</th>\n",
              "      <th>word_vec</th>\n",
              "      <th>word_xy</th>\n",
              "      <th>word_x</th>\n",
              "      <th>word_y</th>\n",
              "      <th>gender_score</th>\n",
              "      <th>gender__vector_score</th>\n",
              "      <th>gender_vector_score</th>\n",
              "      <th>gender1</th>\n",
              "      <th>gvs</th>\n",
              "      <th>colors</th>\n",
              "    </tr>\n",
              "  </thead>\n",
              "  <tbody>\n",
              "    <tr>\n",
              "      <th>22</th>\n",
              "      <th>1</th>\n",
              "      <td>nurse</td>\n",
              "      <td>7439</td>\n",
              "      <td>[[-0.043522343, -0.07187326, -0.0222...</td>\n",
              "      <td>(0.50982094, -0.11020863)</td>\n",
              "      <td>0.509821</td>\n",
              "      <td>-0.110209</td>\n",
              "      <td>[-0.0539946007855687]</td>\n",
              "      <td>[0.16802116846817033]</td>\n",
              "      <td>[0.16802116846817033]</td>\n",
              "      <td>[[-0.033676836639642715, -0.00523176...</td>\n",
              "      <td>0.168021</td>\n",
              "      <td>orange</td>\n",
              "    </tr>\n",
              "    <tr>\n",
              "      <th>204</th>\n",
              "      <th>12</th>\n",
              "      <td>salon</td>\n",
              "      <td>20310</td>\n",
              "      <td>[[-0.0529967, 0.0055915015, 0.009137...</td>\n",
              "      <td>(0.52415204, -0.14186354)</td>\n",
              "      <td>0.524152</td>\n",
              "      <td>-0.141864</td>\n",
              "      <td>[-0.1282347732269773]</td>\n",
              "      <td>[0.1782143582182992]</td>\n",
              "      <td>[0.1782143582182992]</td>\n",
              "      <td>[[-0.033676836639642715, -0.00523176...</td>\n",
              "      <td>0.178214</td>\n",
              "      <td>orange</td>\n",
              "    </tr>\n",
              "    <tr>\n",
              "      <th>78</th>\n",
              "      <th>11</th>\n",
              "      <td>her</td>\n",
              "      <td>1123</td>\n",
              "      <td>[[0.004219352, 0.029523268, -0.04063...</td>\n",
              "      <td>(-0.24836737, -0.068293445)</td>\n",
              "      <td>-0.248367</td>\n",
              "      <td>-0.068293</td>\n",
              "      <td>[0.22702198833794549]</td>\n",
              "      <td>[0.21983656871879015]</td>\n",
              "      <td>[0.21983656871879015]</td>\n",
              "      <td>[[-0.033676836639642715, -0.00523176...</td>\n",
              "      <td>0.219837</td>\n",
              "      <td>orange</td>\n",
              "    </tr>\n",
              "    <tr>\n",
              "      <th>251</th>\n",
              "      <th>14</th>\n",
              "      <td>herself</td>\n",
              "      <td>1941</td>\n",
              "      <td>[[-0.07277706, 0.038535852, 0.060213...</td>\n",
              "      <td>(0.19559273, -0.045169793)</td>\n",
              "      <td>0.195593</td>\n",
              "      <td>-0.045170</td>\n",
              "      <td>[0.03766322356153333]</td>\n",
              "      <td>[0.24130878958510033]</td>\n",
              "      <td>[0.24130878958510033]</td>\n",
              "      <td>[[-0.033676836639642715, -0.00523176...</td>\n",
              "      <td>0.241309</td>\n",
              "      <td>orange</td>\n",
              "    </tr>\n",
              "    <tr>\n",
              "      <th>239</th>\n",
              "      <th>10</th>\n",
              "      <td>she</td>\n",
              "      <td>1131</td>\n",
              "      <td>[[-0.03390125, 0.019389033, 0.001012...</td>\n",
              "      <td>(-0.051475607, -0.05875791)</td>\n",
              "      <td>-0.051476</td>\n",
              "      <td>-0.058758</td>\n",
              "      <td>[-0.04678698498798757]</td>\n",
              "      <td>[0.26725218293141856]</td>\n",
              "      <td>[0.26725218293141856]</td>\n",
              "      <td>[[-0.033676836639642715, -0.00523176...</td>\n",
              "      <td>0.267252</td>\n",
              "      <td>orange</td>\n",
              "    </tr>\n",
              "  </tbody>\n",
              "</table>\n",
              "</div>"
            ],
            "text/plain": [
              "           word  word_id  ...       gvs  colors\n",
              "22  1     nurse     7439  ...  0.168021  orange\n",
              "204 12    salon    20310  ...  0.178214  orange\n",
              "78  11      her     1123  ...  0.219837  orange\n",
              "251 14  herself     1941  ...  0.241309  orange\n",
              "239 10      she     1131  ...  0.267252  orange\n",
              "\n",
              "[5 rows x 12 columns]"
            ]
          },
          "metadata": {},
          "execution_count": 285
        }
      ]
    },
    {
      "cell_type": "code",
      "metadata": {
        "colab": {
          "base_uri": "https://localhost:8080/",
          "height": 654
        },
        "id": "zhkbOeBEAydp",
        "outputId": "84d5c66c-ea1d-4ed5-8e8f-de9f32c0011f"
      },
      "source": [
        "import matplotlib.patches as mpatches\n",
        "# Draw plot\n",
        "plt.figure(figsize=(14, 10), dpi=80)\n",
        "#fig, ax = plt.subplots()\n",
        "plt.scatter(word_count['word_x'], \n",
        "            word_count['word_y'], \n",
        "            s = 20, \n",
        "            c=word_count['colors'],\n",
        "            alpha=1, \n",
        "            edgecolors='none')\n",
        "orange_patch = mpatches.Patch(color='orange', label='Female')\n",
        "green_patch = mpatches.Patch(color='green', label='Male')\n",
        "plt.legend(handles=[orange_patch, green_patch], loc = 'best')\n",
        "plt.show()"
      ],
      "execution_count": null,
      "outputs": [
        {
          "output_type": "display_data",
          "data": {
            "image/png": "[encoded data removed]",
            "text/plain": [
              "<Figure size 1120x800 with 1 Axes>"
            ]
          },
          "metadata": {
            "needs_background": "light"
          }
        }
      ]
    },
    {
      "cell_type": "code",
      "metadata": {
        "colab": {
          "base_uri": "https://localhost:8080/",
          "height": 654
        },
        "id": "-HZ5IKERC0bz",
        "outputId": "38f14b49-659e-4914-d3cd-937190bfcb2c"
      },
      "source": [
        "# SAME BUT FOR MOST BIASED\n",
        "# Draw plot\n",
        "plt.figure(figsize=(14, 10), dpi=80)\n",
        "#fig, ax = plt.subplots()\n",
        "plt.scatter(most_biased['word_x'], \n",
        "            most_biased['word_y'], \n",
        "            s = 20, \n",
        "            c=most_biased['colors'],\n",
        "            alpha=1, \n",
        "            edgecolors='none')\n",
        "orange_patch = mpatches.Patch(color='orange', label='Female')\n",
        "green_patch = mpatches.Patch(color='green', label='Male')\n",
        "plt.legend(handles=[orange_patch, green_patch], loc = 'best')\n",
        "plt.show()"
      ],
      "execution_count": null,
      "outputs": [
        {
          "output_type": "display_data",
          "data": {
            "image/png": "[encoded data removed]",
            "text/plain": [
              "<Figure size 1120x800 with 1 Axes>"
            ]
          },
          "metadata": {
            "needs_background": "light"
          }
        }
      ]
    },
    {
      "cell_type": "markdown",
      "metadata": {
        "id": "HXF8d3Xe_3lF"
      },
      "source": [
        "## **2. Most Biased Words for male and female**"
      ]
    },
    {
      "cell_type": "code",
      "metadata": {
        "id": "8lwZ1Vyg0yAS"
      },
      "source": [
        "# setting colours\n",
        "\n",
        "most_biased['colors'] = ['orange' if x == 'female' else 'green' for x in most_biased['gender']]"
      ],
      "execution_count": null,
      "outputs": []
    },
    {
      "cell_type": "code",
      "metadata": {
        "id": "Kg2yWHDZ1ZaL"
      },
      "source": [
        "#sort values\n",
        "most_biased.sort_values('gvs', inplace=True)\n",
        "#df.reset_index(inplace=True)"
      ],
      "execution_count": null,
      "outputs": []
    },
    {
      "cell_type": "code",
      "metadata": {
        "colab": {
          "base_uri": "https://localhost:8080/",
          "height": 691
        },
        "id": "4fPy1EwI1nzd",
        "outputId": "860ab43d-47f1-4fc0-a4d3-8b5a861201f2"
      },
      "source": [
        "# Draw plot\n",
        "plt.figure(figsize=(14, 10), dpi=80)\n",
        "  \n",
        "# Plotting the horizontal lines\n",
        "plt.hlines(y=most_biased.word, xmin=0, xmax=most_biased.gvs,\n",
        "           color=most_biased.colors, alpha=1, linewidth=5)\n",
        "  \n",
        "# Decorations\n",
        "# Setting the labels of x-axis and y-axis\n",
        "plt.gca().set(ylabel='Word', xlabel='Gender Score')\n",
        "  \n",
        "# Setting Date to y-axis\n",
        "plt.yticks(most_biased.word, fontsize=12)\n",
        "  \n",
        "# Title of Bar Chart\n",
        "plt.title('Gender Score', fontdict={\n",
        "          'size': 20})\n",
        "  \n",
        "# Optional grid layout\n",
        "plt.grid(linestyle='--', alpha=0.5)\n",
        "\n",
        "orange_patch = mpatches.Patch(color='orange', label='Female')\n",
        "green_patch = mpatches.Patch(color='green', label='Male')\n",
        "plt.legend(handles=[orange_patch, green_patch], loc = 'lower right')\n",
        "# Displaying the Diverging Bar Chart\n",
        "plt.show()"
      ],
      "execution_count": null,
      "outputs": [
        {
          "output_type": "display_data",
          "data": {
            "image/png": "[encoded data removed]",
            "text/plain": [
              "<Figure size 1120x800 with 1 Axes>"
            ]
          },
          "metadata": {
            "needs_background": "light"
          }
        }
      ]
    },
    {
      "cell_type": "markdown",
      "metadata": {
        "id": "MbNcG7TzwdNP"
      },
      "source": [
        "# **GENDER BIAS IN OCCUPATION WORDS**"
      ]
    },
    {
      "cell_type": "code",
      "metadata": {
        "id": "hKje1h75bD1K"
      },
      "source": [
        "# getting occupations \n",
        "!cp \"/content/gdrive/MyDrive/Colab Notebooks/wino_csv/occupations.csv\" \"/content/occupations.csv\""
      ],
      "execution_count": null,
      "outputs": []
    },
    {
      "cell_type": "code",
      "metadata": {
        "colab": {
          "base_uri": "https://localhost:8080/",
          "height": 202
        },
        "id": "OCrJARBObFVI",
        "outputId": "b7bfeaa6-578b-4bf1-bebe-dad875281ac5"
      },
      "source": [
        "occupations = pd.read_csv('occupations.csv')\n",
        "occupations.head()"
      ],
      "execution_count": null,
      "outputs": [
        {
          "output_type": "execute_result",
          "data": {
            "text/html": [
              "<div>\n",
              "<style scoped>\n",
              "    .dataframe tbody tr th:only-of-type {\n",
              "        vertical-align: middle;\n",
              "    }\n",
              "\n",
              "    .dataframe tbody tr th {\n",
              "        vertical-align: top;\n",
              "    }\n",
              "\n",
              "    .dataframe thead th {\n",
              "        text-align: right;\n",
              "    }\n",
              "</style>\n",
              "<table border=\"1\" class=\"dataframe\">\n",
              "  <thead>\n",
              "    <tr style=\"text-align: right;\">\n",
              "      <th></th>\n",
              "      <th>Occupations</th>\n",
              "    </tr>\n",
              "  </thead>\n",
              "  <tbody>\n",
              "    <tr>\n",
              "      <th>0</th>\n",
              "      <td>Accountant</td>\n",
              "    </tr>\n",
              "    <tr>\n",
              "      <th>1</th>\n",
              "      <td>Accounts Assistant</td>\n",
              "    </tr>\n",
              "    <tr>\n",
              "      <th>2</th>\n",
              "      <td>Accounts Clerk</td>\n",
              "    </tr>\n",
              "    <tr>\n",
              "      <th>3</th>\n",
              "      <td>Accounts Manager</td>\n",
              "    </tr>\n",
              "    <tr>\n",
              "      <th>4</th>\n",
              "      <td>Accounts Staff</td>\n",
              "    </tr>\n",
              "  </tbody>\n",
              "</table>\n",
              "</div>"
            ],
            "text/plain": [
              "          Occupations\n",
              "0          Accountant\n",
              "1  Accounts Assistant\n",
              "2      Accounts Clerk\n",
              "3    Accounts Manager\n",
              "4      Accounts Staff"
            ]
          },
          "metadata": {},
          "execution_count": 314
        }
      ]
    },
    {
      "cell_type": "code",
      "metadata": {
        "colab": {
          "base_uri": "https://localhost:8080/"
        },
        "id": "6YxZ-pEPbZny",
        "outputId": "f8dbffe9-2f69-4293-a743-4d0a7642d42d"
      },
      "source": [
        "occ_list = occupations.Occupations.tolist()\n",
        "occ_list[:5]"
      ],
      "execution_count": null,
      "outputs": [
        {
          "output_type": "execute_result",
          "data": {
            "text/plain": [
              "['Accountant',\n",
              " 'Accounts Assistant',\n",
              " 'Accounts Clerk',\n",
              " 'Accounts Manager',\n",
              " 'Accounts Staff']"
            ]
          },
          "metadata": {},
          "execution_count": 315
        }
      ]
    },
    {
      "cell_type": "code",
      "metadata": {
        "id": "bv_dchGIckw2"
      },
      "source": [
        "occ_list = [x.lower() for x in occ_list]"
      ],
      "execution_count": null,
      "outputs": []
    },
    {
      "cell_type": "code",
      "metadata": {
        "id": "EXJdy5xaRbP6"
      },
      "source": [
        "df_list2 = [] \n",
        "for o in occ_list:\n",
        "    df5 = pd.DataFrame(word_count.loc[word_count['word'] == o])\n",
        "    df_list2.append(df5)\n",
        "\n",
        "df6 = pd.concat(df_list2, ignore_index = True)\n",
        "#df6 = df6.drop_duplicates(subset='word', keep=\"first\")\n",
        "df6.sort_values(by=\"gender_vector_score\", inplace=True, ascending=False)"
      ],
      "execution_count": null,
      "outputs": []
    },
    {
      "cell_type": "code",
      "metadata": {
        "colab": {
          "base_uri": "https://localhost:8080/",
          "height": 1000
        },
        "id": "NClBc0dwegFa",
        "outputId": "70935a1b-f7bf-4f78-bc31-d9a05e5c66b8"
      },
      "source": [
        "df6"
      ],
      "execution_count": null,
      "outputs": [
        {
          "output_type": "execute_result",
          "data": {
            "text/html": [
              "<div>\n",
              "<style scoped>\n",
              "    .dataframe tbody tr th:only-of-type {\n",
              "        vertical-align: middle;\n",
              "    }\n",
              "\n",
              "    .dataframe tbody tr th {\n",
              "        vertical-align: top;\n",
              "    }\n",
              "\n",
              "    .dataframe thead th {\n",
              "        text-align: right;\n",
              "    }\n",
              "</style>\n",
              "<table border=\"1\" class=\"dataframe\">\n",
              "  <thead>\n",
              "    <tr style=\"text-align: right;\">\n",
              "      <th></th>\n",
              "      <th>word</th>\n",
              "      <th>word_id</th>\n",
              "      <th>word_vec</th>\n",
              "      <th>word_xy</th>\n",
              "      <th>word_x</th>\n",
              "      <th>word_y</th>\n",
              "      <th>gender_score</th>\n",
              "      <th>gender__vector_score</th>\n",
              "      <th>gender_vector_score</th>\n",
              "      <th>gender1</th>\n",
              "      <th>gvs</th>\n",
              "      <th>colors</th>\n",
              "    </tr>\n",
              "  </thead>\n",
              "  <tbody>\n",
              "    <tr>\n",
              "      <th>15</th>\n",
              "      <td>nurse</td>\n",
              "      <td>7439</td>\n",
              "      <td>[[-0.043522343, -0.07187326, -0.0222...</td>\n",
              "      <td>(0.50982094, -0.11020863)</td>\n",
              "      <td>0.509821</td>\n",
              "      <td>-0.110209</td>\n",
              "      <td>[-0.0539946007855687]</td>\n",
              "      <td>[0.16802116846817033]</td>\n",
              "      <td>[0.16802116846817033]</td>\n",
              "      <td>[[-0.033676836639642715, -0.00523176...</td>\n",
              "      <td>0.168021</td>\n",
              "      <td>orange</td>\n",
              "    </tr>\n",
              "    <tr>\n",
              "      <th>11</th>\n",
              "      <td>housekeeper</td>\n",
              "      <td>26458</td>\n",
              "      <td>[[0.017081143, -0.037035644, 0.03373...</td>\n",
              "      <td>(0.67791027, -0.12682642)</td>\n",
              "      <td>0.677910</td>\n",
              "      <td>-0.126826</td>\n",
              "      <td>[-0.07363718967864974]</td>\n",
              "      <td>[0.16497899075348735]</td>\n",
              "      <td>[0.16497899075348735]</td>\n",
              "      <td>[[-0.033676836639642715, -0.00523176...</td>\n",
              "      <td>0.164979</td>\n",
              "      <td>orange</td>\n",
              "    </tr>\n",
              "    <tr>\n",
              "      <th>13</th>\n",
              "      <td>librarian</td>\n",
              "      <td>18280</td>\n",
              "      <td>[[0.02209205, -0.0816464, -0.0415484...</td>\n",
              "      <td>(0.69067955, -0.12939934)</td>\n",
              "      <td>0.690680</td>\n",
              "      <td>-0.129399</td>\n",
              "      <td>[-0.03613128418506155]</td>\n",
              "      <td>[0.06574791260983764]</td>\n",
              "      <td>[0.06574791260983764]</td>\n",
              "      <td>[[-0.033676836639642715, -0.00523176...</td>\n",
              "      <td>0.065748</td>\n",
              "      <td>orange</td>\n",
              "    </tr>\n",
              "    <tr>\n",
              "      <th>5</th>\n",
              "      <td>cleaner</td>\n",
              "      <td>23722</td>\n",
              "      <td>[[-0.026834276, -0.12454485, 0.02742...</td>\n",
              "      <td>(0.56973755, -0.09179544)</td>\n",
              "      <td>0.569738</td>\n",
              "      <td>-0.091795</td>\n",
              "      <td>[-0.07370287590981811]</td>\n",
              "      <td>[0.05785359222367853]</td>\n",
              "      <td>[0.05785359222367853]</td>\n",
              "      <td>[[-0.033676836639642715, -0.00523176...</td>\n",
              "      <td>0.057854</td>\n",
              "      <td>orange</td>\n",
              "    </tr>\n",
              "    <tr>\n",
              "      <th>17</th>\n",
              "      <td>secretary</td>\n",
              "      <td>4848</td>\n",
              "      <td>[[-0.071421206, -0.06413245, -0.0359...</td>\n",
              "      <td>(0.5544284, -0.110608496)</td>\n",
              "      <td>0.554428</td>\n",
              "      <td>-0.110608</td>\n",
              "      <td>[-0.09786214915769223]</td>\n",
              "      <td>[0.053865404725063376]</td>\n",
              "      <td>[0.053865404725063376]</td>\n",
              "      <td>[[-0.033676836639642715, -0.00523176...</td>\n",
              "      <td>0.053865</td>\n",
              "      <td>orange</td>\n",
              "    </tr>\n",
              "    <tr>\n",
              "      <th>3</th>\n",
              "      <td>attendant</td>\n",
              "      <td>19389</td>\n",
              "      <td>[[-0.051711533, -0.014830579, 0.0016...</td>\n",
              "      <td>(0.5219708, -0.09409491)</td>\n",
              "      <td>0.521971</td>\n",
              "      <td>-0.094095</td>\n",
              "      <td>[-0.020562019843328054]</td>\n",
              "      <td>[0.031611382807689756]</td>\n",
              "      <td>[0.031611382807689756]</td>\n",
              "      <td>[[-0.033676836639642715, -0.00523176...</td>\n",
              "      <td>0.031611</td>\n",
              "      <td>orange</td>\n",
              "    </tr>\n",
              "    <tr>\n",
              "      <th>9</th>\n",
              "      <td>employee</td>\n",
              "      <td>7775</td>\n",
              "      <td>[[-0.012865962, -0.030752758, -0.024...</td>\n",
              "      <td>(0.4554755, -0.16672945)</td>\n",
              "      <td>0.455476</td>\n",
              "      <td>-0.166729</td>\n",
              "      <td>[-0.06257019721618089]</td>\n",
              "      <td>[0.02319693945390811]</td>\n",
              "      <td>[0.02319693945390811]</td>\n",
              "      <td>[[-0.033676836639642715, -0.00523176...</td>\n",
              "      <td>0.023197</td>\n",
              "      <td>orange</td>\n",
              "    </tr>\n",
              "    <tr>\n",
              "      <th>8</th>\n",
              "      <td>editor</td>\n",
              "      <td>3045</td>\n",
              "      <td>[[-0.06561848, -0.054955337, -0.0757...</td>\n",
              "      <td>(0.49304858, -0.092275)</td>\n",
              "      <td>0.493049</td>\n",
              "      <td>-0.092275</td>\n",
              "      <td>[-0.02923957610666096]</td>\n",
              "      <td>[0.018956495047461344]</td>\n",
              "      <td>[0.018956495047461344]</td>\n",
              "      <td>[[-0.033676836639642715, -0.00523176...</td>\n",
              "      <td>0.018956</td>\n",
              "      <td>orange</td>\n",
              "    </tr>\n",
              "    <tr>\n",
              "      <th>0</th>\n",
              "      <td>accountant</td>\n",
              "      <td>23195</td>\n",
              "      <td>[[0.027775774, -0.065841354, -0.0395...</td>\n",
              "      <td>(0.62684304, -0.11609952)</td>\n",
              "      <td>0.626843</td>\n",
              "      <td>-0.116100</td>\n",
              "      <td>[-0.09808051707654253]</td>\n",
              "      <td>[0.015240284816766536]</td>\n",
              "      <td>[0.015240284816766536]</td>\n",
              "      <td>[[-0.033676836639642715, -0.00523176...</td>\n",
              "      <td>0.015240</td>\n",
              "      <td>orange</td>\n",
              "    </tr>\n",
              "    <tr>\n",
              "      <th>6</th>\n",
              "      <td>clerk</td>\n",
              "      <td>9477</td>\n",
              "      <td>[[-0.021356523, -0.06134745, -0.0699...</td>\n",
              "      <td>(0.59739894, -0.14450541)</td>\n",
              "      <td>0.597399</td>\n",
              "      <td>-0.144505</td>\n",
              "      <td>[-0.025976411820684282]</td>\n",
              "      <td>[0.013578556251048528]</td>\n",
              "      <td>[0.013578556251048528]</td>\n",
              "      <td>[[-0.033676836639642715, -0.00523176...</td>\n",
              "      <td>0.013579</td>\n",
              "      <td>orange</td>\n",
              "    </tr>\n",
              "    <tr>\n",
              "      <th>19</th>\n",
              "      <td>supervisor</td>\n",
              "      <td>16014</td>\n",
              "      <td>[[-0.017565386, -0.072712615, -0.010...</td>\n",
              "      <td>(0.56936264, -0.12058424)</td>\n",
              "      <td>0.569363</td>\n",
              "      <td>-0.120584</td>\n",
              "      <td>[-0.054785559118472146]</td>\n",
              "      <td>[0.010496487777365001]</td>\n",
              "      <td>[0.010496487777365001]</td>\n",
              "      <td>[[-0.033676836639642715, -0.00523176...</td>\n",
              "      <td>0.010496</td>\n",
              "      <td>orange</td>\n",
              "    </tr>\n",
              "    <tr>\n",
              "      <th>1</th>\n",
              "      <td>analyst</td>\n",
              "      <td>14582</td>\n",
              "      <td>[[-0.04901919, -0.10405279, -0.03954...</td>\n",
              "      <td>(0.6065322, -0.13369523)</td>\n",
              "      <td>0.606532</td>\n",
              "      <td>-0.133695</td>\n",
              "      <td>[-0.108724108096248]</td>\n",
              "      <td>[0.009010875122048252]</td>\n",
              "      <td>[0.009010875122048252]</td>\n",
              "      <td>[[-0.033676836639642715, -0.00523176...</td>\n",
              "      <td>0.009011</td>\n",
              "      <td>orange</td>\n",
              "    </tr>\n",
              "    <tr>\n",
              "      <th>2</th>\n",
              "      <td>assistant</td>\n",
              "      <td>3109</td>\n",
              "      <td>[[-0.043768056, -0.07611726, 0.00179...</td>\n",
              "      <td>(0.38206005, -0.13546601)</td>\n",
              "      <td>0.382060</td>\n",
              "      <td>-0.135466</td>\n",
              "      <td>[-0.05925055105659321]</td>\n",
              "      <td>[0.008151789066064275]</td>\n",
              "      <td>[0.008151789066064275]</td>\n",
              "      <td>[[-0.033676836639642715, -0.00523176...</td>\n",
              "      <td>0.008152</td>\n",
              "      <td>orange</td>\n",
              "    </tr>\n",
              "    <tr>\n",
              "      <th>20</th>\n",
              "      <td>teacher</td>\n",
              "      <td>3218</td>\n",
              "      <td>[[0.0066884127, -0.08059015, -0.0482...</td>\n",
              "      <td>(0.42116433, -0.037898432)</td>\n",
              "      <td>0.421164</td>\n",
              "      <td>-0.037898</td>\n",
              "      <td>[-0.0325195351380406]</td>\n",
              "      <td>[0.006110067471405425]</td>\n",
              "      <td>[0.006110067471405425]</td>\n",
              "      <td>[[-0.033676836639642715, -0.00523176...</td>\n",
              "      <td>0.006110</td>\n",
              "      <td>orange</td>\n",
              "    </tr>\n",
              "    <tr>\n",
              "      <th>18</th>\n",
              "      <td>sheriff</td>\n",
              "      <td>11398</td>\n",
              "      <td>[[0.02444244, -0.04061317, -0.070734...</td>\n",
              "      <td>(0.59532434, -0.12930103)</td>\n",
              "      <td>0.595324</td>\n",
              "      <td>-0.129301</td>\n",
              "      <td>[-0.04233641651169203]</td>\n",
              "      <td>[-0.005296790510282815]</td>\n",
              "      <td>[-0.005296790510282815]</td>\n",
              "      <td>[[-0.033676836639642715, -0.00523176...</td>\n",
              "      <td>-0.005297</td>\n",
              "      <td>green</td>\n",
              "    </tr>\n",
              "    <tr>\n",
              "      <th>12</th>\n",
              "      <td>lawyer</td>\n",
              "      <td>4545</td>\n",
              "      <td>[[0.003681049, -0.0634584, -0.017726...</td>\n",
              "      <td>(0.46877223, -0.080823936)</td>\n",
              "      <td>0.468772</td>\n",
              "      <td>-0.080824</td>\n",
              "      <td>[-0.05280330957069085]</td>\n",
              "      <td>[-0.007956429295354787]</td>\n",
              "      <td>[-0.007956429295354787]</td>\n",
              "      <td>[[-0.033676836639642715, -0.00523176...</td>\n",
              "      <td>-0.007956</td>\n",
              "      <td>green</td>\n",
              "    </tr>\n",
              "    <tr>\n",
              "      <th>16</th>\n",
              "      <td>physician</td>\n",
              "      <td>7454</td>\n",
              "      <td>[[-0.06299446, -0.062019892, -0.0350...</td>\n",
              "      <td>(0.56094396, -0.056514546)</td>\n",
              "      <td>0.560944</td>\n",
              "      <td>-0.056515</td>\n",
              "      <td>[-0.1017468420620709]</td>\n",
              "      <td>[-0.008912339437418846]</td>\n",
              "      <td>[-0.008912339437418846]</td>\n",
              "      <td>[[-0.033676836639642715, -0.00523176...</td>\n",
              "      <td>-0.008912</td>\n",
              "      <td>green</td>\n",
              "    </tr>\n",
              "    <tr>\n",
              "      <th>14</th>\n",
              "      <td>mechanic</td>\n",
              "      <td>19459</td>\n",
              "      <td>[[-0.048198067, -0.06772748, 0.06696...</td>\n",
              "      <td>(0.6232583, -0.070419736)</td>\n",
              "      <td>0.623258</td>\n",
              "      <td>-0.070420</td>\n",
              "      <td>[-0.020008244497625758]</td>\n",
              "      <td>[-0.010830885351845315]</td>\n",
              "      <td>[-0.010830885351845315]</td>\n",
              "      <td>[[-0.033676836639642715, -0.00523176...</td>\n",
              "      <td>-0.010831</td>\n",
              "      <td>green</td>\n",
              "    </tr>\n",
              "    <tr>\n",
              "      <th>4</th>\n",
              "      <td>carpenter</td>\n",
              "      <td>25169</td>\n",
              "      <td>[[-0.04519653, -0.09831975, 0.017806...</td>\n",
              "      <td>(0.6344102, -0.05746831)</td>\n",
              "      <td>0.634410</td>\n",
              "      <td>-0.057468</td>\n",
              "      <td>[-0.07563116517255848]</td>\n",
              "      <td>[-0.01868291036283508]</td>\n",
              "      <td>[-0.01868291036283508]</td>\n",
              "      <td>[[-0.033676836639642715, -0.00523176...</td>\n",
              "      <td>-0.018683</td>\n",
              "      <td>green</td>\n",
              "    </tr>\n",
              "    <tr>\n",
              "      <th>21</th>\n",
              "      <td>writer</td>\n",
              "      <td>2432</td>\n",
              "      <td>[[-0.041344546, -0.050933823, -0.002...</td>\n",
              "      <td>(0.3852781, -0.06356647)</td>\n",
              "      <td>0.385278</td>\n",
              "      <td>-0.063566</td>\n",
              "      <td>[-0.03920892484972951]</td>\n",
              "      <td>[-0.01902377492342848]</td>\n",
              "      <td>[-0.01902377492342848]</td>\n",
              "      <td>[[-0.033676836639642715, -0.00523176...</td>\n",
              "      <td>-0.019024</td>\n",
              "      <td>green</td>\n",
              "    </tr>\n",
              "    <tr>\n",
              "      <th>7</th>\n",
              "      <td>driver</td>\n",
              "      <td>3445</td>\n",
              "      <td>[[-0.01485783, -0.053715054, 0.01952...</td>\n",
              "      <td>(0.384778, -0.078692585)</td>\n",
              "      <td>0.384778</td>\n",
              "      <td>-0.078693</td>\n",
              "      <td>[-0.01061941813009339]</td>\n",
              "      <td>[-0.01987677278802764]</td>\n",
              "      <td>[-0.01987677278802764]</td>\n",
              "      <td>[[-0.033676836639642715, -0.00523176...</td>\n",
              "      <td>-0.019877</td>\n",
              "      <td>green</td>\n",
              "    </tr>\n",
              "    <tr>\n",
              "      <th>10</th>\n",
              "      <td>farmer</td>\n",
              "      <td>9230</td>\n",
              "      <td>[[-0.02873451, -0.050709575, 0.00411...</td>\n",
              "      <td>(0.5047464, -0.047808982)</td>\n",
              "      <td>0.504746</td>\n",
              "      <td>-0.047809</td>\n",
              "      <td>[-0.05149343805447053]</td>\n",
              "      <td>[-0.05173725674132207]</td>\n",
              "      <td>[-0.05173725674132207]</td>\n",
              "      <td>[[-0.033676836639642715, -0.00523176...</td>\n",
              "      <td>-0.051737</td>\n",
              "      <td>green</td>\n",
              "    </tr>\n",
              "  </tbody>\n",
              "</table>\n",
              "</div>"
            ],
            "text/plain": [
              "           word  word_id  ...       gvs  colors\n",
              "15        nurse     7439  ...  0.168021  orange\n",
              "11  housekeeper    26458  ...  0.164979  orange\n",
              "13    librarian    18280  ...  0.065748  orange\n",
              "5       cleaner    23722  ...  0.057854  orange\n",
              "17    secretary     4848  ...  0.053865  orange\n",
              "3     attendant    19389  ...  0.031611  orange\n",
              "9      employee     7775  ...  0.023197  orange\n",
              "8        editor     3045  ...  0.018956  orange\n",
              "0    accountant    23195  ...  0.015240  orange\n",
              "6         clerk     9477  ...  0.013579  orange\n",
              "19   supervisor    16014  ...  0.010496  orange\n",
              "1       analyst    14582  ...  0.009011  orange\n",
              "2     assistant     3109  ...  0.008152  orange\n",
              "20      teacher     3218  ...  0.006110  orange\n",
              "18      sheriff    11398  ... -0.005297   green\n",
              "12       lawyer     4545  ... -0.007956   green\n",
              "16    physician     7454  ... -0.008912   green\n",
              "14     mechanic    19459  ... -0.010831   green\n",
              "4     carpenter    25169  ... -0.018683   green\n",
              "21       writer     2432  ... -0.019024   green\n",
              "7        driver     3445  ... -0.019877   green\n",
              "10       farmer     9230  ... -0.051737   green\n",
              "\n",
              "[22 rows x 12 columns]"
            ]
          },
          "metadata": {},
          "execution_count": 320
        }
      ]
    },
    {
      "cell_type": "code",
      "metadata": {
        "id": "aS3Y6X3JfYHm"
      },
      "source": [
        "# getting occupation words out of the data \n",
        "occupations = ['attendant',\n",
        "'cashier',\n",
        "'teacher',\n",
        "'nurse',\n",
        "'assistant',\n",
        "'secretary',\n",
        "'auditor',\n",
        "'cleaner',\n",
        "'receptionist',\n",
        "'clerk',\n",
        "'counselor',\n",
        "'designer',\n",
        "'hairdresser',\n",
        "'writer',\n",
        "'housekeeper',\n",
        "'baker',\n",
        "'accountant',\n",
        "'editor',\n",
        "'librarian',\n",
        "'tailor',\n",
        "'driver',\n",
        "'supervisor',\n",
        "'janitor',\n",
        "'cook',\n",
        "'mover',\n",
        "'laborer',\n",
        "'construction worker', \n",
        "'chief',\n",
        "'developer',\n",
        "'carpenter',\n",
        "'manager',\n",
        "'lawyer',\n",
        "'farmer',\n",
        "'salesperson',\n",
        "'physician',\n",
        "'guard',\n",
        "'analyst',\n",
        "'mechanic',\n",
        "'sheriff',\n",
        "'CEO']\n"
      ],
      "execution_count": null,
      "outputs": []
    },
    {
      "cell_type": "code",
      "metadata": {
        "id": "ALR_gcpSfbT1"
      },
      "source": [
        "df_list3 = [] \n",
        "for o in occupations:\n",
        "    df7 = pd.DataFrame(word_count.loc[word_count['word'] == o])\n",
        "    df_list3.append(df7)\n",
        "\n",
        "df8 = pd.concat(df_list3, ignore_index = True)\n",
        "df8 = df8.drop_duplicates(subset='word', keep=\"first\")\n",
        "df8.sort_values(by=\"gvs\", inplace=True, ascending=False)"
      ],
      "execution_count": null,
      "outputs": []
    },
    {
      "cell_type": "code",
      "metadata": {
        "colab": {
          "base_uri": "https://localhost:8080/",
          "height": 1000
        },
        "id": "WqppRQ1UfniE",
        "outputId": "d1e219b9-a8d1-4e88-8781-1727c8090fe2"
      },
      "source": [
        "df8"
      ],
      "execution_count": null,
      "outputs": [
        {
          "output_type": "execute_result",
          "data": {
            "text/html": [
              "<div>\n",
              "<style scoped>\n",
              "    .dataframe tbody tr th:only-of-type {\n",
              "        vertical-align: middle;\n",
              "    }\n",
              "\n",
              "    .dataframe tbody tr th {\n",
              "        vertical-align: top;\n",
              "    }\n",
              "\n",
              "    .dataframe thead th {\n",
              "        text-align: right;\n",
              "    }\n",
              "</style>\n",
              "<table border=\"1\" class=\"dataframe\">\n",
              "  <thead>\n",
              "    <tr style=\"text-align: right;\">\n",
              "      <th></th>\n",
              "      <th>word</th>\n",
              "      <th>word_id</th>\n",
              "      <th>word_vec</th>\n",
              "      <th>word_xy</th>\n",
              "      <th>word_x</th>\n",
              "      <th>word_y</th>\n",
              "      <th>gender_score</th>\n",
              "      <th>gender__vector_score</th>\n",
              "      <th>gender_vector_score</th>\n",
              "      <th>gender1</th>\n",
              "      <th>gvs</th>\n",
              "      <th>colors</th>\n",
              "    </tr>\n",
              "  </thead>\n",
              "  <tbody>\n",
              "    <tr>\n",
              "      <th>2</th>\n",
              "      <td>nurse</td>\n",
              "      <td>7439</td>\n",
              "      <td>[[-0.043522343, -0.07187326, -0.0222...</td>\n",
              "      <td>(0.50982094, -0.11020863)</td>\n",
              "      <td>0.509821</td>\n",
              "      <td>-0.110209</td>\n",
              "      <td>[-0.0539946007855687]</td>\n",
              "      <td>[0.16802116846817033]</td>\n",
              "      <td>[0.16802116846817033]</td>\n",
              "      <td>[[-0.033676836639642715, -0.00523176...</td>\n",
              "      <td>0.168021</td>\n",
              "      <td>orange</td>\n",
              "    </tr>\n",
              "    <tr>\n",
              "      <th>10</th>\n",
              "      <td>housekeeper</td>\n",
              "      <td>26458</td>\n",
              "      <td>[[0.017081143, -0.037035644, 0.03373...</td>\n",
              "      <td>(0.67791027, -0.12682642)</td>\n",
              "      <td>0.677910</td>\n",
              "      <td>-0.126826</td>\n",
              "      <td>[-0.07363718967864974]</td>\n",
              "      <td>[0.16497899075348735]</td>\n",
              "      <td>[0.16497899075348735]</td>\n",
              "      <td>[[-0.033676836639642715, -0.00523176...</td>\n",
              "      <td>0.164979</td>\n",
              "      <td>orange</td>\n",
              "    </tr>\n",
              "    <tr>\n",
              "      <th>16</th>\n",
              "      <td>cook</td>\n",
              "      <td>9834</td>\n",
              "      <td>[[-0.0135600725, -0.052522752, -0.02...</td>\n",
              "      <td>(0.5077577, -0.09599425)</td>\n",
              "      <td>0.507758</td>\n",
              "      <td>-0.095994</td>\n",
              "      <td>[-0.02857456400988334]</td>\n",
              "      <td>[0.07766088726590478]</td>\n",
              "      <td>[0.07766088726590478]</td>\n",
              "      <td>[[-0.033676836639642715, -0.00523176...</td>\n",
              "      <td>0.077661</td>\n",
              "      <td>orange</td>\n",
              "    </tr>\n",
              "    <tr>\n",
              "      <th>13</th>\n",
              "      <td>librarian</td>\n",
              "      <td>18280</td>\n",
              "      <td>[[0.02209205, -0.0816464, -0.0415484...</td>\n",
              "      <td>(0.69067955, -0.12939934)</td>\n",
              "      <td>0.690680</td>\n",
              "      <td>-0.129399</td>\n",
              "      <td>[-0.03613128418506155]</td>\n",
              "      <td>[0.06574791260983764]</td>\n",
              "      <td>[0.06574791260983764]</td>\n",
              "      <td>[[-0.033676836639642715, -0.00523176...</td>\n",
              "      <td>0.065748</td>\n",
              "      <td>orange</td>\n",
              "    </tr>\n",
              "    <tr>\n",
              "      <th>8</th>\n",
              "      <td>designer</td>\n",
              "      <td>5592</td>\n",
              "      <td>[[-0.090065554, -0.025961962, 0.0549...</td>\n",
              "      <td>(0.4875051, -0.11800066)</td>\n",
              "      <td>0.487505</td>\n",
              "      <td>-0.118001</td>\n",
              "      <td>[-0.09714058245609836]</td>\n",
              "      <td>[0.061372851650850754]</td>\n",
              "      <td>[0.061372851650850754]</td>\n",
              "      <td>[[-0.033676836639642715, -0.00523176...</td>\n",
              "      <td>0.061373</td>\n",
              "      <td>orange</td>\n",
              "    </tr>\n",
              "    <tr>\n",
              "      <th>5</th>\n",
              "      <td>cleaner</td>\n",
              "      <td>23722</td>\n",
              "      <td>[[-0.026834276, -0.12454485, 0.02742...</td>\n",
              "      <td>(0.56973755, -0.09179544)</td>\n",
              "      <td>0.569738</td>\n",
              "      <td>-0.091795</td>\n",
              "      <td>[-0.07370287590981811]</td>\n",
              "      <td>[0.05785359222367853]</td>\n",
              "      <td>[0.05785359222367853]</td>\n",
              "      <td>[[-0.033676836639642715, -0.00523176...</td>\n",
              "      <td>0.057854</td>\n",
              "      <td>orange</td>\n",
              "    </tr>\n",
              "    <tr>\n",
              "      <th>7</th>\n",
              "      <td>counselor</td>\n",
              "      <td>23550</td>\n",
              "      <td>[[-0.041580316, 0.04279565, -0.02057...</td>\n",
              "      <td>(0.6332605, -0.111048646)</td>\n",
              "      <td>0.633260</td>\n",
              "      <td>-0.111049</td>\n",
              "      <td>[-0.05610311756171045]</td>\n",
              "      <td>[0.05493334952415206]</td>\n",
              "      <td>[0.05493334952415206]</td>\n",
              "      <td>[[-0.033676836639642715, -0.00523176...</td>\n",
              "      <td>0.054933</td>\n",
              "      <td>orange</td>\n",
              "    </tr>\n",
              "    <tr>\n",
              "      <th>4</th>\n",
              "      <td>secretary</td>\n",
              "      <td>4848</td>\n",
              "      <td>[[-0.071421206, -0.06413245, -0.0359...</td>\n",
              "      <td>(0.5544284, -0.110608496)</td>\n",
              "      <td>0.554428</td>\n",
              "      <td>-0.110608</td>\n",
              "      <td>[-0.09786214915769223]</td>\n",
              "      <td>[0.053865404725063376]</td>\n",
              "      <td>[0.053865404725063376]</td>\n",
              "      <td>[[-0.033676836639642715, -0.00523176...</td>\n",
              "      <td>0.053865</td>\n",
              "      <td>orange</td>\n",
              "    </tr>\n",
              "    <tr>\n",
              "      <th>0</th>\n",
              "      <td>attendant</td>\n",
              "      <td>19389</td>\n",
              "      <td>[[-0.051711533, -0.014830579, 0.0016...</td>\n",
              "      <td>(0.5219708, -0.09409491)</td>\n",
              "      <td>0.521971</td>\n",
              "      <td>-0.094095</td>\n",
              "      <td>[-0.020562019843328054]</td>\n",
              "      <td>[0.031611382807689756]</td>\n",
              "      <td>[0.031611382807689756]</td>\n",
              "      <td>[[-0.033676836639642715, -0.00523176...</td>\n",
              "      <td>0.031611</td>\n",
              "      <td>orange</td>\n",
              "    </tr>\n",
              "    <tr>\n",
              "      <th>28</th>\n",
              "      <td>CEO</td>\n",
              "      <td>5058</td>\n",
              "      <td>[[0.048467692, 0.0073128664, -0.0376...</td>\n",
              "      <td>(0.4895755, -0.033515427)</td>\n",
              "      <td>0.489576</td>\n",
              "      <td>-0.033515</td>\n",
              "      <td>[-0.09247871777061205]</td>\n",
              "      <td>[0.02001133120374384]</td>\n",
              "      <td>[0.02001133120374384]</td>\n",
              "      <td>[[-0.033676836639642715, -0.00523176...</td>\n",
              "      <td>0.020011</td>\n",
              "      <td>orange</td>\n",
              "    </tr>\n",
              "    <tr>\n",
              "      <th>12</th>\n",
              "      <td>editor</td>\n",
              "      <td>3045</td>\n",
              "      <td>[[-0.06561848, -0.054955337, -0.0757...</td>\n",
              "      <td>(0.49304858, -0.092275)</td>\n",
              "      <td>0.493049</td>\n",
              "      <td>-0.092275</td>\n",
              "      <td>[-0.02923957610666096]</td>\n",
              "      <td>[0.018956495047461344]</td>\n",
              "      <td>[0.018956495047461344]</td>\n",
              "      <td>[[-0.033676836639642715, -0.00523176...</td>\n",
              "      <td>0.018956</td>\n",
              "      <td>orange</td>\n",
              "    </tr>\n",
              "    <tr>\n",
              "      <th>11</th>\n",
              "      <td>accountant</td>\n",
              "      <td>23195</td>\n",
              "      <td>[[0.027775774, -0.065841354, -0.0395...</td>\n",
              "      <td>(0.62684304, -0.11609952)</td>\n",
              "      <td>0.626843</td>\n",
              "      <td>-0.116100</td>\n",
              "      <td>[-0.09808051707654253]</td>\n",
              "      <td>[0.015240284816766536]</td>\n",
              "      <td>[0.015240284816766536]</td>\n",
              "      <td>[[-0.033676836639642715, -0.00523176...</td>\n",
              "      <td>0.015240</td>\n",
              "      <td>orange</td>\n",
              "    </tr>\n",
              "    <tr>\n",
              "      <th>6</th>\n",
              "      <td>clerk</td>\n",
              "      <td>9477</td>\n",
              "      <td>[[-0.021356523, -0.06134745, -0.0699...</td>\n",
              "      <td>(0.59739894, -0.14450541)</td>\n",
              "      <td>0.597399</td>\n",
              "      <td>-0.144505</td>\n",
              "      <td>[-0.025976411820684282]</td>\n",
              "      <td>[0.013578556251048528]</td>\n",
              "      <td>[0.013578556251048528]</td>\n",
              "      <td>[[-0.033676836639642715, -0.00523176...</td>\n",
              "      <td>0.013579</td>\n",
              "      <td>orange</td>\n",
              "    </tr>\n",
              "    <tr>\n",
              "      <th>18</th>\n",
              "      <td>developer</td>\n",
              "      <td>9991</td>\n",
              "      <td>[[-0.036900382, -0.07831477, 0.05555...</td>\n",
              "      <td>(0.51877296, -0.06466134)</td>\n",
              "      <td>0.518773</td>\n",
              "      <td>-0.064661</td>\n",
              "      <td>[-0.0670831704986205]</td>\n",
              "      <td>[0.01113846230461461]</td>\n",
              "      <td>[0.01113846230461461]</td>\n",
              "      <td>[[-0.033676836639642715, -0.00523176...</td>\n",
              "      <td>0.011138</td>\n",
              "      <td>orange</td>\n",
              "    </tr>\n",
              "    <tr>\n",
              "      <th>15</th>\n",
              "      <td>supervisor</td>\n",
              "      <td>16014</td>\n",
              "      <td>[[-0.017565386, -0.072712615, -0.010...</td>\n",
              "      <td>(0.56936264, -0.12058424)</td>\n",
              "      <td>0.569363</td>\n",
              "      <td>-0.120584</td>\n",
              "      <td>[-0.054785559118472146]</td>\n",
              "      <td>[0.010496487777365001]</td>\n",
              "      <td>[0.010496487777365001]</td>\n",
              "      <td>[[-0.033676836639642715, -0.00523176...</td>\n",
              "      <td>0.010496</td>\n",
              "      <td>orange</td>\n",
              "    </tr>\n",
              "    <tr>\n",
              "      <th>25</th>\n",
              "      <td>analyst</td>\n",
              "      <td>14582</td>\n",
              "      <td>[[-0.04901919, -0.10405279, -0.03954...</td>\n",
              "      <td>(0.6065322, -0.13369523)</td>\n",
              "      <td>0.606532</td>\n",
              "      <td>-0.133695</td>\n",
              "      <td>[-0.108724108096248]</td>\n",
              "      <td>[0.009010875122048252]</td>\n",
              "      <td>[0.009010875122048252]</td>\n",
              "      <td>[[-0.033676836639642715, -0.00523176...</td>\n",
              "      <td>0.009011</td>\n",
              "      <td>orange</td>\n",
              "    </tr>\n",
              "    <tr>\n",
              "      <th>3</th>\n",
              "      <td>assistant</td>\n",
              "      <td>3109</td>\n",
              "      <td>[[-0.043768056, -0.07611726, 0.00179...</td>\n",
              "      <td>(0.38206005, -0.13546601)</td>\n",
              "      <td>0.382060</td>\n",
              "      <td>-0.135466</td>\n",
              "      <td>[-0.05925055105659321]</td>\n",
              "      <td>[0.008151789066064275]</td>\n",
              "      <td>[0.008151789066064275]</td>\n",
              "      <td>[[-0.033676836639642715, -0.00523176...</td>\n",
              "      <td>0.008152</td>\n",
              "      <td>orange</td>\n",
              "    </tr>\n",
              "    <tr>\n",
              "      <th>1</th>\n",
              "      <td>teacher</td>\n",
              "      <td>3218</td>\n",
              "      <td>[[0.0066884127, -0.08059015, -0.0482...</td>\n",
              "      <td>(0.42116433, -0.037898432)</td>\n",
              "      <td>0.421164</td>\n",
              "      <td>-0.037898</td>\n",
              "      <td>[-0.0325195351380406]</td>\n",
              "      <td>[0.006110067471405425]</td>\n",
              "      <td>[0.006110067471405425]</td>\n",
              "      <td>[[-0.033676836639642715, -0.00523176...</td>\n",
              "      <td>0.006110</td>\n",
              "      <td>orange</td>\n",
              "    </tr>\n",
              "    <tr>\n",
              "      <th>27</th>\n",
              "      <td>sheriff</td>\n",
              "      <td>11398</td>\n",
              "      <td>[[0.02444244, -0.04061317, -0.070734...</td>\n",
              "      <td>(0.59532434, -0.12930103)</td>\n",
              "      <td>0.595324</td>\n",
              "      <td>-0.129301</td>\n",
              "      <td>[-0.04233641651169203]</td>\n",
              "      <td>[-0.005296790510282815]</td>\n",
              "      <td>[-0.005296790510282815]</td>\n",
              "      <td>[[-0.033676836639642715, -0.00523176...</td>\n",
              "      <td>-0.005297</td>\n",
              "      <td>green</td>\n",
              "    </tr>\n",
              "    <tr>\n",
              "      <th>21</th>\n",
              "      <td>lawyer</td>\n",
              "      <td>4545</td>\n",
              "      <td>[[0.003681049, -0.0634584, -0.017726...</td>\n",
              "      <td>(0.46877223, -0.080823936)</td>\n",
              "      <td>0.468772</td>\n",
              "      <td>-0.080824</td>\n",
              "      <td>[-0.05280330957069085]</td>\n",
              "      <td>[-0.007956429295354787]</td>\n",
              "      <td>[-0.007956429295354787]</td>\n",
              "      <td>[[-0.033676836639642715, -0.00523176...</td>\n",
              "      <td>-0.007956</td>\n",
              "      <td>green</td>\n",
              "    </tr>\n",
              "    <tr>\n",
              "      <th>23</th>\n",
              "      <td>physician</td>\n",
              "      <td>7454</td>\n",
              "      <td>[[-0.06299446, -0.062019892, -0.0350...</td>\n",
              "      <td>(0.56094396, -0.056514546)</td>\n",
              "      <td>0.560944</td>\n",
              "      <td>-0.056515</td>\n",
              "      <td>[-0.1017468420620709]</td>\n",
              "      <td>[-0.008912339437418846]</td>\n",
              "      <td>[-0.008912339437418846]</td>\n",
              "      <td>[[-0.033676836639642715, -0.00523176...</td>\n",
              "      <td>-0.008912</td>\n",
              "      <td>green</td>\n",
              "    </tr>\n",
              "    <tr>\n",
              "      <th>26</th>\n",
              "      <td>mechanic</td>\n",
              "      <td>19459</td>\n",
              "      <td>[[-0.048198067, -0.06772748, 0.06696...</td>\n",
              "      <td>(0.6232583, -0.070419736)</td>\n",
              "      <td>0.623258</td>\n",
              "      <td>-0.070420</td>\n",
              "      <td>[-0.020008244497625758]</td>\n",
              "      <td>[-0.010830885351845315]</td>\n",
              "      <td>[-0.010830885351845315]</td>\n",
              "      <td>[[-0.033676836639642715, -0.00523176...</td>\n",
              "      <td>-0.010831</td>\n",
              "      <td>green</td>\n",
              "    </tr>\n",
              "    <tr>\n",
              "      <th>20</th>\n",
              "      <td>manager</td>\n",
              "      <td>2618</td>\n",
              "      <td>[[-0.089614026, -0.055231348, -0.029...</td>\n",
              "      <td>(0.42806944, -0.10459833)</td>\n",
              "      <td>0.428069</td>\n",
              "      <td>-0.104598</td>\n",
              "      <td>[-0.0458831339705974]</td>\n",
              "      <td>[-0.017742172946862783]</td>\n",
              "      <td>[-0.017742172946862783]</td>\n",
              "      <td>[[-0.033676836639642715, -0.00523176...</td>\n",
              "      <td>-0.017742</td>\n",
              "      <td>green</td>\n",
              "    </tr>\n",
              "    <tr>\n",
              "      <th>19</th>\n",
              "      <td>carpenter</td>\n",
              "      <td>25169</td>\n",
              "      <td>[[-0.04519653, -0.09831975, 0.017806...</td>\n",
              "      <td>(0.6344102, -0.05746831)</td>\n",
              "      <td>0.634410</td>\n",
              "      <td>-0.057468</td>\n",
              "      <td>[-0.07563116517255848]</td>\n",
              "      <td>[-0.01868291036283508]</td>\n",
              "      <td>[-0.01868291036283508]</td>\n",
              "      <td>[[-0.033676836639642715, -0.00523176...</td>\n",
              "      <td>-0.018683</td>\n",
              "      <td>green</td>\n",
              "    </tr>\n",
              "    <tr>\n",
              "      <th>9</th>\n",
              "      <td>writer</td>\n",
              "      <td>2432</td>\n",
              "      <td>[[-0.041344546, -0.050933823, -0.002...</td>\n",
              "      <td>(0.3852781, -0.06356647)</td>\n",
              "      <td>0.385278</td>\n",
              "      <td>-0.063566</td>\n",
              "      <td>[-0.03920892484972951]</td>\n",
              "      <td>[-0.01902377492342848]</td>\n",
              "      <td>[-0.01902377492342848]</td>\n",
              "      <td>[[-0.033676836639642715, -0.00523176...</td>\n",
              "      <td>-0.019024</td>\n",
              "      <td>green</td>\n",
              "    </tr>\n",
              "    <tr>\n",
              "      <th>14</th>\n",
              "      <td>driver</td>\n",
              "      <td>3445</td>\n",
              "      <td>[[-0.01485783, -0.053715054, 0.01952...</td>\n",
              "      <td>(0.384778, -0.078692585)</td>\n",
              "      <td>0.384778</td>\n",
              "      <td>-0.078693</td>\n",
              "      <td>[-0.01061941813009339]</td>\n",
              "      <td>[-0.01987677278802764]</td>\n",
              "      <td>[-0.01987677278802764]</td>\n",
              "      <td>[[-0.033676836639642715, -0.00523176...</td>\n",
              "      <td>-0.019877</td>\n",
              "      <td>green</td>\n",
              "    </tr>\n",
              "    <tr>\n",
              "      <th>17</th>\n",
              "      <td>chief</td>\n",
              "      <td>2705</td>\n",
              "      <td>[[-0.07061812, -0.014045268, -0.0502...</td>\n",
              "      <td>(0.24277617, -0.0770794)</td>\n",
              "      <td>0.242776</td>\n",
              "      <td>-0.077079</td>\n",
              "      <td>[-0.0775209264720344]</td>\n",
              "      <td>[-0.025881508385425495]</td>\n",
              "      <td>[-0.025881508385425495]</td>\n",
              "      <td>[[-0.033676836639642715, -0.00523176...</td>\n",
              "      <td>-0.025882</td>\n",
              "      <td>green</td>\n",
              "    </tr>\n",
              "    <tr>\n",
              "      <th>24</th>\n",
              "      <td>guard</td>\n",
              "      <td>3542</td>\n",
              "      <td>[[-0.07519082, 0.05570798, 0.0088797...</td>\n",
              "      <td>(0.27879372, -0.03710427)</td>\n",
              "      <td>0.278794</td>\n",
              "      <td>-0.037104</td>\n",
              "      <td>[0.06705710193120588]</td>\n",
              "      <td>[-0.041591437535250464]</td>\n",
              "      <td>[-0.041591437535250464]</td>\n",
              "      <td>[[-0.033676836639642715, -0.00523176...</td>\n",
              "      <td>-0.041591</td>\n",
              "      <td>green</td>\n",
              "    </tr>\n",
              "    <tr>\n",
              "      <th>22</th>\n",
              "      <td>farmer</td>\n",
              "      <td>9230</td>\n",
              "      <td>[[-0.02873451, -0.050709575, 0.00411...</td>\n",
              "      <td>(0.5047464, -0.047808982)</td>\n",
              "      <td>0.504746</td>\n",
              "      <td>-0.047809</td>\n",
              "      <td>[-0.05149343805447053]</td>\n",
              "      <td>[-0.05173725674132207]</td>\n",
              "      <td>[-0.05173725674132207]</td>\n",
              "      <td>[[-0.033676836639642715, -0.00523176...</td>\n",
              "      <td>-0.051737</td>\n",
              "      <td>green</td>\n",
              "    </tr>\n",
              "  </tbody>\n",
              "</table>\n",
              "</div>"
            ],
            "text/plain": [
              "           word  word_id  ...       gvs  colors\n",
              "2         nurse     7439  ...  0.168021  orange\n",
              "10  housekeeper    26458  ...  0.164979  orange\n",
              "16         cook     9834  ...  0.077661  orange\n",
              "13    librarian    18280  ...  0.065748  orange\n",
              "8      designer     5592  ...  0.061373  orange\n",
              "5       cleaner    23722  ...  0.057854  orange\n",
              "7     counselor    23550  ...  0.054933  orange\n",
              "4     secretary     4848  ...  0.053865  orange\n",
              "0     attendant    19389  ...  0.031611  orange\n",
              "28          CEO     5058  ...  0.020011  orange\n",
              "12       editor     3045  ...  0.018956  orange\n",
              "11   accountant    23195  ...  0.015240  orange\n",
              "6         clerk     9477  ...  0.013579  orange\n",
              "18    developer     9991  ...  0.011138  orange\n",
              "15   supervisor    16014  ...  0.010496  orange\n",
              "25      analyst    14582  ...  0.009011  orange\n",
              "3     assistant     3109  ...  0.008152  orange\n",
              "1       teacher     3218  ...  0.006110  orange\n",
              "27      sheriff    11398  ... -0.005297   green\n",
              "21       lawyer     4545  ... -0.007956   green\n",
              "23    physician     7454  ... -0.008912   green\n",
              "26     mechanic    19459  ... -0.010831   green\n",
              "20      manager     2618  ... -0.017742   green\n",
              "19    carpenter    25169  ... -0.018683   green\n",
              "9        writer     2432  ... -0.019024   green\n",
              "14       driver     3445  ... -0.019877   green\n",
              "17        chief     2705  ... -0.025882   green\n",
              "24        guard     3542  ... -0.041591   green\n",
              "22       farmer     9230  ... -0.051737   green\n",
              "\n",
              "[29 rows x 12 columns]"
            ]
          },
          "metadata": {},
          "execution_count": 305
        }
      ]
    },
    {
      "cell_type": "code",
      "metadata": {
        "colab": {
          "base_uri": "https://localhost:8080/",
          "height": 691
        },
        "id": "mZk9AXA9GqLb",
        "outputId": "5feaadd4-7023-4f5b-dc4f-21d00dff8903"
      },
      "source": [
        "# bar chart\n",
        "\n",
        "# Draw plot\n",
        "plt.figure(figsize=(14, 10), dpi=80)\n",
        "  \n",
        "# Plotting the horizontal lines\n",
        "plt.hlines(y=df8.word, xmin=0, xmax=df8.gvs,\n",
        "           color=df8.colors, alpha=1, linewidth=8)\n",
        "  \n",
        "# Decorations\n",
        "# Setting the labels of x-axis and y-axis\n",
        "plt.gca().set(ylabel='Word', xlabel='Gender Score')\n",
        "  \n",
        "# Setting Date to y-axis\n",
        "plt.yticks(df8.word, fontsize=12)\n",
        "  \n",
        "# Title of Bar Chart\n",
        "plt.title('Gender Score', fontdict={\n",
        "          'size': 20})\n",
        "  \n",
        "# Optional grid layout\n",
        "plt.grid(linestyle='--', alpha=0.5)\n",
        "\n",
        "orange_patch = mpatches.Patch(color='orange', label='Female')\n",
        "green_patch = mpatches.Patch(color='green', label='Male')\n",
        "plt.legend(handles=[orange_patch, green_patch], loc = 'upper right')\n",
        "# Displaying the Diverging Bar Chart\n",
        "plt.show()"
      ],
      "execution_count": null,
      "outputs": [
        {
          "output_type": "display_data",
          "data": {
            "image/png": "[encoded data removed]",
            "text/plain": [
              "<Figure size 1120x800 with 1 Axes>"
            ]
          },
          "metadata": {
            "needs_background": "light"
          }
        }
      ]
    },
    {
      "cell_type": "code",
      "metadata": {
        "colab": {
          "base_uri": "https://localhost:8080/",
          "height": 654
        },
        "id": "Jnqx_GdyHvPa",
        "outputId": "6765d3ab-9573-47ff-d1b2-e78b237b9d75"
      },
      "source": [
        "import matplotlib.patches as mpatches\n",
        "# Draw plot\n",
        "plt.figure(figsize=(14, 10), dpi=80)\n",
        "#fig, ax = plt.subplots()\n",
        "plt.scatter(df8['word_x'], \n",
        "            df8['word_y'], \n",
        "            s = 20, \n",
        "            c=df8['colors'],\n",
        "            alpha=1, \n",
        "            edgecolors='none')\n",
        "orange_patch = mpatches.Patch(color='orange', label='Female')\n",
        "green_patch = mpatches.Patch(color='green', label='Male')\n",
        "plt.legend(handles=[orange_patch, green_patch], loc = 'best')\n",
        "plt.show()"
      ],
      "execution_count": null,
      "outputs": [
        {
          "output_type": "display_data",
          "data": {
            "image/png": "[encoded data removed]",
            "text/plain": [
              "<Figure size 1120x800 with 1 Axes>"
            ]
          },
          "metadata": {
            "needs_background": "light"
          }
        }
      ]
    },
    {
      "cell_type": "markdown",
      "metadata": {
        "id": "zLjbkStTLZX2"
      },
      "source": [
        ""
      ]
    },
    {
      "cell_type": "markdown",
      "metadata": {
        "id": "2SON2ms8LZa0"
      },
      "source": [
        "## **CORRELATION WITH LABOUR MARKET STATISTICS**"
      ]
    },
    {
      "cell_type": "code",
      "metadata": {
        "id": "1AU2xB8ILeGo"
      },
      "source": [
        "# read in data from Garg \n",
        "\n",
        "import pandas as pd\n",
        "\n",
        "occ_perc = pd.read_csv (r'occupation_percentages_fromGARG.txt')\n",
        "occ_perc.to_csv (r'occ_perc.csv', index=None)"
      ],
      "execution_count": null,
      "outputs": []
    },
    {
      "cell_type": "code",
      "metadata": {
        "colab": {
          "base_uri": "https://localhost:8080/",
          "height": 414
        },
        "id": "DqbfaItgLvx4",
        "outputId": "6bd6f55d-1b8c-499f-b699-a94788b13295"
      },
      "source": [
        "occ_perc"
      ],
      "execution_count": null,
      "outputs": [
        {
          "output_type": "execute_result",
          "data": {
            "text/html": [
              "<div>\n",
              "<style scoped>\n",
              "    .dataframe tbody tr th:only-of-type {\n",
              "        vertical-align: middle;\n",
              "    }\n",
              "\n",
              "    .dataframe tbody tr th {\n",
              "        vertical-align: top;\n",
              "    }\n",
              "\n",
              "    .dataframe thead th {\n",
              "        text-align: right;\n",
              "    }\n",
              "</style>\n",
              "<table border=\"1\" class=\"dataframe\">\n",
              "  <thead>\n",
              "    <tr style=\"text-align: right;\">\n",
              "      <th></th>\n",
              "      <th>Census year</th>\n",
              "      <th>Occupation</th>\n",
              "      <th>Total Weight</th>\n",
              "      <th>Female</th>\n",
              "      <th>Male</th>\n",
              "    </tr>\n",
              "  </thead>\n",
              "  <tbody>\n",
              "    <tr>\n",
              "      <th>0</th>\n",
              "      <td>2007</td>\n",
              "      <td>judge</td>\n",
              "      <td>1128029.0</td>\n",
              "      <td>0.337325</td>\n",
              "      <td>0.662675</td>\n",
              "    </tr>\n",
              "    <tr>\n",
              "      <th>1</th>\n",
              "      <td>1990</td>\n",
              "      <td>bookbinder</td>\n",
              "      <td>37767.0</td>\n",
              "      <td>0.559192</td>\n",
              "      <td>0.440808</td>\n",
              "    </tr>\n",
              "    <tr>\n",
              "      <th>2</th>\n",
              "      <td>1960</td>\n",
              "      <td>salesperson</td>\n",
              "      <td>402520.0</td>\n",
              "      <td>0.367684</td>\n",
              "      <td>0.632316</td>\n",
              "    </tr>\n",
              "    <tr>\n",
              "      <th>3</th>\n",
              "      <td>2000</td>\n",
              "      <td>broker</td>\n",
              "      <td>2202877.0</td>\n",
              "      <td>0.568766</td>\n",
              "      <td>0.431234</td>\n",
              "    </tr>\n",
              "    <tr>\n",
              "      <th>4</th>\n",
              "      <td>2007</td>\n",
              "      <td>dancer</td>\n",
              "      <td>27296.0</td>\n",
              "      <td>0.792424</td>\n",
              "      <td>0.207576</td>\n",
              "    </tr>\n",
              "    <tr>\n",
              "      <th>...</th>\n",
              "      <td>...</td>\n",
              "      <td>...</td>\n",
              "      <td>...</td>\n",
              "      <td>...</td>\n",
              "      <td>...</td>\n",
              "    </tr>\n",
              "    <tr>\n",
              "      <th>3275</th>\n",
              "      <td>2011</td>\n",
              "      <td>machinist</td>\n",
              "      <td>433226.0</td>\n",
              "      <td>0.051147</td>\n",
              "      <td>0.948853</td>\n",
              "    </tr>\n",
              "    <tr>\n",
              "      <th>3276</th>\n",
              "      <td>2015</td>\n",
              "      <td>welder</td>\n",
              "      <td>761642.0</td>\n",
              "      <td>0.052389</td>\n",
              "      <td>0.947611</td>\n",
              "    </tr>\n",
              "    <tr>\n",
              "      <th>3277</th>\n",
              "      <td>2014</td>\n",
              "      <td>janitor</td>\n",
              "      <td>5889048.0</td>\n",
              "      <td>0.536221</td>\n",
              "      <td>0.463779</td>\n",
              "    </tr>\n",
              "    <tr>\n",
              "      <th>3278</th>\n",
              "      <td>1940</td>\n",
              "      <td>plasterer</td>\n",
              "      <td>59828.0</td>\n",
              "      <td>0.015043</td>\n",
              "      <td>0.984957</td>\n",
              "    </tr>\n",
              "    <tr>\n",
              "      <th>3279</th>\n",
              "      <td>2001</td>\n",
              "      <td>electrician</td>\n",
              "      <td>872516.0</td>\n",
              "      <td>0.028825</td>\n",
              "      <td>0.971175</td>\n",
              "    </tr>\n",
              "  </tbody>\n",
              "</table>\n",
              "<p>3280 rows × 5 columns</p>\n",
              "</div>"
            ],
            "text/plain": [
              "      Census year   Occupation  Total Weight    Female      Male\n",
              "0            2007        judge     1128029.0  0.337325  0.662675\n",
              "1            1990   bookbinder       37767.0  0.559192  0.440808\n",
              "2            1960  salesperson      402520.0  0.367684  0.632316\n",
              "3            2000       broker     2202877.0  0.568766  0.431234\n",
              "4            2007       dancer       27296.0  0.792424  0.207576\n",
              "...           ...          ...           ...       ...       ...\n",
              "3275         2011    machinist      433226.0  0.051147  0.948853\n",
              "3276         2015       welder      761642.0  0.052389  0.947611\n",
              "3277         2014      janitor     5889048.0  0.536221  0.463779\n",
              "3278         1940    plasterer       59828.0  0.015043  0.984957\n",
              "3279         2001  electrician      872516.0  0.028825  0.971175\n",
              "\n",
              "[3280 rows x 5 columns]"
            ]
          },
          "metadata": {},
          "execution_count": 323
        }
      ]
    },
    {
      "cell_type": "code",
      "metadata": {
        "colab": {
          "base_uri": "https://localhost:8080/",
          "height": 405
        },
        "id": "zYM9Cg_7MCf7",
        "outputId": "1949aeb9-be92-416b-b766-eaf30dd12660"
      },
      "source": [
        "occ_perc_merge = df8.merge(occ_perc, left_on='word', right_on='Occupation', how='left')\n",
        "occ_perc_merge = occ_perc_merge.drop_duplicates(subset='word', keep=\"first\")\n",
        "occ_perc_merge.head()"
      ],
      "execution_count": null,
      "outputs": [
        {
          "output_type": "execute_result",
          "data": {
            "text/html": [
              "<div>\n",
              "<style scoped>\n",
              "    .dataframe tbody tr th:only-of-type {\n",
              "        vertical-align: middle;\n",
              "    }\n",
              "\n",
              "    .dataframe tbody tr th {\n",
              "        vertical-align: top;\n",
              "    }\n",
              "\n",
              "    .dataframe thead th {\n",
              "        text-align: right;\n",
              "    }\n",
              "</style>\n",
              "<table border=\"1\" class=\"dataframe\">\n",
              "  <thead>\n",
              "    <tr style=\"text-align: right;\">\n",
              "      <th></th>\n",
              "      <th>word</th>\n",
              "      <th>word_id</th>\n",
              "      <th>word_vec</th>\n",
              "      <th>word_xy</th>\n",
              "      <th>word_x</th>\n",
              "      <th>word_y</th>\n",
              "      <th>gender_score</th>\n",
              "      <th>gender__vector_score</th>\n",
              "      <th>gender_vector_score</th>\n",
              "      <th>gender1</th>\n",
              "      <th>gvs</th>\n",
              "      <th>colors</th>\n",
              "      <th>Census year</th>\n",
              "      <th>Occupation</th>\n",
              "      <th>Total Weight</th>\n",
              "      <th>Female</th>\n",
              "      <th>Male</th>\n",
              "    </tr>\n",
              "  </thead>\n",
              "  <tbody>\n",
              "    <tr>\n",
              "      <th>0</th>\n",
              "      <td>nurse</td>\n",
              "      <td>7439</td>\n",
              "      <td>[[-0.043522343, -0.07187326, -0.0222...</td>\n",
              "      <td>(0.50982094, -0.11020863)</td>\n",
              "      <td>0.509821</td>\n",
              "      <td>-0.110209</td>\n",
              "      <td>[-0.0539946007855687]</td>\n",
              "      <td>[0.16802116846817033]</td>\n",
              "      <td>[0.16802116846817033]</td>\n",
              "      <td>[[-0.033676836639642715, -0.00523176...</td>\n",
              "      <td>0.168021</td>\n",
              "      <td>orange</td>\n",
              "      <td>1900.0</td>\n",
              "      <td>nurse</td>\n",
              "      <td>115193.26</td>\n",
              "      <td>0.936499</td>\n",
              "      <td>0.063501</td>\n",
              "    </tr>\n",
              "    <tr>\n",
              "      <th>30</th>\n",
              "      <td>housekeeper</td>\n",
              "      <td>26458</td>\n",
              "      <td>[[0.017081143, -0.037035644, 0.03373...</td>\n",
              "      <td>(0.67791027, -0.12682642)</td>\n",
              "      <td>0.677910</td>\n",
              "      <td>-0.126826</td>\n",
              "      <td>[-0.07363718967864974]</td>\n",
              "      <td>[0.16497899075348735]</td>\n",
              "      <td>[0.16497899075348735]</td>\n",
              "      <td>[[-0.033676836639642715, -0.00523176...</td>\n",
              "      <td>0.164979</td>\n",
              "      <td>orange</td>\n",
              "      <td>2008.0</td>\n",
              "      <td>housekeeper</td>\n",
              "      <td>156346.00</td>\n",
              "      <td>0.791507</td>\n",
              "      <td>0.208493</td>\n",
              "    </tr>\n",
              "    <tr>\n",
              "      <th>60</th>\n",
              "      <td>cook</td>\n",
              "      <td>9834</td>\n",
              "      <td>[[-0.0135600725, -0.052522752, -0.02...</td>\n",
              "      <td>(0.5077577, -0.09599425)</td>\n",
              "      <td>0.507758</td>\n",
              "      <td>-0.095994</td>\n",
              "      <td>[-0.02857456400988334]</td>\n",
              "      <td>[0.07766088726590478]</td>\n",
              "      <td>[0.07766088726590478]</td>\n",
              "      <td>[[-0.033676836639642715, -0.00523176...</td>\n",
              "      <td>0.077661</td>\n",
              "      <td>orange</td>\n",
              "      <td>2009.0</td>\n",
              "      <td>cook</td>\n",
              "      <td>5365084.00</td>\n",
              "      <td>0.496321</td>\n",
              "      <td>0.503679</td>\n",
              "    </tr>\n",
              "    <tr>\n",
              "      <th>90</th>\n",
              "      <td>librarian</td>\n",
              "      <td>18280</td>\n",
              "      <td>[[0.02209205, -0.0816464, -0.0415484...</td>\n",
              "      <td>(0.69067955, -0.12939934)</td>\n",
              "      <td>0.690680</td>\n",
              "      <td>-0.129399</td>\n",
              "      <td>[-0.03613128418506155]</td>\n",
              "      <td>[0.06574791260983764]</td>\n",
              "      <td>[0.06574791260983764]</td>\n",
              "      <td>[[-0.033676836639642715, -0.00523176...</td>\n",
              "      <td>0.065748</td>\n",
              "      <td>orange</td>\n",
              "      <td>2006.0</td>\n",
              "      <td>librarian</td>\n",
              "      <td>2342933.00</td>\n",
              "      <td>0.874226</td>\n",
              "      <td>0.125774</td>\n",
              "    </tr>\n",
              "    <tr>\n",
              "      <th>120</th>\n",
              "      <td>designer</td>\n",
              "      <td>5592</td>\n",
              "      <td>[[-0.090065554, -0.025961962, 0.0549...</td>\n",
              "      <td>(0.4875051, -0.11800066)</td>\n",
              "      <td>0.487505</td>\n",
              "      <td>-0.118001</td>\n",
              "      <td>[-0.09714058245609836]</td>\n",
              "      <td>[0.061372851650850754]</td>\n",
              "      <td>[0.061372851650850754]</td>\n",
              "      <td>[[-0.033676836639642715, -0.00523176...</td>\n",
              "      <td>0.061373</td>\n",
              "      <td>orange</td>\n",
              "      <td>2005.0</td>\n",
              "      <td>designer</td>\n",
              "      <td>957604.00</td>\n",
              "      <td>0.585572</td>\n",
              "      <td>0.414428</td>\n",
              "    </tr>\n",
              "  </tbody>\n",
              "</table>\n",
              "</div>"
            ],
            "text/plain": [
              "            word  word_id  ...    Female      Male\n",
              "0          nurse     7439  ...  0.936499  0.063501\n",
              "30   housekeeper    26458  ...  0.791507  0.208493\n",
              "60          cook     9834  ...  0.496321  0.503679\n",
              "90     librarian    18280  ...  0.874226  0.125774\n",
              "120     designer     5592  ...  0.585572  0.414428\n",
              "\n",
              "[5 rows x 17 columns]"
            ]
          },
          "metadata": {},
          "execution_count": 362
        }
      ]
    },
    {
      "cell_type": "code",
      "metadata": {
        "colab": {
          "base_uri": "https://localhost:8080/",
          "height": 1000
        },
        "id": "ie-TSKruNXSX",
        "outputId": "d4b108dd-bf0f-427e-c7e4-702a96871d0c"
      },
      "source": [
        "# SAME BUT FOR MOST BIASED\n",
        "# Draw plot\n",
        "plt.figure(figsize=(14, 10), dpi=80)\n",
        "#fig, ax = plt.subplots()\n",
        "plt.scatter(occ_perc_merge['Female'], \n",
        "            occ_perc_merge['gvs'], \n",
        "            s = 20,\n",
        "            alpha=1, \n",
        "            edgecolors='none')\n",
        "# orange_patch = mpatches.Patch(color='orange', label='Female')\n",
        "# green_patch = mpatches.Patch(color='green', label='Male')\n",
        "# plt.legend(handles=[orange_patch, green_patch], loc = 'best')\n",
        "plt.show()\n",
        "\n",
        "m, b = np.polyfit(occ_perc_merge['Female'], occ_perc_merge['gvs'], 1)\n",
        "\n",
        "#add linear regression line to scatterplot \n",
        "plt.plot(x, m*x+b)"
      ],
      "execution_count": null,
      "outputs": [
        {
          "output_type": "display_data",
          "data": {
            "image/png": "[encoded data removed]",
            "text/plain": [
              "<Figure size 1120x800 with 1 Axes>"
            ]
          },
          "metadata": {
            "needs_background": "light"
          }
        },
        {
          "output_type": "error",
          "ename": "ValueError",
          "evalue": "ignored",
          "traceback": [
            "\u001b[0;31m---------------------------------------------------------------------------\u001b[0m",
            "\u001b[0;31mValueError\u001b[0m                                Traceback (most recent call last)",
            "\u001b[0;32m<ipython-input-331-fef0f89ca204>\u001b[0m in \u001b[0;36m<module>\u001b[0;34m()\u001b[0m\n\u001b[1;32m     13\u001b[0m \u001b[0mplt\u001b[0m\u001b[0;34m.\u001b[0m\u001b[0mshow\u001b[0m\u001b[0;34m(\u001b[0m\u001b[0;34m)\u001b[0m\u001b[0;34m\u001b[0m\u001b[0;34m\u001b[0m\u001b[0m\n\u001b[1;32m     14\u001b[0m \u001b[0;34m\u001b[0m\u001b[0m\n\u001b[0;32m---> 15\u001b[0;31m \u001b[0mm\u001b[0m\u001b[0;34m,\u001b[0m \u001b[0mb\u001b[0m \u001b[0;34m=\u001b[0m \u001b[0mnp\u001b[0m\u001b[0;34m.\u001b[0m\u001b[0mpolyfit\u001b[0m\u001b[0;34m(\u001b[0m\u001b[0mocc_perc_merge\u001b[0m\u001b[0;34m[\u001b[0m\u001b[0;34m'Female'\u001b[0m\u001b[0;34m]\u001b[0m\u001b[0;34m,\u001b[0m \u001b[0mocc_perc_merge\u001b[0m\u001b[0;34m[\u001b[0m\u001b[0;34m'gvs'\u001b[0m\u001b[0;34m]\u001b[0m\u001b[0;34m,\u001b[0m \u001b[0;36m1\u001b[0m\u001b[0;34m)\u001b[0m\u001b[0;34m\u001b[0m\u001b[0;34m\u001b[0m\u001b[0m\n\u001b[0m\u001b[1;32m     16\u001b[0m \u001b[0;34m\u001b[0m\u001b[0m\n\u001b[1;32m     17\u001b[0m \u001b[0;31m#add linear regression line to scatterplot\u001b[0m\u001b[0;34m\u001b[0m\u001b[0;34m\u001b[0m\u001b[0;34m\u001b[0m\u001b[0m\n",
            "\u001b[0;32m<__array_function__ internals>\u001b[0m in \u001b[0;36mpolyfit\u001b[0;34m(*args, **kwargs)\u001b[0m\n",
            "\u001b[0;32m/usr/local/lib/python3.7/dist-packages/numpy/lib/polynomial.py\u001b[0m in \u001b[0;36mpolyfit\u001b[0;34m(x, y, deg, rcond, full, w, cov)\u001b[0m\n\u001b[1;32m    627\u001b[0m     \u001b[0mscale\u001b[0m \u001b[0;34m=\u001b[0m \u001b[0mNX\u001b[0m\u001b[0;34m.\u001b[0m\u001b[0msqrt\u001b[0m\u001b[0;34m(\u001b[0m\u001b[0;34m(\u001b[0m\u001b[0mlhs\u001b[0m\u001b[0;34m*\u001b[0m\u001b[0mlhs\u001b[0m\u001b[0;34m)\u001b[0m\u001b[0;34m.\u001b[0m\u001b[0msum\u001b[0m\u001b[0;34m(\u001b[0m\u001b[0maxis\u001b[0m\u001b[0;34m=\u001b[0m\u001b[0;36m0\u001b[0m\u001b[0;34m)\u001b[0m\u001b[0;34m)\u001b[0m\u001b[0;34m\u001b[0m\u001b[0;34m\u001b[0m\u001b[0m\n\u001b[1;32m    628\u001b[0m     \u001b[0mlhs\u001b[0m \u001b[0;34m/=\u001b[0m \u001b[0mscale\u001b[0m\u001b[0;34m\u001b[0m\u001b[0;34m\u001b[0m\u001b[0m\n\u001b[0;32m--> 629\u001b[0;31m     \u001b[0mc\u001b[0m\u001b[0;34m,\u001b[0m \u001b[0mresids\u001b[0m\u001b[0;34m,\u001b[0m \u001b[0mrank\u001b[0m\u001b[0;34m,\u001b[0m \u001b[0ms\u001b[0m \u001b[0;34m=\u001b[0m \u001b[0mlstsq\u001b[0m\u001b[0;34m(\u001b[0m\u001b[0mlhs\u001b[0m\u001b[0;34m,\u001b[0m \u001b[0mrhs\u001b[0m\u001b[0;34m,\u001b[0m \u001b[0mrcond\u001b[0m\u001b[0;34m)\u001b[0m\u001b[0;34m\u001b[0m\u001b[0;34m\u001b[0m\u001b[0m\n\u001b[0m\u001b[1;32m    630\u001b[0m     \u001b[0mc\u001b[0m \u001b[0;34m=\u001b[0m \u001b[0;34m(\u001b[0m\u001b[0mc\u001b[0m\u001b[0;34m.\u001b[0m\u001b[0mT\u001b[0m\u001b[0;34m/\u001b[0m\u001b[0mscale\u001b[0m\u001b[0;34m)\u001b[0m\u001b[0;34m.\u001b[0m\u001b[0mT\u001b[0m  \u001b[0;31m# broadcast scale coefficients\u001b[0m\u001b[0;34m\u001b[0m\u001b[0;34m\u001b[0m\u001b[0m\n\u001b[1;32m    631\u001b[0m \u001b[0;34m\u001b[0m\u001b[0m\n",
            "\u001b[0;32m<__array_function__ internals>\u001b[0m in \u001b[0;36mlstsq\u001b[0;34m(*args, **kwargs)\u001b[0m\n",
            "\u001b[0;32m/usr/local/lib/python3.7/dist-packages/numpy/linalg/linalg.py\u001b[0m in \u001b[0;36mlstsq\u001b[0;34m(a, b, rcond)\u001b[0m\n\u001b[1;32m   2304\u001b[0m         \u001b[0;31m# lapack can't handle n_rhs = 0 - so allocate the array one larger in that axis\u001b[0m\u001b[0;34m\u001b[0m\u001b[0;34m\u001b[0m\u001b[0;34m\u001b[0m\u001b[0m\n\u001b[1;32m   2305\u001b[0m         \u001b[0mb\u001b[0m \u001b[0;34m=\u001b[0m \u001b[0mzeros\u001b[0m\u001b[0;34m(\u001b[0m\u001b[0mb\u001b[0m\u001b[0;34m.\u001b[0m\u001b[0mshape\u001b[0m\u001b[0;34m[\u001b[0m\u001b[0;34m:\u001b[0m\u001b[0;34m-\u001b[0m\u001b[0;36m2\u001b[0m\u001b[0;34m]\u001b[0m \u001b[0;34m+\u001b[0m \u001b[0;34m(\u001b[0m\u001b[0mm\u001b[0m\u001b[0;34m,\u001b[0m \u001b[0mn_rhs\u001b[0m \u001b[0;34m+\u001b[0m \u001b[0;36m1\u001b[0m\u001b[0;34m)\u001b[0m\u001b[0;34m,\u001b[0m \u001b[0mdtype\u001b[0m\u001b[0;34m=\u001b[0m\u001b[0mb\u001b[0m\u001b[0;34m.\u001b[0m\u001b[0mdtype\u001b[0m\u001b[0;34m)\u001b[0m\u001b[0;34m\u001b[0m\u001b[0;34m\u001b[0m\u001b[0m\n\u001b[0;32m-> 2306\u001b[0;31m     \u001b[0mx\u001b[0m\u001b[0;34m,\u001b[0m \u001b[0mresids\u001b[0m\u001b[0;34m,\u001b[0m \u001b[0mrank\u001b[0m\u001b[0;34m,\u001b[0m \u001b[0ms\u001b[0m \u001b[0;34m=\u001b[0m \u001b[0mgufunc\u001b[0m\u001b[0;34m(\u001b[0m\u001b[0ma\u001b[0m\u001b[0;34m,\u001b[0m \u001b[0mb\u001b[0m\u001b[0;34m,\u001b[0m \u001b[0mrcond\u001b[0m\u001b[0;34m,\u001b[0m \u001b[0msignature\u001b[0m\u001b[0;34m=\u001b[0m\u001b[0msignature\u001b[0m\u001b[0;34m,\u001b[0m \u001b[0mextobj\u001b[0m\u001b[0;34m=\u001b[0m\u001b[0mextobj\u001b[0m\u001b[0;34m)\u001b[0m\u001b[0;34m\u001b[0m\u001b[0;34m\u001b[0m\u001b[0m\n\u001b[0m\u001b[1;32m   2307\u001b[0m     \u001b[0;32mif\u001b[0m \u001b[0mm\u001b[0m \u001b[0;34m==\u001b[0m \u001b[0;36m0\u001b[0m\u001b[0;34m:\u001b[0m\u001b[0;34m\u001b[0m\u001b[0;34m\u001b[0m\u001b[0m\n\u001b[1;32m   2308\u001b[0m         \u001b[0mx\u001b[0m\u001b[0;34m[\u001b[0m\u001b[0;34m...\u001b[0m\u001b[0;34m]\u001b[0m \u001b[0;34m=\u001b[0m \u001b[0;36m0\u001b[0m\u001b[0;34m\u001b[0m\u001b[0;34m\u001b[0m\u001b[0m\n",
            "\u001b[0;31mValueError\u001b[0m: On entry to DLASCL parameter number 4 had an illegal value"
          ]
        }
      ]
    },
    {
      "cell_type": "code",
      "metadata": {
        "colab": {
          "base_uri": "https://localhost:8080/",
          "height": 1000
        },
        "id": "qQhNORFROGDu",
        "outputId": "deafb5ad-b5bb-4643-c726-03a8bf908add"
      },
      "source": [
        "plt.figure(figsize=(14, 10), dpi=80)\n",
        "ax = sns.regplot(x='Female', \n",
        "            y=\"gvs\", \n",
        "            data=occ_perc_merge);\n",
        "\n",
        "ax.set(xlabel='Women Occupation % Difference', ylabel='Women Embedding Bias')\n",
        "\n",
        "\n",
        "def label_point(x, y, val, ax):\n",
        "    a = pd.concat({'x': x, 'y': y, 'val': val}, axis=1)\n",
        "    for i, point in a.iterrows():\n",
        "        ax.text(point['x']+.005, point['y'], str(point['val']))\n",
        "\n",
        "label_point(occ_perc_merge.Female, occ_perc_merge.gvs, occ_perc_merge.word, ax) \n",
        "plt.show()\n",
        "\n"
      ],
      "execution_count": null,
      "outputs": [
        {
          "output_type": "stream",
          "name": "stderr",
          "text": [
            "posx and posy should be finite values\n",
            "posx and posy should be finite values\n",
            "posx and posy should be finite values\n",
            "posx and posy should be finite values\n",
            "posx and posy should be finite values\n",
            "posx and posy should be finite values\n",
            "posx and posy should be finite values\n",
            "posx and posy should be finite values\n",
            "posx and posy should be finite values\n",
            "posx and posy should be finite values\n",
            "posx and posy should be finite values\n",
            "posx and posy should be finite values\n",
            "posx and posy should be finite values\n",
            "posx and posy should be finite values\n",
            "posx and posy should be finite values\n",
            "posx and posy should be finite values\n",
            "posx and posy should be finite values\n",
            "posx and posy should be finite values\n",
            "posx and posy should be finite values\n",
            "posx and posy should be finite values\n"
          ]
        },
        {
          "output_type": "display_data",
          "data": {
            "image/png": "[encoded data removed]",
            "text/plain": [
              "<Figure size 1120x800 with 1 Axes>"
            ]
          },
          "metadata": {
            "needs_background": "light"
          }
        }
      ]
    },
    {
      "cell_type": "code",
      "metadata": {
        "id": "fB4pe6HwNI2S"
      },
      "source": [
        "# CALCULATING THE REGRESSION \n",
        "\n",
        "import numpy as np\n",
        "from sklearn.linear_model import LinearRegression"
      ],
      "execution_count": null,
      "outputs": []
    },
    {
      "cell_type": "code",
      "metadata": {
        "id": "_Zs_ZyNkXP6C"
      },
      "source": [
        "# remove NA data from dataframe \n",
        "occ_perc_merge = occ_perc_merge.dropna()"
      ],
      "execution_count": null,
      "outputs": []
    },
    {
      "cell_type": "code",
      "metadata": {
        "id": "CkmwwmV5Wo7t"
      },
      "source": [
        "x = occ_perc_merge.Female.values.reshape(-1, 1)\n",
        "y = occ_perc_merge.gvs.values.reshape(-1, 1)"
      ],
      "execution_count": null,
      "outputs": []
    },
    {
      "cell_type": "code",
      "metadata": {
        "colab": {
          "base_uri": "https://localhost:8080/"
        },
        "id": "5L-moxUlW2Va",
        "outputId": "b736a969-8cdd-45c7-cc88-222c937987d6"
      },
      "source": [
        "model = LinearRegression()\n",
        "model.fit(x, y)"
      ],
      "execution_count": null,
      "outputs": [
        {
          "output_type": "execute_result",
          "data": {
            "text/plain": [
              "LinearRegression(copy_X=True, fit_intercept=True, n_jobs=None, normalize=False)"
            ]
          },
          "metadata": {},
          "execution_count": 370
        }
      ]
    },
    {
      "cell_type": "code",
      "metadata": {
        "colab": {
          "base_uri": "https://localhost:8080/"
        },
        "id": "9bZByePZXn4S",
        "outputId": "744f2115-2d95-4bb9-f2c1-370f1c115998"
      },
      "source": [
        "r_sq = model.score(x, y)\n",
        "print('coefficient of determination:', r_sq)"
      ],
      "execution_count": null,
      "outputs": [
        {
          "output_type": "stream",
          "name": "stdout",
          "text": [
            "coefficient of determination: 0.5907619741335379\n"
          ]
        }
      ]
    },
    {
      "cell_type": "code",
      "metadata": {
        "colab": {
          "base_uri": "https://localhost:8080/"
        },
        "id": "rS42qJ6GXr3Y",
        "outputId": "6384d3fe-e48d-40d7-e723-c27fa0dfdf35"
      },
      "source": [
        "print('intercept:', model.intercept_)\n",
        "print('slope:', model.coef_)"
      ],
      "execution_count": null,
      "outputs": [
        {
          "output_type": "stream",
          "name": "stdout",
          "text": [
            "intercept: [-0.04240603]\n",
            "slope: [[0.1512285]]\n"
          ]
        }
      ]
    },
    {
      "cell_type": "code",
      "metadata": {
        "colab": {
          "base_uri": "https://localhost:8080/"
        },
        "id": "zTM2JTcVYFQJ",
        "outputId": "fb0d29b3-b91d-4cb4-ad98-3131b1d5a389"
      },
      "source": [
        "import statsmodels.api as sm\n",
        "X2 = sm.add_constant(x)\n",
        "est = sm.OLS(y, X2)\n",
        "est2 = est.fit()\n",
        "print(est2.summary())"
      ],
      "execution_count": null,
      "outputs": [
        {
          "output_type": "stream",
          "name": "stdout",
          "text": [
            "                            OLS Regression Results                            \n",
            "==============================================================================\n",
            "Dep. Variable:                      y   R-squared:                       0.591\n",
            "Model:                            OLS   Adj. R-squared:                  0.567\n",
            "Method:                 Least Squares   F-statistic:                     24.54\n",
            "Date:                Sat, 09 Oct 2021   Prob (F-statistic):           0.000121\n",
            "Time:                        18:46:57   Log-Likelihood:                 35.070\n",
            "No. Observations:                  19   AIC:                            -66.14\n",
            "Df Residuals:                      17   BIC:                            -64.25\n",
            "Df Model:                           1                                         \n",
            "Covariance Type:            nonrobust                                         \n",
            "==============================================================================\n",
            "                 coef    std err          t      P>|t|      [0.025      0.975]\n",
            "------------------------------------------------------------------------------\n",
            "const         -0.0424      0.016     -2.575      0.020      -0.077      -0.008\n",
            "x1             0.1512      0.031      4.954      0.000       0.087       0.216\n",
            "==============================================================================\n",
            "Omnibus:                        1.607   Durbin-Watson:                   1.291\n",
            "Prob(Omnibus):                  0.448   Jarque-Bera (JB):                0.763\n",
            "Skew:                           0.490   Prob(JB):                        0.683\n",
            "Kurtosis:                       3.067   Cond. No.                         4.00\n",
            "==============================================================================\n",
            "\n",
            "Warnings:\n",
            "[1] Standard Errors assume that the covariance matrix of the errors is correctly specified.\n"
          ]
        },
        {
          "output_type": "stream",
          "name": "stderr",
          "text": [
            "/usr/local/lib/python3.7/dist-packages/scipy/stats/stats.py:1535: UserWarning: kurtosistest only valid for n>=20 ... continuing anyway, n=19\n",
            "  \"anyway, n=%i\" % int(n))\n"
          ]
        }
      ]
    },
    {
      "cell_type": "code",
      "metadata": {
        "colab": {
          "base_uri": "https://localhost:8080/"
        },
        "id": "IlGPdRKFYcSZ",
        "outputId": "cb79cd29-7768-473c-cdec-a6c6be08d393"
      },
      "source": [
        "import statsmodels.api as sm\n",
        "mod = sm.OLS(y,x)\n",
        "fii = mod.fit()\n",
        "p_values = fii.summary2().tables[1]['P>|t|']\n",
        "p_values"
      ],
      "execution_count": null,
      "outputs": [
        {
          "output_type": "stream",
          "name": "stderr",
          "text": [
            "/usr/local/lib/python3.7/dist-packages/scipy/stats/stats.py:1535: UserWarning: kurtosistest only valid for n>=20 ... continuing anyway, n=19\n",
            "  \"anyway, n=%i\" % int(n))\n"
          ]
        },
        {
          "output_type": "execute_result",
          "data": {
            "text/plain": [
              "x1    0.00036\n",
              "Name: P>|t|, dtype: float64"
            ]
          },
          "metadata": {},
          "execution_count": 377
        }
      ]
    }
  ]
}